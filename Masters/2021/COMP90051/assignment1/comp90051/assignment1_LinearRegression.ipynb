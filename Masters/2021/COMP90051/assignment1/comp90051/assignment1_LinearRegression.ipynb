{
 "cells": [
  {
   "cell_type": "markdown",
   "metadata": {},
   "source": [
    "# Linear Regression Link Prediction\n",
    "\n",
    "> Kaggle Score = 0.76014"
   ]
  },
  {
   "cell_type": "markdown",
   "metadata": {},
   "source": [
    "## 1. Imports"
   ]
  },
  {
   "cell_type": "code",
   "execution_count": 1,
   "metadata": {},
   "outputs": [],
   "source": [
    "import pandas as pd\n",
    "import networkx as nx\n",
    "import sklearn\n",
    "import math\n",
    "from sklearn.linear_model import LinearRegression\n",
    "from sklearn.model_selection import cross_val_score"
   ]
  },
  {
   "cell_type": "markdown",
   "metadata": {},
   "source": [
    "## 2. Feature Generation"
   ]
  },
  {
   "cell_type": "code",
   "execution_count": 2,
   "metadata": {},
   "outputs": [],
   "source": [
    "def loadTrainDataAsUndirectedGraph():\n",
    "    filename = \"train.txt\"\n",
    "    rows = [line.rstrip(\"\\n\") for line in open(filename)]\n",
    "    g = nx.Graph()\n",
    "    for row in rows:\n",
    "        authorIds = row.split()\n",
    "        for i, author in enumerate(authorIds):\n",
    "            for coauthor in authorIds[i+1:]:\n",
    "                if g.has_edge(author, coauthor):\n",
    "                    g[author][coauthor]['frequency'] += 1\n",
    "                else:\n",
    "                    g.add_edge(author, coauthor, frequency=1)\n",
    "    return g"
   ]
  },
  {
   "cell_type": "code",
   "execution_count": 3,
   "metadata": {},
   "outputs": [],
   "source": [
    "def createBalancedData(graph):\n",
    "    allAuthors = list(graph.nodes)\n",
    "    trueInstances = []\n",
    "    falseInstances = []\n",
    "    print('Authors to iterate:',len(allAuthors) )\n",
    "    \n",
    "    # Get true instances and false instances\n",
    "    for i, author1 in enumerate(allAuthors):\n",
    "        if(i%100==0): print('.', end='') # Status indicator\n",
    "        for author2 in allAuthors[i+1:]:\n",
    "            if graph.has_edge(author1, author2):\n",
    "                freq = graph[author1][author2]['frequency']\n",
    "                if freq > 1:\n",
    "                    # True instances\n",
    "                    trueInstances.append({\n",
    "                        \"Source\": author1,\n",
    "                        \"Sink\": author2,\n",
    "                        \"Freq\": graph[author1][author2]['frequency'],\n",
    "                        \"Coauthor\": 1 })\n",
    "            else:\n",
    "                # False instances (instances that are more than 3 hops away)\n",
    "                author1Neighbors = list(nx.all_neighbors(graph, author1))\n",
    "                author2Neighbors = list(nx.all_neighbors(graph, author2))\n",
    "                if (len(author1Neighbors)==1 and len(author2Neighbors)==1):\n",
    "                    common = len(list(nx.common_neighbors(graph, author1Neighbors[0], author2Neighbors[0])))\n",
    "                    if common == 0:\n",
    "                        falseInstances.append({\n",
    "                            \"Source\": author1,\n",
    "                            \"Sink\": author2,\n",
    "                            \"Freq\": 0,\n",
    "                            \"Coauthor\": 0 })\n",
    "    print('')\n",
    "    \n",
    "    # Downsample false instances\n",
    "    numTrue = len(trueInstances)\n",
    "    falseInstances = sklearn.utils.resample(\n",
    "                        falseInstances,\n",
    "                        n_samples=numTrue,\n",
    "                        random_state=0)  # TODO: Hardcoded random state\n",
    "    \n",
    "    print('Generated',numTrue,'instances where coauthor=True')\n",
    "    print('Generated',len(falseInstances),'instances where coauthor=False')\n",
    "    \n",
    "    # Shuffle training data\n",
    "    data = sklearn.utils.shuffle(trueInstances+falseInstances, random_state=0) # TODO: Hardcoded random state\n",
    "    return pd.DataFrame(data=data)"
   ]
  },
  {
   "cell_type": "code",
   "execution_count": 4,
   "metadata": {},
   "outputs": [],
   "source": [
    "def shortestDistance(graph, n1, n2):\n",
    "    try: return len(nx.dijkstra_path(graph, source=n1, target=n2)) - 1\n",
    "    except: return 100"
   ]
  },
  {
   "cell_type": "code",
   "execution_count": 5,
   "metadata": {},
   "outputs": [],
   "source": [
    "def commonNeighbours(graph, n1, n2):\n",
    "    try: return len(list(nx.common_neighbors(graph, n1, n2)))\n",
    "    except: return 0"
   ]
  },
  {
   "cell_type": "code",
   "execution_count": 6,
   "metadata": {},
   "outputs": [],
   "source": [
    "def jaccard(graph, n1, n2):\n",
    "    try: return list(nx.jaccard_coefficient(g, [(n1, n2)]))[0][2]\n",
    "    except: return 0"
   ]
  },
  {
   "cell_type": "code",
   "execution_count": 7,
   "metadata": {},
   "outputs": [],
   "source": [
    "def adamicAdar(graph, n1, n2):\n",
    "    try: return list(nx.adamic_adar_index(g, [(n1, n2)]))[0][2]\n",
    "    except: return 0"
   ]
  },
  {
   "cell_type": "code",
   "execution_count": 8,
   "metadata": {},
   "outputs": [],
   "source": [
    "def preferentialAttachment(graph, n1, n2):\n",
    "    try: return list(nx.preferential_attachment(g, [(n1, n2)]))[0][2]\n",
    "    except: return 0"
   ]
  },
  {
   "cell_type": "code",
   "execution_count": 9,
   "metadata": {},
   "outputs": [],
   "source": [
    "def resourceAllocation(graph, n1, n2):\n",
    "    try: return list(nx.resource_allocation_index(g, [(n1, n2)]))[0][2]\n",
    "    except: return 0"
   ]
  },
  {
   "cell_type": "code",
   "execution_count": 10,
   "metadata": {
    "scrolled": false
   },
   "outputs": [
    {
     "name": "stdout",
     "output_type": "stream",
     "text": [
      "Authors to iterate: 3767\n",
      "......................................\n",
      "Generated 4813 instances where coauthor=True\n",
      "Generated 4813 instances where coauthor=False\n",
      "Added \"Dist\" column\n",
      "Added \"CommonNeighbours\" column\n",
      "Added \"Jaccard\" column\n",
      "Added \"AdamicAdar\" column\n",
      "Added \"PreferentialAttachment\" column\n",
      "Added \"ResourceAllocation\" column\n"
     ]
    }
   ],
   "source": [
    "g = loadTrainDataAsUndirectedGraph()\n",
    "dt = createBalancedData(g)\n",
    "dt['Dist'] = dt.apply(lambda l: shortestDistance(g,l.Source,l.Sink),axis=1)\n",
    "print('Added \"Dist\" column')\n",
    "dt['CommonNeighbours'] = dt.apply(lambda l: commonNeighbours(g,l.Source,l.Sink),axis=1)\n",
    "print('Added \"CommonNeighbours\" column')\n",
    "dt['Jaccard'] = dt.apply(lambda l: jaccard(g,l.Source,l.Sink),axis=1)\n",
    "print('Added \"Jaccard\" column')\n",
    "dt['AdamicAdar'] = dt.apply(lambda l: adamicAdar(g,l.Source,l.Sink),axis=1)\n",
    "print('Added \"AdamicAdar\" column')\n",
    "dt['PreferentialAttachment'] = dt.apply(lambda l: preferentialAttachment(g,l.Source,l.Sink),axis=1)\n",
    "print('Added \"PreferentialAttachment\" column')\n",
    "dt['ResourceAllocation'] = dt.apply(lambda l: resourceAllocation(g,l.Source,l.Sink),axis=1)\n",
    "print('Added \"ResourceAllocation\" column')"
   ]
  },
  {
   "cell_type": "code",
   "execution_count": 11,
   "metadata": {
    "scrolled": true
   },
   "outputs": [
    {
     "data": {
      "text/html": [
       "<div>\n",
       "<style scoped>\n",
       "    .dataframe tbody tr th:only-of-type {\n",
       "        vertical-align: middle;\n",
       "    }\n",
       "\n",
       "    .dataframe tbody tr th {\n",
       "        vertical-align: top;\n",
       "    }\n",
       "\n",
       "    .dataframe thead th {\n",
       "        text-align: right;\n",
       "    }\n",
       "</style>\n",
       "<table border=\"1\" class=\"dataframe\">\n",
       "  <thead>\n",
       "    <tr style=\"text-align: right;\">\n",
       "      <th></th>\n",
       "      <th>Source</th>\n",
       "      <th>Sink</th>\n",
       "      <th>Freq</th>\n",
       "      <th>Coauthor</th>\n",
       "      <th>Dist</th>\n",
       "      <th>CommonNeighbours</th>\n",
       "      <th>Jaccard</th>\n",
       "      <th>AdamicAdar</th>\n",
       "      <th>PreferentialAttachment</th>\n",
       "      <th>ResourceAllocation</th>\n",
       "    </tr>\n",
       "  </thead>\n",
       "  <tbody>\n",
       "    <tr>\n",
       "      <th>0</th>\n",
       "      <td>1904</td>\n",
       "      <td>2253</td>\n",
       "      <td>0</td>\n",
       "      <td>0</td>\n",
       "      <td>6</td>\n",
       "      <td>0</td>\n",
       "      <td>0.000000</td>\n",
       "      <td>0.000000</td>\n",
       "      <td>1</td>\n",
       "      <td>0.000000</td>\n",
       "    </tr>\n",
       "    <tr>\n",
       "      <th>1</th>\n",
       "      <td>1497</td>\n",
       "      <td>2589</td>\n",
       "      <td>0</td>\n",
       "      <td>0</td>\n",
       "      <td>100</td>\n",
       "      <td>0</td>\n",
       "      <td>0.000000</td>\n",
       "      <td>0.000000</td>\n",
       "      <td>1</td>\n",
       "      <td>0.000000</td>\n",
       "    </tr>\n",
       "    <tr>\n",
       "      <th>2</th>\n",
       "      <td>3785</td>\n",
       "      <td>114</td>\n",
       "      <td>6</td>\n",
       "      <td>1</td>\n",
       "      <td>1</td>\n",
       "      <td>2</td>\n",
       "      <td>0.028169</td>\n",
       "      <td>1.111219</td>\n",
       "      <td>210</td>\n",
       "      <td>0.326923</td>\n",
       "    </tr>\n",
       "    <tr>\n",
       "      <th>3</th>\n",
       "      <td>1674</td>\n",
       "      <td>1718</td>\n",
       "      <td>0</td>\n",
       "      <td>0</td>\n",
       "      <td>100</td>\n",
       "      <td>0</td>\n",
       "      <td>0.000000</td>\n",
       "      <td>0.000000</td>\n",
       "      <td>1</td>\n",
       "      <td>0.000000</td>\n",
       "    </tr>\n",
       "    <tr>\n",
       "      <th>4</th>\n",
       "      <td>2825</td>\n",
       "      <td>2141</td>\n",
       "      <td>12</td>\n",
       "      <td>1</td>\n",
       "      <td>1</td>\n",
       "      <td>17</td>\n",
       "      <td>0.680000</td>\n",
       "      <td>5.550508</td>\n",
       "      <td>440</td>\n",
       "      <td>0.846625</td>\n",
       "    </tr>\n",
       "  </tbody>\n",
       "</table>\n",
       "</div>"
      ],
      "text/plain": [
       "  Source  Sink  Freq  Coauthor  Dist  CommonNeighbours   Jaccard  AdamicAdar  \\\n",
       "0   1904  2253     0         0     6                 0  0.000000    0.000000   \n",
       "1   1497  2589     0         0   100                 0  0.000000    0.000000   \n",
       "2   3785   114     6         1     1                 2  0.028169    1.111219   \n",
       "3   1674  1718     0         0   100                 0  0.000000    0.000000   \n",
       "4   2825  2141    12         1     1                17  0.680000    5.550508   \n",
       "\n",
       "   PreferentialAttachment  ResourceAllocation  \n",
       "0                       1            0.000000  \n",
       "1                       1            0.000000  \n",
       "2                     210            0.326923  \n",
       "3                       1            0.000000  \n",
       "4                     440            0.846625  "
      ]
     },
     "execution_count": 11,
     "metadata": {},
     "output_type": "execute_result"
    }
   ],
   "source": [
    "dt.head()"
   ]
  },
  {
   "cell_type": "markdown",
   "metadata": {},
   "source": [
    "## 3. Training + Cross Validation"
   ]
  },
  {
   "cell_type": "code",
   "execution_count": 12,
   "metadata": {},
   "outputs": [],
   "source": [
    "trainX = dt[['Dist', 'CommonNeighbours',\n",
    "       'Jaccard', 'AdamicAdar', 'PreferentialAttachment',\n",
    "       'ResourceAllocation']]\n",
    "trainY = dt['Coauthor']"
   ]
  },
  {
   "cell_type": "code",
   "execution_count": 13,
   "metadata": {},
   "outputs": [
    {
     "data": {
      "text/plain": [
       "array([0.63413772, 0.64163563, 0.65436054, 0.63722995, 0.64275272])"
      ]
     },
     "execution_count": 13,
     "metadata": {},
     "output_type": "execute_result"
    }
   ],
   "source": [
    "clf = LinearRegression()\n",
    "scores = cross_val_score(clf, trainX, trainY, cv=5)\n",
    "scores"
   ]
  },
  {
   "cell_type": "code",
   "execution_count": 14,
   "metadata": {
    "scrolled": false
   },
   "outputs": [
    {
     "name": "stdout",
     "output_type": "stream",
     "text": [
      "intercept =  0.46915255874776407\n"
     ]
    },
    {
     "data": {
      "text/html": [
       "<div>\n",
       "<style scoped>\n",
       "    .dataframe tbody tr th:only-of-type {\n",
       "        vertical-align: middle;\n",
       "    }\n",
       "\n",
       "    .dataframe tbody tr th {\n",
       "        vertical-align: top;\n",
       "    }\n",
       "\n",
       "    .dataframe thead th {\n",
       "        text-align: right;\n",
       "    }\n",
       "</style>\n",
       "<table border=\"1\" class=\"dataframe\">\n",
       "  <thead>\n",
       "    <tr style=\"text-align: right;\">\n",
       "      <th></th>\n",
       "      <th>Coefficients</th>\n",
       "    </tr>\n",
       "  </thead>\n",
       "  <tbody>\n",
       "    <tr>\n",
       "      <th>Dist</th>\n",
       "      <td>-0.004852</td>\n",
       "    </tr>\n",
       "    <tr>\n",
       "      <th>CommonNeighbours</th>\n",
       "      <td>-0.094472</td>\n",
       "    </tr>\n",
       "    <tr>\n",
       "      <th>Jaccard</th>\n",
       "      <td>0.839887</td>\n",
       "    </tr>\n",
       "    <tr>\n",
       "      <th>AdamicAdar</th>\n",
       "      <td>0.373969</td>\n",
       "    </tr>\n",
       "    <tr>\n",
       "      <th>PreferentialAttachment</th>\n",
       "      <td>0.000096</td>\n",
       "    </tr>\n",
       "    <tr>\n",
       "      <th>ResourceAllocation</th>\n",
       "      <td>-0.323644</td>\n",
       "    </tr>\n",
       "  </tbody>\n",
       "</table>\n",
       "</div>"
      ],
      "text/plain": [
       "                        Coefficients\n",
       "Dist                       -0.004852\n",
       "CommonNeighbours           -0.094472\n",
       "Jaccard                     0.839887\n",
       "AdamicAdar                  0.373969\n",
       "PreferentialAttachment      0.000096\n",
       "ResourceAllocation         -0.323644"
      ]
     },
     "execution_count": 14,
     "metadata": {},
     "output_type": "execute_result"
    }
   ],
   "source": [
    "clf.fit(trainX,trainY)\n",
    "print('intercept = ', clf.intercept_)\n",
    "trainedModel = pd.DataFrame(clf.coef_, trainX.columns, columns=['Coefficients'])\n",
    "trainedModel"
   ]
  },
  {
   "cell_type": "markdown",
   "metadata": {},
   "source": [
    "## 4. Generate Output"
   ]
  },
  {
   "cell_type": "code",
   "execution_count": 15,
   "metadata": {},
   "outputs": [
    {
     "name": "stdout",
     "output_type": "stream",
     "text": [
      "Added \"Dist\" column\n",
      "Added \"CommonNeighbours\" column\n",
      "Added \"Jaccard\" column\n",
      "Added \"AdamicAdar\" column\n",
      "Added \"PreferentialAttachment\" column\n",
      "Added \"ResourceAllocation\" column\n"
     ]
    },
    {
     "data": {
      "text/html": [
       "<div>\n",
       "<style scoped>\n",
       "    .dataframe tbody tr th:only-of-type {\n",
       "        vertical-align: middle;\n",
       "    }\n",
       "\n",
       "    .dataframe tbody tr th {\n",
       "        vertical-align: top;\n",
       "    }\n",
       "\n",
       "    .dataframe thead th {\n",
       "        text-align: right;\n",
       "    }\n",
       "</style>\n",
       "<table border=\"1\" class=\"dataframe\">\n",
       "  <thead>\n",
       "    <tr style=\"text-align: right;\">\n",
       "      <th></th>\n",
       "      <th>Id</th>\n",
       "      <th>Source</th>\n",
       "      <th>Sink</th>\n",
       "      <th>Dist</th>\n",
       "      <th>CommonNeighbours</th>\n",
       "      <th>Jaccard</th>\n",
       "      <th>AdamicAdar</th>\n",
       "      <th>PreferentialAttachment</th>\n",
       "      <th>ResourceAllocation</th>\n",
       "    </tr>\n",
       "  </thead>\n",
       "  <tbody>\n",
       "    <tr>\n",
       "      <th>0</th>\n",
       "      <td>1</td>\n",
       "      <td>0</td>\n",
       "      <td>2917</td>\n",
       "      <td>3</td>\n",
       "      <td>0</td>\n",
       "      <td>0.00</td>\n",
       "      <td>0.00000</td>\n",
       "      <td>56</td>\n",
       "      <td>0.0</td>\n",
       "    </tr>\n",
       "    <tr>\n",
       "      <th>1</th>\n",
       "      <td>2</td>\n",
       "      <td>0</td>\n",
       "      <td>2956</td>\n",
       "      <td>5</td>\n",
       "      <td>0</td>\n",
       "      <td>0.00</td>\n",
       "      <td>0.00000</td>\n",
       "      <td>24</td>\n",
       "      <td>0.0</td>\n",
       "    </tr>\n",
       "    <tr>\n",
       "      <th>2</th>\n",
       "      <td>3</td>\n",
       "      <td>1</td>\n",
       "      <td>4038</td>\n",
       "      <td>3</td>\n",
       "      <td>0</td>\n",
       "      <td>0.00</td>\n",
       "      <td>0.00000</td>\n",
       "      <td>496</td>\n",
       "      <td>0.0</td>\n",
       "    </tr>\n",
       "    <tr>\n",
       "      <th>3</th>\n",
       "      <td>4</td>\n",
       "      <td>2</td>\n",
       "      <td>1848</td>\n",
       "      <td>1</td>\n",
       "      <td>2</td>\n",
       "      <td>0.08</td>\n",
       "      <td>1.24267</td>\n",
       "      <td>72</td>\n",
       "      <td>0.4</td>\n",
       "    </tr>\n",
       "    <tr>\n",
       "      <th>4</th>\n",
       "      <td>5</td>\n",
       "      <td>3</td>\n",
       "      <td>513</td>\n",
       "      <td>4</td>\n",
       "      <td>0</td>\n",
       "      <td>0.00</td>\n",
       "      <td>0.00000</td>\n",
       "      <td>391</td>\n",
       "      <td>0.0</td>\n",
       "    </tr>\n",
       "  </tbody>\n",
       "</table>\n",
       "</div>"
      ],
      "text/plain": [
       "   Id Source  Sink  Dist  CommonNeighbours  Jaccard  AdamicAdar  \\\n",
       "0   1      0  2917     3                 0     0.00     0.00000   \n",
       "1   2      0  2956     5                 0     0.00     0.00000   \n",
       "2   3      1  4038     3                 0     0.00     0.00000   \n",
       "3   4      2  1848     1                 2     0.08     1.24267   \n",
       "4   5      3   513     4                 0     0.00     0.00000   \n",
       "\n",
       "   PreferentialAttachment  ResourceAllocation  \n",
       "0                      56                 0.0  \n",
       "1                      24                 0.0  \n",
       "2                     496                 0.0  \n",
       "3                      72                 0.4  \n",
       "4                     391                 0.0  "
      ]
     },
     "execution_count": 15,
     "metadata": {},
     "output_type": "execute_result"
    }
   ],
   "source": [
    "test = pd.read_csv('test-public.csv', converters = {'Source': str, 'Sink': str})\n",
    "test['Dist'] = test.apply(lambda l: shortestDistance(g,l.Source,l.Sink),axis=1)\n",
    "print('Added \"Dist\" column')\n",
    "test['CommonNeighbours'] = test.apply(lambda l: commonNeighbours(g,l.Source,l.Sink),axis=1)\n",
    "print('Added \"CommonNeighbours\" column')\n",
    "test['Jaccard'] = test.apply(lambda l: jaccard(g,l.Source,l.Sink),axis=1)\n",
    "print('Added \"Jaccard\" column')\n",
    "test['AdamicAdar'] = test.apply(lambda l: adamicAdar(g,l.Source,l.Sink),axis=1)\n",
    "print('Added \"AdamicAdar\" column')\n",
    "test['PreferentialAttachment'] = test.apply(lambda l: preferentialAttachment(g,l.Source,l.Sink),axis=1)\n",
    "print('Added \"PreferentialAttachment\" column')\n",
    "test['ResourceAllocation'] = test.apply(lambda l: resourceAllocation(g,l.Source,l.Sink),axis=1)\n",
    "print('Added \"ResourceAllocation\" column')\n",
    "test.head()"
   ]
  },
  {
   "cell_type": "code",
   "execution_count": 16,
   "metadata": {},
   "outputs": [],
   "source": [
    "testX = test[['Dist', 'CommonNeighbours',\n",
    "       'Jaccard', 'AdamicAdar', 'PreferentialAttachment',\n",
    "       'ResourceAllocation']]"
   ]
  },
  {
   "cell_type": "code",
   "execution_count": 17,
   "metadata": {},
   "outputs": [],
   "source": [
    "def truncateZeroAndOne(n):\n",
    "    if n>1: return 1\n",
    "    elif n<0: return 0\n",
    "    else: return n\n",
    "\n",
    "test['Predicted'] = clf.predict(testX)\n",
    "test['Predicted'] = test.apply(lambda l: truncateZeroAndOne(l.Predicted), axis=1)"
   ]
  },
  {
   "cell_type": "code",
   "execution_count": 18,
   "metadata": {},
   "outputs": [],
   "source": [
    "test[['Id', 'Predicted']].to_csv('results/LinearRegression.csv', index=False)"
   ]
  }
 ],
 "metadata": {
  "kernelspec": {
   "display_name": "Python 3",
   "language": "python",
   "name": "python3"
  },
  "language_info": {
   "codemirror_mode": {
    "name": "ipython",
    "version": 3
   },
   "file_extension": ".py",
   "mimetype": "text/x-python",
   "name": "python",
   "nbconvert_exporter": "python",
   "pygments_lexer": "ipython3",
   "version": "3.8.3"
  }
 },
 "nbformat": 4,
 "nbformat_minor": 4
}
