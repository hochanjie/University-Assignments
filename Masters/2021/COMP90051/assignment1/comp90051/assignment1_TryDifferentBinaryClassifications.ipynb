{
 "cells": [
  {
   "cell_type": "markdown",
   "metadata": {},
   "source": [
    "# Link Prediction Using Binary Classification\n",
    "\n",
    "https://machinelearningmastery.com/calculate-feature-importance-with-python/"
   ]
  },
  {
   "cell_type": "markdown",
   "metadata": {},
   "source": [
    "## 1. Imports"
   ]
  },
  {
   "cell_type": "code",
   "execution_count": 1,
   "metadata": {},
   "outputs": [],
   "source": [
    "import pandas as pd\n",
    "import networkx as nx\n",
    "import sklearn\n",
    "import math\n",
    "from sklearn.model_selection import cross_val_score\n",
    "from sklearn.preprocessing import StandardScaler"
   ]
  },
  {
   "cell_type": "markdown",
   "metadata": {},
   "source": [
    "## 2. Feature Generation"
   ]
  },
  {
   "cell_type": "code",
   "execution_count": 2,
   "metadata": {},
   "outputs": [],
   "source": [
    "def loadTrainDataAsUndirectedGraph():\n",
    "    filename = \"train.txt\"\n",
    "    rows = [line.rstrip(\"\\n\") for line in open(filename)]\n",
    "    g = nx.Graph()\n",
    "    for row in rows:\n",
    "        authorIds = row.split()\n",
    "        for i, author in enumerate(authorIds):\n",
    "            for coauthor in authorIds[i+1:]:\n",
    "                if g.has_edge(author, coauthor):\n",
    "                    g[author][coauthor]['frequency'] += 1\n",
    "                else:\n",
    "                    g.add_edge(author, coauthor, frequency=1)\n",
    "    return g"
   ]
  },
  {
   "cell_type": "code",
   "execution_count": 3,
   "metadata": {},
   "outputs": [],
   "source": [
    "def loadTrainDataAsUndirectedMultiGraph():\n",
    "    filename = \"train.txt\"\n",
    "    rows = [line.rstrip(\"\\n\") for line in open(filename)]\n",
    "    g = nx.MultiGraph()\n",
    "    for row in rows:\n",
    "        authorIds = row.split()\n",
    "        for i, author in enumerate(authorIds):\n",
    "            for coauthor in authorIds[i+1:]:\n",
    "                g.add_edge(author, coauthor)\n",
    "    return g"
   ]
  },
  {
   "cell_type": "code",
   "execution_count": 4,
   "metadata": {},
   "outputs": [],
   "source": [
    "def createBalancedData(graph):\n",
    "    allAuthors = list(graph.nodes)\n",
    "    trueInstances = []\n",
    "    falseInstances = []\n",
    "    print('Authors to iterate:',len(allAuthors) )\n",
    "    \n",
    "    # Get true instances and false instances\n",
    "    for i, author1 in enumerate(allAuthors):\n",
    "        if(i%100==0): print('.', end='') # Status indicator\n",
    "        for author2 in allAuthors[i+1:]:\n",
    "            if graph.has_edge(author1, author2):\n",
    "                freq = graph[author1][author2]['frequency']\n",
    "                if freq > 1:\n",
    "                    # True instances\n",
    "                    trueInstances.append({\n",
    "                        \"Source\": author1,\n",
    "                        \"Sink\": author2,\n",
    "                        \"Freq\": graph[author1][author2]['frequency'],\n",
    "                        \"Coauthor\": 1 })\n",
    "            else:\n",
    "                # False instances (instances that are more than 3 hops away)\n",
    "                author1Neighbors = list(nx.all_neighbors(graph, author1))\n",
    "                author2Neighbors = list(nx.all_neighbors(graph, author2))\n",
    "                if (len(author1Neighbors)==1 and len(author2Neighbors)==1):\n",
    "                    common = len(list(nx.common_neighbors(graph, author1Neighbors[0], author2Neighbors[0])))\n",
    "                    if common == 0:\n",
    "                        falseInstances.append({\n",
    "                            \"Source\": author1,\n",
    "                            \"Sink\": author2,\n",
    "                            \"Freq\": 0,\n",
    "                            \"Coauthor\": 0 })\n",
    "    print('')\n",
    "    \n",
    "    # Downsample false instances\n",
    "    numTrue = len(trueInstances)\n",
    "    falseInstances = sklearn.utils.resample(\n",
    "                        falseInstances,\n",
    "                        n_samples=numTrue,\n",
    "                        random_state=0)  # TODO: Hardcoded random state\n",
    "    \n",
    "    print('Generated',numTrue,'instances where coauthor=True')\n",
    "    print('Generated',len(falseInstances),'instances where coauthor=False')\n",
    "    \n",
    "    # Shuffle training data\n",
    "    data = sklearn.utils.shuffle(trueInstances+falseInstances, random_state=0) # TODO: Hardcoded random state\n",
    "    return pd.DataFrame(data=data)"
   ]
  },
  {
   "cell_type": "code",
   "execution_count": 5,
   "metadata": {},
   "outputs": [],
   "source": [
    "def createBalancedDataForMultiGraph(graph):\n",
    "    allAuthors = list(graph.nodes)\n",
    "    trueInstances = []\n",
    "    falseInstances = []\n",
    "    print('Authors to iterate:',len(allAuthors) )\n",
    "    \n",
    "    # Get true instances and false instances\n",
    "    for i, author1 in enumerate(allAuthors):\n",
    "        if(i%100==0): print('.', end='') # Status indicator\n",
    "        for author2 in allAuthors[i+1:]:\n",
    "            if graph.has_edge(author1, author2):\n",
    "                # True instances\n",
    "                trueInstances.append({\n",
    "                    \"Source\": author1,\n",
    "                    \"Sink\": author2,\n",
    "                    \"Coauthor\": 1 })\n",
    "            else:\n",
    "                # False instances (instances that are more than 3 hops away)\n",
    "                author1Neighbors = list(nx.all_neighbors(graph, author1))\n",
    "                author2Neighbors = list(nx.all_neighbors(graph, author2))\n",
    "                if (len(author1Neighbors)==1 and len(author2Neighbors)==1):\n",
    "                    common = len(list(nx.common_neighbors(graph, author1Neighbors[0], author2Neighbors[0])))\n",
    "                    if common == 0:\n",
    "                        falseInstances.append({\n",
    "                            \"Source\": author1,\n",
    "                            \"Sink\": author2,\n",
    "                            \"Coauthor\": 0 })\n",
    "    print('')\n",
    "    \n",
    "    # Downsample false instances\n",
    "    numTrue = len(trueInstances)\n",
    "    falseInstances = sklearn.utils.resample(\n",
    "                        falseInstances,\n",
    "                        n_samples=numTrue,\n",
    "                        random_state=0)  # TODO: Hardcoded random state\n",
    "    \n",
    "    print('Generated',numTrue,'instances where coauthor=True')\n",
    "    print('Generated',len(falseInstances),'instances where coauthor=False')\n",
    "    \n",
    "    # Shuffle training data\n",
    "    data = sklearn.utils.shuffle(trueInstances+falseInstances, random_state=0) # TODO: Hardcoded random state\n",
    "    return pd.DataFrame(data=data)"
   ]
  },
  {
   "cell_type": "code",
   "execution_count": 6,
   "metadata": {},
   "outputs": [],
   "source": [
    "def shortestDistance(graph, n1, n2):\n",
    "    try: return len(nx.dijkstra_path(graph, source=n1, target=n2)) - 1\n",
    "    except: return 100\n",
    "    \n",
    "def commonNeighbours(graph, n1, n2):\n",
    "    try: return len(list(nx.common_neighbors(graph, n1, n2)))\n",
    "    except: return 0\n",
    "\n",
    "def jaccard(graph, n1, n2):\n",
    "    try: return list(nx.jaccard_coefficient(graph, [(n1, n2)]))[0][2]\n",
    "    except: return 0\n",
    "    \n",
    "def adamicAdar(graph, n1, n2):\n",
    "    try: return list(nx.adamic_adar_index(graph, [(n1, n2)]))[0][2]\n",
    "    except: return 0\n",
    "\n",
    "def preferentialAttachment(graph, n1, n2):\n",
    "    try: return list(nx.preferential_attachment(graph, [(n1, n2)]))[0][2]\n",
    "    except: return 0\n",
    "\n",
    "def resourceAllocation(graph, n1, n2):\n",
    "    try: return list(nx.resource_allocation_index(graph, [(n1, n2)]))[0][2]\n",
    "    except: return 0"
   ]
  },
  {
   "cell_type": "code",
   "execution_count": 7,
   "metadata": {},
   "outputs": [
    {
     "name": "stdout",
     "output_type": "stream",
     "text": [
      "Authors to iterate: 3767\n",
      "......................................\n",
      "Generated 4813 instances where coauthor=True\n",
      "Generated 4813 instances where coauthor=False\n",
      "Added \"Dist\" column\n",
      "Added \"CommonNeighbours\" column\n",
      "Added \"Jaccard\" column\n",
      "Added \"AdamicAdar\" column\n",
      "Added \"PreferentialAttachment\" column\n",
      "Added \"ResourceAllocation\" column\n"
     ]
    },
    {
     "data": {
      "text/html": [
       "<div>\n",
       "<style scoped>\n",
       "    .dataframe tbody tr th:only-of-type {\n",
       "        vertical-align: middle;\n",
       "    }\n",
       "\n",
       "    .dataframe tbody tr th {\n",
       "        vertical-align: top;\n",
       "    }\n",
       "\n",
       "    .dataframe thead th {\n",
       "        text-align: right;\n",
       "    }\n",
       "</style>\n",
       "<table border=\"1\" class=\"dataframe\">\n",
       "  <thead>\n",
       "    <tr style=\"text-align: right;\">\n",
       "      <th></th>\n",
       "      <th>Freq</th>\n",
       "      <th>Coauthor</th>\n",
       "      <th>Dist</th>\n",
       "      <th>CommonNeighbours</th>\n",
       "      <th>Jaccard</th>\n",
       "      <th>AdamicAdar</th>\n",
       "      <th>PreferentialAttachment</th>\n",
       "      <th>ResourceAllocation</th>\n",
       "    </tr>\n",
       "  </thead>\n",
       "  <tbody>\n",
       "    <tr>\n",
       "      <th>count</th>\n",
       "      <td>9626.000000</td>\n",
       "      <td>9626.000000</td>\n",
       "      <td>9626.000000</td>\n",
       "      <td>9626.000000</td>\n",
       "      <td>9626.000000</td>\n",
       "      <td>9626.000000</td>\n",
       "      <td>9626.000000</td>\n",
       "      <td>9626.000000</td>\n",
       "    </tr>\n",
       "    <tr>\n",
       "      <th>mean</th>\n",
       "      <td>1.911178</td>\n",
       "      <td>0.500000</td>\n",
       "      <td>30.464887</td>\n",
       "      <td>3.381882</td>\n",
       "      <td>0.098923</td>\n",
       "      <td>1.200650</td>\n",
       "      <td>392.509869</td>\n",
       "      <td>0.221741</td>\n",
       "    </tr>\n",
       "    <tr>\n",
       "      <th>std</th>\n",
       "      <td>2.949533</td>\n",
       "      <td>0.500026</td>\n",
       "      <td>44.186350</td>\n",
       "      <td>7.608390</td>\n",
       "      <td>0.162869</td>\n",
       "      <td>2.145670</td>\n",
       "      <td>1184.579811</td>\n",
       "      <td>0.333580</td>\n",
       "    </tr>\n",
       "    <tr>\n",
       "      <th>min</th>\n",
       "      <td>0.000000</td>\n",
       "      <td>0.000000</td>\n",
       "      <td>1.000000</td>\n",
       "      <td>0.000000</td>\n",
       "      <td>0.000000</td>\n",
       "      <td>0.000000</td>\n",
       "      <td>1.000000</td>\n",
       "      <td>0.000000</td>\n",
       "    </tr>\n",
       "    <tr>\n",
       "      <th>25%</th>\n",
       "      <td>0.000000</td>\n",
       "      <td>0.000000</td>\n",
       "      <td>1.000000</td>\n",
       "      <td>0.000000</td>\n",
       "      <td>0.000000</td>\n",
       "      <td>0.000000</td>\n",
       "      <td>1.000000</td>\n",
       "      <td>0.000000</td>\n",
       "    </tr>\n",
       "    <tr>\n",
       "      <th>50%</th>\n",
       "      <td>1.000000</td>\n",
       "      <td>0.500000</td>\n",
       "      <td>2.000000</td>\n",
       "      <td>0.000000</td>\n",
       "      <td>0.000000</td>\n",
       "      <td>0.000000</td>\n",
       "      <td>1.000000</td>\n",
       "      <td>0.000000</td>\n",
       "    </tr>\n",
       "    <tr>\n",
       "      <th>75%</th>\n",
       "      <td>3.000000</td>\n",
       "      <td>1.000000</td>\n",
       "      <td>100.000000</td>\n",
       "      <td>4.000000</td>\n",
       "      <td>0.136364</td>\n",
       "      <td>1.759569</td>\n",
       "      <td>232.000000</td>\n",
       "      <td>0.399986</td>\n",
       "    </tr>\n",
       "    <tr>\n",
       "      <th>max</th>\n",
       "      <td>45.000000</td>\n",
       "      <td>1.000000</td>\n",
       "      <td>100.000000</td>\n",
       "      <td>76.000000</td>\n",
       "      <td>0.882353</td>\n",
       "      <td>18.264381</td>\n",
       "      <td>12792.000000</td>\n",
       "      <td>3.391595</td>\n",
       "    </tr>\n",
       "  </tbody>\n",
       "</table>\n",
       "</div>"
      ],
      "text/plain": [
       "              Freq     Coauthor         Dist  CommonNeighbours      Jaccard  \\\n",
       "count  9626.000000  9626.000000  9626.000000       9626.000000  9626.000000   \n",
       "mean      1.911178     0.500000    30.464887          3.381882     0.098923   \n",
       "std       2.949533     0.500026    44.186350          7.608390     0.162869   \n",
       "min       0.000000     0.000000     1.000000          0.000000     0.000000   \n",
       "25%       0.000000     0.000000     1.000000          0.000000     0.000000   \n",
       "50%       1.000000     0.500000     2.000000          0.000000     0.000000   \n",
       "75%       3.000000     1.000000   100.000000          4.000000     0.136364   \n",
       "max      45.000000     1.000000   100.000000         76.000000     0.882353   \n",
       "\n",
       "        AdamicAdar  PreferentialAttachment  ResourceAllocation  \n",
       "count  9626.000000             9626.000000         9626.000000  \n",
       "mean      1.200650              392.509869            0.221741  \n",
       "std       2.145670             1184.579811            0.333580  \n",
       "min       0.000000                1.000000            0.000000  \n",
       "25%       0.000000                1.000000            0.000000  \n",
       "50%       0.000000                1.000000            0.000000  \n",
       "75%       1.759569              232.000000            0.399986  \n",
       "max      18.264381            12792.000000            3.391595  "
      ]
     },
     "execution_count": 7,
     "metadata": {},
     "output_type": "execute_result"
    }
   ],
   "source": [
    "gUndirected = loadTrainDataAsUndirectedGraph()\n",
    "dtUndirected = createBalancedData(gUndirected)\n",
    "dtUndirected['Dist'] = dtUndirected.apply(lambda l: shortestDistance(gUndirected,l.Source,l.Sink),axis=1)\n",
    "print('Added \"Dist\" column')\n",
    "dtUndirected['CommonNeighbours'] = dtUndirected.apply(lambda l: commonNeighbours(gUndirected,l.Source,l.Sink),axis=1)\n",
    "print('Added \"CommonNeighbours\" column')\n",
    "dtUndirected['Jaccard'] = dtUndirected.apply(lambda l: jaccard(gUndirected,l.Source,l.Sink),axis=1)\n",
    "print('Added \"Jaccard\" column')\n",
    "dtUndirected['AdamicAdar'] = dtUndirected.apply(lambda l: adamicAdar(gUndirected,l.Source,l.Sink),axis=1)\n",
    "print('Added \"AdamicAdar\" column')\n",
    "dtUndirected['PreferentialAttachment'] = dtUndirected.apply(lambda l: preferentialAttachment(gUndirected,l.Source,l.Sink),axis=1)\n",
    "print('Added \"PreferentialAttachment\" column')\n",
    "dtUndirected['ResourceAllocation'] = dtUndirected.apply(lambda l: resourceAllocation(gUndirected,l.Source,l.Sink),axis=1)\n",
    "print('Added \"ResourceAllocation\" column')\n",
    "dtUndirected.describe()"
   ]
  },
  {
   "cell_type": "code",
   "execution_count": 8,
   "metadata": {},
   "outputs": [
    {
     "name": "stdout",
     "output_type": "stream",
     "text": [
      "Authors to iterate: 3767\n",
      "......................................\n",
      "Generated 16034 instances where coauthor=True\n",
      "Generated 16034 instances where coauthor=False\n",
      "Added \"Dist\" column\n",
      "Added \"CommonNeighbours\" column\n",
      "Added \"Jaccard\" column\n",
      "Added \"AdamicAdar\" column\n",
      "Added \"PreferentialAttachment\" column\n",
      "Added \"ResourceAllocation\" column\n"
     ]
    },
    {
     "data": {
      "text/html": [
       "<div>\n",
       "<style scoped>\n",
       "    .dataframe tbody tr th:only-of-type {\n",
       "        vertical-align: middle;\n",
       "    }\n",
       "\n",
       "    .dataframe tbody tr th {\n",
       "        vertical-align: top;\n",
       "    }\n",
       "\n",
       "    .dataframe thead th {\n",
       "        text-align: right;\n",
       "    }\n",
       "</style>\n",
       "<table border=\"1\" class=\"dataframe\">\n",
       "  <thead>\n",
       "    <tr style=\"text-align: right;\">\n",
       "      <th></th>\n",
       "      <th>Coauthor</th>\n",
       "      <th>Dist</th>\n",
       "      <th>CommonNeighbours</th>\n",
       "      <th>Jaccard</th>\n",
       "      <th>AdamicAdar</th>\n",
       "      <th>PreferentialAttachment</th>\n",
       "      <th>ResourceAllocation</th>\n",
       "    </tr>\n",
       "  </thead>\n",
       "  <tbody>\n",
       "    <tr>\n",
       "      <th>count</th>\n",
       "      <td>32068.000000</td>\n",
       "      <td>32068.000000</td>\n",
       "      <td>32068.000000</td>\n",
       "      <td>32068.0</td>\n",
       "      <td>32068.0</td>\n",
       "      <td>32068.0</td>\n",
       "      <td>32068.0</td>\n",
       "    </tr>\n",
       "    <tr>\n",
       "      <th>mean</th>\n",
       "      <td>0.500000</td>\n",
       "      <td>30.570413</td>\n",
       "      <td>4.826587</td>\n",
       "      <td>0.0</td>\n",
       "      <td>0.0</td>\n",
       "      <td>0.0</td>\n",
       "      <td>0.0</td>\n",
       "    </tr>\n",
       "    <tr>\n",
       "      <th>std</th>\n",
       "      <td>0.500008</td>\n",
       "      <td>44.243624</td>\n",
       "      <td>9.990679</td>\n",
       "      <td>0.0</td>\n",
       "      <td>0.0</td>\n",
       "      <td>0.0</td>\n",
       "      <td>0.0</td>\n",
       "    </tr>\n",
       "    <tr>\n",
       "      <th>min</th>\n",
       "      <td>0.000000</td>\n",
       "      <td>1.000000</td>\n",
       "      <td>0.000000</td>\n",
       "      <td>0.0</td>\n",
       "      <td>0.0</td>\n",
       "      <td>0.0</td>\n",
       "      <td>0.0</td>\n",
       "    </tr>\n",
       "    <tr>\n",
       "      <th>25%</th>\n",
       "      <td>0.000000</td>\n",
       "      <td>1.000000</td>\n",
       "      <td>0.000000</td>\n",
       "      <td>0.0</td>\n",
       "      <td>0.0</td>\n",
       "      <td>0.0</td>\n",
       "      <td>0.0</td>\n",
       "    </tr>\n",
       "    <tr>\n",
       "      <th>50%</th>\n",
       "      <td>0.500000</td>\n",
       "      <td>2.000000</td>\n",
       "      <td>0.000000</td>\n",
       "      <td>0.0</td>\n",
       "      <td>0.0</td>\n",
       "      <td>0.0</td>\n",
       "      <td>0.0</td>\n",
       "    </tr>\n",
       "    <tr>\n",
       "      <th>75%</th>\n",
       "      <td>1.000000</td>\n",
       "      <td>100.000000</td>\n",
       "      <td>4.000000</td>\n",
       "      <td>0.0</td>\n",
       "      <td>0.0</td>\n",
       "      <td>0.0</td>\n",
       "      <td>0.0</td>\n",
       "    </tr>\n",
       "    <tr>\n",
       "      <th>max</th>\n",
       "      <td>1.000000</td>\n",
       "      <td>100.000000</td>\n",
       "      <td>76.000000</td>\n",
       "      <td>0.0</td>\n",
       "      <td>0.0</td>\n",
       "      <td>0.0</td>\n",
       "      <td>0.0</td>\n",
       "    </tr>\n",
       "  </tbody>\n",
       "</table>\n",
       "</div>"
      ],
      "text/plain": [
       "           Coauthor          Dist  CommonNeighbours  Jaccard  AdamicAdar  \\\n",
       "count  32068.000000  32068.000000      32068.000000  32068.0     32068.0   \n",
       "mean       0.500000     30.570413          4.826587      0.0         0.0   \n",
       "std        0.500008     44.243624          9.990679      0.0         0.0   \n",
       "min        0.000000      1.000000          0.000000      0.0         0.0   \n",
       "25%        0.000000      1.000000          0.000000      0.0         0.0   \n",
       "50%        0.500000      2.000000          0.000000      0.0         0.0   \n",
       "75%        1.000000    100.000000          4.000000      0.0         0.0   \n",
       "max        1.000000    100.000000         76.000000      0.0         0.0   \n",
       "\n",
       "       PreferentialAttachment  ResourceAllocation  \n",
       "count                 32068.0             32068.0  \n",
       "mean                      0.0                 0.0  \n",
       "std                       0.0                 0.0  \n",
       "min                       0.0                 0.0  \n",
       "25%                       0.0                 0.0  \n",
       "50%                       0.0                 0.0  \n",
       "75%                       0.0                 0.0  \n",
       "max                       0.0                 0.0  "
      ]
     },
     "execution_count": 8,
     "metadata": {},
     "output_type": "execute_result"
    }
   ],
   "source": [
    "gUndirectedMulti = loadTrainDataAsUndirectedMultiGraph()\n",
    "dtUndirectedMulti = createBalancedDataForMultiGraph(gUndirectedMulti)\n",
    "dtUndirectedMulti['Dist'] = dtUndirectedMulti.apply(lambda l: shortestDistance(gUndirectedMulti,l.Source,l.Sink),axis=1)\n",
    "print('Added \"Dist\" column')\n",
    "dtUndirectedMulti['CommonNeighbours'] = dtUndirectedMulti.apply(lambda l: commonNeighbours(gUndirectedMulti,l.Source,l.Sink),axis=1)\n",
    "print('Added \"CommonNeighbours\" column')\n",
    "dtUndirectedMulti['Jaccard'] = dtUndirectedMulti.apply(lambda l: jaccard(gUndirectedMulti,l.Source,l.Sink),axis=1)\n",
    "print('Added \"Jaccard\" column')\n",
    "dtUndirectedMulti['AdamicAdar'] = dtUndirectedMulti.apply(lambda l: adamicAdar(gUndirectedMulti,l.Source,l.Sink),axis=1)\n",
    "print('Added \"AdamicAdar\" column')\n",
    "dtUndirectedMulti['PreferentialAttachment'] = dtUndirectedMulti.apply(lambda l: preferentialAttachment(gUndirectedMulti,l.Source,l.Sink),axis=1)\n",
    "print('Added \"PreferentialAttachment\" column')\n",
    "dtUndirectedMulti['ResourceAllocation'] = dtUndirectedMulti.apply(lambda l: resourceAllocation(gUndirectedMulti,l.Source,l.Sink),axis=1)\n",
    "print('Added \"ResourceAllocation\" column')\n",
    "dtUndirectedMulti.describe()"
   ]
  },
  {
   "cell_type": "code",
   "execution_count": 9,
   "metadata": {},
   "outputs": [
    {
     "name": "stdout",
     "output_type": "stream",
     "text": [
      "Added \"Dist\" column\n",
      "Added \"CommonNeighbours\" column\n",
      "Added \"Jaccard\" column\n",
      "Added \"AdamicAdar\" column\n",
      "Added \"PreferentialAttachment\" column\n",
      "Added \"ResourceAllocation\" column\n"
     ]
    },
    {
     "data": {
      "text/html": [
       "<div>\n",
       "<style scoped>\n",
       "    .dataframe tbody tr th:only-of-type {\n",
       "        vertical-align: middle;\n",
       "    }\n",
       "\n",
       "    .dataframe tbody tr th {\n",
       "        vertical-align: top;\n",
       "    }\n",
       "\n",
       "    .dataframe thead th {\n",
       "        text-align: right;\n",
       "    }\n",
       "</style>\n",
       "<table border=\"1\" class=\"dataframe\">\n",
       "  <thead>\n",
       "    <tr style=\"text-align: right;\">\n",
       "      <th></th>\n",
       "      <th>Id</th>\n",
       "      <th>Dist</th>\n",
       "      <th>CommonNeighbours</th>\n",
       "      <th>Jaccard</th>\n",
       "      <th>AdamicAdar</th>\n",
       "      <th>PreferentialAttachment</th>\n",
       "      <th>ResourceAllocation</th>\n",
       "    </tr>\n",
       "  </thead>\n",
       "  <tbody>\n",
       "    <tr>\n",
       "      <th>count</th>\n",
       "      <td>2000.000000</td>\n",
       "      <td>2000.000000</td>\n",
       "      <td>2000.000000</td>\n",
       "      <td>2000.000000</td>\n",
       "      <td>2000.000000</td>\n",
       "      <td>2000.000000</td>\n",
       "      <td>2000.000000</td>\n",
       "    </tr>\n",
       "    <tr>\n",
       "      <th>mean</th>\n",
       "      <td>1000.500000</td>\n",
       "      <td>13.599500</td>\n",
       "      <td>1.342000</td>\n",
       "      <td>0.064341</td>\n",
       "      <td>0.530868</td>\n",
       "      <td>231.747500</td>\n",
       "      <td>0.112561</td>\n",
       "    </tr>\n",
       "    <tr>\n",
       "      <th>std</th>\n",
       "      <td>577.494589</td>\n",
       "      <td>30.418477</td>\n",
       "      <td>3.344941</td>\n",
       "      <td>0.141352</td>\n",
       "      <td>1.157031</td>\n",
       "      <td>637.358269</td>\n",
       "      <td>0.239929</td>\n",
       "    </tr>\n",
       "    <tr>\n",
       "      <th>min</th>\n",
       "      <td>1.000000</td>\n",
       "      <td>1.000000</td>\n",
       "      <td>0.000000</td>\n",
       "      <td>0.000000</td>\n",
       "      <td>0.000000</td>\n",
       "      <td>0.000000</td>\n",
       "      <td>0.000000</td>\n",
       "    </tr>\n",
       "    <tr>\n",
       "      <th>25%</th>\n",
       "      <td>500.750000</td>\n",
       "      <td>2.000000</td>\n",
       "      <td>0.000000</td>\n",
       "      <td>0.000000</td>\n",
       "      <td>0.000000</td>\n",
       "      <td>14.000000</td>\n",
       "      <td>0.000000</td>\n",
       "    </tr>\n",
       "    <tr>\n",
       "      <th>50%</th>\n",
       "      <td>1000.500000</td>\n",
       "      <td>3.000000</td>\n",
       "      <td>0.000000</td>\n",
       "      <td>0.000000</td>\n",
       "      <td>0.000000</td>\n",
       "      <td>48.000000</td>\n",
       "      <td>0.000000</td>\n",
       "    </tr>\n",
       "    <tr>\n",
       "      <th>75%</th>\n",
       "      <td>1500.250000</td>\n",
       "      <td>5.000000</td>\n",
       "      <td>1.000000</td>\n",
       "      <td>0.054054</td>\n",
       "      <td>0.507102</td>\n",
       "      <td>183.250000</td>\n",
       "      <td>0.066140</td>\n",
       "    </tr>\n",
       "    <tr>\n",
       "      <th>max</th>\n",
       "      <td>2000.000000</td>\n",
       "      <td>100.000000</td>\n",
       "      <td>41.000000</td>\n",
       "      <td>1.000000</td>\n",
       "      <td>10.915808</td>\n",
       "      <td>9163.000000</td>\n",
       "      <td>1.996653</td>\n",
       "    </tr>\n",
       "  </tbody>\n",
       "</table>\n",
       "</div>"
      ],
      "text/plain": [
       "                Id         Dist  CommonNeighbours      Jaccard   AdamicAdar  \\\n",
       "count  2000.000000  2000.000000       2000.000000  2000.000000  2000.000000   \n",
       "mean   1000.500000    13.599500          1.342000     0.064341     0.530868   \n",
       "std     577.494589    30.418477          3.344941     0.141352     1.157031   \n",
       "min       1.000000     1.000000          0.000000     0.000000     0.000000   \n",
       "25%     500.750000     2.000000          0.000000     0.000000     0.000000   \n",
       "50%    1000.500000     3.000000          0.000000     0.000000     0.000000   \n",
       "75%    1500.250000     5.000000          1.000000     0.054054     0.507102   \n",
       "max    2000.000000   100.000000         41.000000     1.000000    10.915808   \n",
       "\n",
       "       PreferentialAttachment  ResourceAllocation  \n",
       "count             2000.000000         2000.000000  \n",
       "mean               231.747500            0.112561  \n",
       "std                637.358269            0.239929  \n",
       "min                  0.000000            0.000000  \n",
       "25%                 14.000000            0.000000  \n",
       "50%                 48.000000            0.000000  \n",
       "75%                183.250000            0.066140  \n",
       "max               9163.000000            1.996653  "
      ]
     },
     "execution_count": 9,
     "metadata": {},
     "output_type": "execute_result"
    }
   ],
   "source": [
    "testUndirected = pd.read_csv('test-public.csv', converters = {'Source': str, 'Sink': str})\n",
    "testUndirected['Dist'] = testUndirected.apply(lambda l: shortestDistance(gUndirected,l.Source,l.Sink),axis=1)\n",
    "print('Added \"Dist\" column')\n",
    "testUndirected['CommonNeighbours'] = testUndirected.apply(lambda l: commonNeighbours(gUndirected,l.Source,l.Sink),axis=1)\n",
    "print('Added \"CommonNeighbours\" column')\n",
    "testUndirected['Jaccard'] = testUndirected.apply(lambda l: jaccard(gUndirected,l.Source,l.Sink),axis=1)\n",
    "print('Added \"Jaccard\" column')\n",
    "testUndirected['AdamicAdar'] = testUndirected.apply(lambda l: adamicAdar(gUndirected,l.Source,l.Sink),axis=1)\n",
    "print('Added \"AdamicAdar\" column')\n",
    "testUndirected['PreferentialAttachment'] = testUndirected.apply(lambda l: preferentialAttachment(gUndirected,l.Source,l.Sink),axis=1)\n",
    "print('Added \"PreferentialAttachment\" column')\n",
    "testUndirected['ResourceAllocation'] = testUndirected.apply(lambda l: resourceAllocation(gUndirected,l.Source,l.Sink),axis=1)\n",
    "print('Added \"ResourceAllocation\" column')\n",
    "testUndirected.describe()"
   ]
  },
  {
   "cell_type": "code",
   "execution_count": 10,
   "metadata": {},
   "outputs": [
    {
     "name": "stdout",
     "output_type": "stream",
     "text": [
      "Added \"Dist\" column\n",
      "Added \"CommonNeighbours\" column\n",
      "Added \"Jaccard\" column\n",
      "Added \"AdamicAdar\" column\n",
      "Added \"PreferentialAttachment\" column\n",
      "Added \"ResourceAllocation\" column\n"
     ]
    },
    {
     "data": {
      "text/html": [
       "<div>\n",
       "<style scoped>\n",
       "    .dataframe tbody tr th:only-of-type {\n",
       "        vertical-align: middle;\n",
       "    }\n",
       "\n",
       "    .dataframe tbody tr th {\n",
       "        vertical-align: top;\n",
       "    }\n",
       "\n",
       "    .dataframe thead th {\n",
       "        text-align: right;\n",
       "    }\n",
       "</style>\n",
       "<table border=\"1\" class=\"dataframe\">\n",
       "  <thead>\n",
       "    <tr style=\"text-align: right;\">\n",
       "      <th></th>\n",
       "      <th>Id</th>\n",
       "      <th>Dist</th>\n",
       "      <th>CommonNeighbours</th>\n",
       "      <th>Jaccard</th>\n",
       "      <th>AdamicAdar</th>\n",
       "      <th>PreferentialAttachment</th>\n",
       "      <th>ResourceAllocation</th>\n",
       "    </tr>\n",
       "  </thead>\n",
       "  <tbody>\n",
       "    <tr>\n",
       "      <th>count</th>\n",
       "      <td>2000.000000</td>\n",
       "      <td>2000.000000</td>\n",
       "      <td>2000.000000</td>\n",
       "      <td>2000.0</td>\n",
       "      <td>2000.0</td>\n",
       "      <td>2000.0</td>\n",
       "      <td>2000.0</td>\n",
       "    </tr>\n",
       "    <tr>\n",
       "      <th>mean</th>\n",
       "      <td>1000.500000</td>\n",
       "      <td>13.599500</td>\n",
       "      <td>1.342000</td>\n",
       "      <td>0.0</td>\n",
       "      <td>0.0</td>\n",
       "      <td>0.0</td>\n",
       "      <td>0.0</td>\n",
       "    </tr>\n",
       "    <tr>\n",
       "      <th>std</th>\n",
       "      <td>577.494589</td>\n",
       "      <td>30.418477</td>\n",
       "      <td>3.344941</td>\n",
       "      <td>0.0</td>\n",
       "      <td>0.0</td>\n",
       "      <td>0.0</td>\n",
       "      <td>0.0</td>\n",
       "    </tr>\n",
       "    <tr>\n",
       "      <th>min</th>\n",
       "      <td>1.000000</td>\n",
       "      <td>1.000000</td>\n",
       "      <td>0.000000</td>\n",
       "      <td>0.0</td>\n",
       "      <td>0.0</td>\n",
       "      <td>0.0</td>\n",
       "      <td>0.0</td>\n",
       "    </tr>\n",
       "    <tr>\n",
       "      <th>25%</th>\n",
       "      <td>500.750000</td>\n",
       "      <td>2.000000</td>\n",
       "      <td>0.000000</td>\n",
       "      <td>0.0</td>\n",
       "      <td>0.0</td>\n",
       "      <td>0.0</td>\n",
       "      <td>0.0</td>\n",
       "    </tr>\n",
       "    <tr>\n",
       "      <th>50%</th>\n",
       "      <td>1000.500000</td>\n",
       "      <td>3.000000</td>\n",
       "      <td>0.000000</td>\n",
       "      <td>0.0</td>\n",
       "      <td>0.0</td>\n",
       "      <td>0.0</td>\n",
       "      <td>0.0</td>\n",
       "    </tr>\n",
       "    <tr>\n",
       "      <th>75%</th>\n",
       "      <td>1500.250000</td>\n",
       "      <td>5.000000</td>\n",
       "      <td>1.000000</td>\n",
       "      <td>0.0</td>\n",
       "      <td>0.0</td>\n",
       "      <td>0.0</td>\n",
       "      <td>0.0</td>\n",
       "    </tr>\n",
       "    <tr>\n",
       "      <th>max</th>\n",
       "      <td>2000.000000</td>\n",
       "      <td>100.000000</td>\n",
       "      <td>41.000000</td>\n",
       "      <td>0.0</td>\n",
       "      <td>0.0</td>\n",
       "      <td>0.0</td>\n",
       "      <td>0.0</td>\n",
       "    </tr>\n",
       "  </tbody>\n",
       "</table>\n",
       "</div>"
      ],
      "text/plain": [
       "                Id         Dist  CommonNeighbours  Jaccard  AdamicAdar  \\\n",
       "count  2000.000000  2000.000000       2000.000000   2000.0      2000.0   \n",
       "mean   1000.500000    13.599500          1.342000      0.0         0.0   \n",
       "std     577.494589    30.418477          3.344941      0.0         0.0   \n",
       "min       1.000000     1.000000          0.000000      0.0         0.0   \n",
       "25%     500.750000     2.000000          0.000000      0.0         0.0   \n",
       "50%    1000.500000     3.000000          0.000000      0.0         0.0   \n",
       "75%    1500.250000     5.000000          1.000000      0.0         0.0   \n",
       "max    2000.000000   100.000000         41.000000      0.0         0.0   \n",
       "\n",
       "       PreferentialAttachment  ResourceAllocation  \n",
       "count                  2000.0              2000.0  \n",
       "mean                      0.0                 0.0  \n",
       "std                       0.0                 0.0  \n",
       "min                       0.0                 0.0  \n",
       "25%                       0.0                 0.0  \n",
       "50%                       0.0                 0.0  \n",
       "75%                       0.0                 0.0  \n",
       "max                       0.0                 0.0  "
      ]
     },
     "execution_count": 10,
     "metadata": {},
     "output_type": "execute_result"
    }
   ],
   "source": [
    "testUndirectedMulti = pd.read_csv('test-public.csv', converters = {'Source': str, 'Sink': str})\n",
    "testUndirectedMulti['Dist'] = testUndirectedMulti.apply(lambda l: shortestDistance(gUndirectedMulti,l.Source,l.Sink),axis=1)\n",
    "print('Added \"Dist\" column')\n",
    "testUndirectedMulti['CommonNeighbours'] = testUndirectedMulti.apply(lambda l: commonNeighbours(gUndirectedMulti,l.Source,l.Sink),axis=1)\n",
    "print('Added \"CommonNeighbours\" column')\n",
    "testUndirectedMulti['Jaccard'] = testUndirectedMulti.apply(lambda l: jaccard(gUndirectedMulti,l.Source,l.Sink),axis=1)\n",
    "print('Added \"Jaccard\" column')\n",
    "testUndirectedMulti['AdamicAdar'] = testUndirectedMulti.apply(lambda l: adamicAdar(gUndirectedMulti,l.Source,l.Sink),axis=1)\n",
    "print('Added \"AdamicAdar\" column')\n",
    "testUndirectedMulti['PreferentialAttachment'] = testUndirectedMulti.apply(lambda l: preferentialAttachment(gUndirectedMulti,l.Source,l.Sink),axis=1)\n",
    "print('Added \"PreferentialAttachment\" column')\n",
    "testUndirectedMulti['ResourceAllocation'] = testUndirectedMulti.apply(lambda l: resourceAllocation(gUndirectedMulti,l.Source,l.Sink),axis=1)\n",
    "print('Added \"ResourceAllocation\" column')\n",
    "testUndirectedMulti.describe()"
   ]
  },
  {
   "cell_type": "markdown",
   "metadata": {},
   "source": [
    "## 3. Training & Testing Data"
   ]
  },
  {
   "cell_type": "code",
   "execution_count": 11,
   "metadata": {},
   "outputs": [],
   "source": [
    "from sklearn.preprocessing import StandardScaler"
   ]
  },
  {
   "cell_type": "code",
   "execution_count": 12,
   "metadata": {},
   "outputs": [],
   "source": [
    "trainXUndirected = dtUndirected[['Dist', 'CommonNeighbours','Jaccard', 'AdamicAdar', 'PreferentialAttachment','ResourceAllocation']]\n",
    "trainYUndirected = dtUndirected['Coauthor']"
   ]
  },
  {
   "cell_type": "code",
   "execution_count": 13,
   "metadata": {},
   "outputs": [],
   "source": [
    "trainXUndirectedMulti = dtUndirectedMulti[['Dist', 'CommonNeighbours','Jaccard', 'AdamicAdar', 'PreferentialAttachment','ResourceAllocation']]\n",
    "trainYUndirectedMulti = dtUndirectedMulti['Coauthor']"
   ]
  },
  {
   "cell_type": "code",
   "execution_count": 14,
   "metadata": {},
   "outputs": [],
   "source": [
    "testXUndirected = testUndirected[['Dist', 'CommonNeighbours',\n",
    "       'Jaccard', 'AdamicAdar', 'PreferentialAttachment',\n",
    "       'ResourceAllocation']]"
   ]
  },
  {
   "cell_type": "code",
   "execution_count": 15,
   "metadata": {},
   "outputs": [],
   "source": [
    "testXUndirectedMulti = testUndirectedMulti[['Dist', 'CommonNeighbours',\n",
    "       'Jaccard', 'AdamicAdar', 'PreferentialAttachment',\n",
    "       'ResourceAllocation']]"
   ]
  },
  {
   "cell_type": "code",
   "execution_count": 16,
   "metadata": {},
   "outputs": [],
   "source": [
    "testIds = testUndirected['Id']"
   ]
  },
  {
   "cell_type": "markdown",
   "metadata": {},
   "source": [
    "## 4. Visualisation"
   ]
  },
  {
   "cell_type": "code",
   "execution_count": 17,
   "metadata": {},
   "outputs": [],
   "source": [
    "import seaborn as sns\n",
    "import matplotlib.pyplot as plt"
   ]
  },
  {
   "cell_type": "code",
   "execution_count": 18,
   "metadata": {},
   "outputs": [
    {
     "data": {
      "image/png": "[encoded data removed]",
      "text/plain": [
       "<Figure size 432x288 with 1 Axes>"
      ]
     },
     "metadata": {
      "needs_background": "light"
     },
     "output_type": "display_data"
    },
    {
     "name": "stderr",
     "output_type": "stream",
     "text": [
      "C:\\ProgramData\\Anaconda3\\lib\\site-packages\\seaborn\\distributions.py:283: UserWarning: Data must have variance to compute a kernel density estimate.\n",
      "  warnings.warn(msg, UserWarning)\n"
     ]
    },
    {
     "data": {
      "image/png": "[encoded data removed]",
      "text/plain": [
       "<Figure size 432x288 with 1 Axes>"
      ]
     },
     "metadata": {
      "needs_background": "light"
     },
     "output_type": "display_data"
    }
   ],
   "source": [
    "gd = dtUndirected[dtUndirected['Coauthor']==0]['Dist']\n",
    "g = sns.distributions.distplot(gd)\n",
    "g.set_title('Distribution of Distance when coauthor=0')\n",
    "plt.show()\n",
    "\n",
    "gd = dtUndirected[dtUndirected['Coauthor']==1]['Dist']\n",
    "g = sns.distributions.distplot(gd)\n",
    "g.set_title('Distribution of Distance when coauthor=1')\n",
    "plt.show()"
   ]
  },
  {
   "cell_type": "code",
   "execution_count": 19,
   "metadata": {},
   "outputs": [
    {
     "name": "stderr",
     "output_type": "stream",
     "text": [
      "C:\\ProgramData\\Anaconda3\\lib\\site-packages\\seaborn\\distributions.py:283: UserWarning: Data must have variance to compute a kernel density estimate.\n",
      "  warnings.warn(msg, UserWarning)\n"
     ]
    },
    {
     "data": {
      "image/png": "[encoded data removed]",
      "text/plain": [
       "<Figure size 432x288 with 1 Axes>"
      ]
     },
     "metadata": {
      "needs_background": "light"
     },
     "output_type": "display_data"
    },
    {
     "data": {
      "image/png": "[encoded data removed]",
      "text/plain": [
       "<Figure size 432x288 with 1 Axes>"
      ]
     },
     "metadata": {
      "needs_background": "light"
     },
     "output_type": "display_data"
    }
   ],
   "source": [
    "gd = dtUndirected[dtUndirected['Coauthor']==0]['CommonNeighbours']\n",
    "g = sns.distributions.distplot(gd)\n",
    "g.set_title('Distribution of CommonNeighbours when coauthor=0')\n",
    "plt.show()\n",
    "\n",
    "gd = dtUndirected[dtUndirected['Coauthor']==1]['CommonNeighbours']\n",
    "g = sns.distributions.distplot(gd)\n",
    "g.set_title('Distribution of CommonNeighbours when coauthor=1')\n",
    "plt.show()"
   ]
  },
  {
   "cell_type": "code",
   "execution_count": 20,
   "metadata": {},
   "outputs": [
    {
     "name": "stderr",
     "output_type": "stream",
     "text": [
      "C:\\ProgramData\\Anaconda3\\lib\\site-packages\\seaborn\\distributions.py:283: UserWarning: Data must have variance to compute a kernel density estimate.\n",
      "  warnings.warn(msg, UserWarning)\n"
     ]
    },
    {
     "data": {
      "image/png": "[encoded data removed]",
      "text/plain": [
       "<Figure size 432x288 with 1 Axes>"
      ]
     },
     "metadata": {
      "needs_background": "light"
     },
     "output_type": "display_data"
    },
    {
     "data": {
      "image/png": "[encoded data removed]",
      "text/plain": [
       "<Figure size 432x288 with 1 Axes>"
      ]
     },
     "metadata": {
      "needs_background": "light"
     },
     "output_type": "display_data"
    }
   ],
   "source": [
    "gd = dtUndirected[dtUndirected['Coauthor']==0]['Jaccard']\n",
    "g = sns.distributions.distplot(gd)\n",
    "g.set_title('Distribution of Jaccard when coauthor=0')\n",
    "plt.show()\n",
    "\n",
    "gd = dtUndirected[dtUndirected['Coauthor']==1]['Jaccard']\n",
    "g = sns.distributions.distplot(gd)\n",
    "g.set_title('Distribution of Jaccard when coauthor=1')\n",
    "plt.show()"
   ]
  },
  {
   "cell_type": "code",
   "execution_count": 21,
   "metadata": {},
   "outputs": [
    {
     "name": "stderr",
     "output_type": "stream",
     "text": [
      "C:\\ProgramData\\Anaconda3\\lib\\site-packages\\seaborn\\distributions.py:283: UserWarning: Data must have variance to compute a kernel density estimate.\n",
      "  warnings.warn(msg, UserWarning)\n"
     ]
    },
    {
     "data": {
      "image/png": "[encoded data removed]",
      "text/plain": [
       "<Figure size 432x288 with 1 Axes>"
      ]
     },
     "metadata": {
      "needs_background": "light"
     },
     "output_type": "display_data"
    },
    {
     "data": {
      "image/png": "[encoded data removed]",
      "text/plain": [
       "<Figure size 432x288 with 1 Axes>"
      ]
     },
     "metadata": {
      "needs_background": "light"
     },
     "output_type": "display_data"
    }
   ],
   "source": [
    "gd = dtUndirected[dtUndirected['Coauthor']==0]['AdamicAdar']\n",
    "g = sns.distributions.distplot(gd)\n",
    "g.set_title('Distribution of AdamicAdar when coauthor=0')\n",
    "plt.show()\n",
    "\n",
    "gd = dtUndirected[dtUndirected['Coauthor']==1]['AdamicAdar']\n",
    "g = sns.distributions.distplot(gd)\n",
    "g.set_title('Distribution of AdamicAdar when coauthor=1')\n",
    "plt.show()"
   ]
  },
  {
   "cell_type": "code",
   "execution_count": 22,
   "metadata": {},
   "outputs": [
    {
     "name": "stderr",
     "output_type": "stream",
     "text": [
      "C:\\ProgramData\\Anaconda3\\lib\\site-packages\\seaborn\\distributions.py:283: UserWarning: Data must have variance to compute a kernel density estimate.\n",
      "  warnings.warn(msg, UserWarning)\n"
     ]
    },
    {
     "data": {
      "image/png": "[encoded data removed]",
      "text/plain": [
       "<Figure size 432x288 with 1 Axes>"
      ]
     },
     "metadata": {
      "needs_background": "light"
     },
     "output_type": "display_data"
    },
    {
     "data": {
      "image/png": "[encoded data removed]",
      "text/plain": [
       "<Figure size 432x288 with 1 Axes>"
      ]
     },
     "metadata": {
      "needs_background": "light"
     },
     "output_type": "display_data"
    }
   ],
   "source": [
    "gd = dtUndirected[dtUndirected['Coauthor']==0]['PreferentialAttachment']\n",
    "g = sns.distributions.distplot(gd)\n",
    "g.set_title('Distribution of PreferentialAttachment when coauthor=0')\n",
    "plt.show()\n",
    "\n",
    "gd = dtUndirected[dtUndirected['Coauthor']==1]['PreferentialAttachment']\n",
    "g = sns.distributions.distplot(gd)\n",
    "g.set_title('Distribution of PreferentialAttachment when coauthor=1')\n",
    "plt.show()"
   ]
  },
  {
   "cell_type": "code",
   "execution_count": 23,
   "metadata": {},
   "outputs": [
    {
     "name": "stderr",
     "output_type": "stream",
     "text": [
      "C:\\ProgramData\\Anaconda3\\lib\\site-packages\\seaborn\\distributions.py:283: UserWarning: Data must have variance to compute a kernel density estimate.\n",
      "  warnings.warn(msg, UserWarning)\n"
     ]
    },
    {
     "data": {
      "image/png": "[encoded data removed]",
      "text/plain": [
       "<Figure size 432x288 with 1 Axes>"
      ]
     },
     "metadata": {
      "needs_background": "light"
     },
     "output_type": "display_data"
    },
    {
     "data": {
      "image/png": "[encoded data removed]",
      "text/plain": [
       "<Figure size 432x288 with 1 Axes>"
      ]
     },
     "metadata": {
      "needs_background": "light"
     },
     "output_type": "display_data"
    }
   ],
   "source": [
    "gd = dtUndirected[dtUndirected['Coauthor']==0]['ResourceAllocation']\n",
    "g = sns.distributions.distplot(gd)\n",
    "g.set_title('Distribution of ResourceAllocation when coauthor=0')\n",
    "plt.show()\n",
    "\n",
    "gd = dtUndirected[dtUndirected['Coauthor']==1]['ResourceAllocation']\n",
    "g = sns.distributions.distplot(gd)\n",
    "g.set_title('Distribution of ResourceAllocation when coauthor=1')\n",
    "plt.show()"
   ]
  },
  {
   "cell_type": "markdown",
   "metadata": {},
   "source": [
    "## 5. Linear Regression"
   ]
  },
  {
   "cell_type": "code",
   "execution_count": 24,
   "metadata": {},
   "outputs": [],
   "source": [
    "from sklearn.linear_model import LinearRegression"
   ]
  },
  {
   "cell_type": "code",
   "execution_count": 25,
   "metadata": {},
   "outputs": [
    {
     "name": "stdout",
     "output_type": "stream",
     "text": [
      "Undirected Scores:  [0.63413772 0.64163563 0.65436054 0.63722995 0.64275272]\n"
     ]
    }
   ],
   "source": [
    "linearRegressionUndirected = LinearRegression()\n",
    "print('Undirected Scores: ',\n",
    "    cross_val_score(linearRegressionUndirected, trainXUndirected, trainYUndirected, cv=5))"
   ]
  },
  {
   "cell_type": "code",
   "execution_count": 26,
   "metadata": {},
   "outputs": [
    {
     "name": "stdout",
     "output_type": "stream",
     "text": [
      "Undirected Multi Scores:  [0.52001669 0.52673623 0.53498154 0.52469447 0.52543998]\n"
     ]
    }
   ],
   "source": [
    "linearRegressionUndirectedMulti = LinearRegression()\n",
    "print('Undirected Multi Scores: ',\n",
    "    cross_val_score(linearRegressionUndirectedMulti, trainXUndirectedMulti, trainYUndirectedMulti, cv=5))"
   ]
  },
  {
   "cell_type": "markdown",
   "metadata": {},
   "source": [
    "## 6. Logistic Regression"
   ]
  },
  {
   "cell_type": "code",
   "execution_count": 27,
   "metadata": {},
   "outputs": [],
   "source": [
    "from sklearn.linear_model import LogisticRegression"
   ]
  },
  {
   "cell_type": "code",
   "execution_count": 28,
   "metadata": {},
   "outputs": [
    {
     "name": "stdout",
     "output_type": "stream",
     "text": [
      "Undirected Scores:  [1. 1. 1. 1. 1.]\n"
     ]
    }
   ],
   "source": [
    "logisticRegressionUndirected = LogisticRegression(random_state=0)\n",
    "print('Undirected Scores: ',\n",
    "    cross_val_score(logisticRegressionUndirected, trainXUndirected, trainYUndirected, cv=5))"
   ]
  },
  {
   "cell_type": "code",
   "execution_count": 29,
   "metadata": {
    "scrolled": true
   },
   "outputs": [
    {
     "name": "stdout",
     "output_type": "stream",
     "text": [
      "Undirected Multi Scores:  [1. 1. 1. 1. 1.]\n"
     ]
    }
   ],
   "source": [
    "logisticRegressionUndirectedMulti = LogisticRegression(random_state=0)\n",
    "print('Undirected Multi Scores: ',\n",
    "    cross_val_score(logisticRegressionUndirectedMulti, trainXUndirectedMulti, trainYUndirectedMulti, cv=5))"
   ]
  },
  {
   "cell_type": "code",
   "execution_count": 30,
   "metadata": {},
   "outputs": [
    {
     "data": {
      "text/html": [
       "<div>\n",
       "<style scoped>\n",
       "    .dataframe tbody tr th:only-of-type {\n",
       "        vertical-align: middle;\n",
       "    }\n",
       "\n",
       "    .dataframe tbody tr th {\n",
       "        vertical-align: top;\n",
       "    }\n",
       "\n",
       "    .dataframe thead th {\n",
       "        text-align: right;\n",
       "    }\n",
       "</style>\n",
       "<table border=\"1\" class=\"dataframe\">\n",
       "  <thead>\n",
       "    <tr style=\"text-align: right;\">\n",
       "      <th></th>\n",
       "      <th>Id</th>\n",
       "      <th>Predicted</th>\n",
       "    </tr>\n",
       "  </thead>\n",
       "  <tbody>\n",
       "    <tr>\n",
       "      <th>0</th>\n",
       "      <td>1</td>\n",
       "      <td>1.000000</td>\n",
       "    </tr>\n",
       "    <tr>\n",
       "      <th>1</th>\n",
       "      <td>2</td>\n",
       "      <td>0.999968</td>\n",
       "    </tr>\n",
       "    <tr>\n",
       "      <th>2</th>\n",
       "      <td>3</td>\n",
       "      <td>1.000000</td>\n",
       "    </tr>\n",
       "    <tr>\n",
       "      <th>3</th>\n",
       "      <td>4</td>\n",
       "      <td>1.000000</td>\n",
       "    </tr>\n",
       "    <tr>\n",
       "      <th>4</th>\n",
       "      <td>5</td>\n",
       "      <td>1.000000</td>\n",
       "    </tr>\n",
       "  </tbody>\n",
       "</table>\n",
       "</div>"
      ],
      "text/plain": [
       "   Id  Predicted\n",
       "0   1   1.000000\n",
       "1   2   0.999968\n",
       "2   3   1.000000\n",
       "3   4   1.000000\n",
       "4   5   1.000000"
      ]
     },
     "execution_count": 30,
     "metadata": {},
     "output_type": "execute_result"
    }
   ],
   "source": [
    "#########################################\n",
    "# Kaggle Score = 0.80095\n",
    "#########################################\n",
    "logisticRegressionUndirected.fit(trainXUndirected, trainYUndirected)\n",
    "logisticResultUndirected = pd.DataFrame({\n",
    "    'Id': testIds,\n",
    "    'Predicted': [prob[1] for prob in logisticRegressionUndirected.predict_proba(testXUndirected)]\n",
    "})\n",
    "logisticResultUndirected.to_csv('results/LogisticRegressionUndirected.csv', index=False)\n",
    "logisticResultUndirected.head()"
   ]
  },
  {
   "cell_type": "code",
   "execution_count": 31,
   "metadata": {
    "scrolled": true
   },
   "outputs": [
    {
     "data": {
      "text/html": [
       "<div>\n",
       "<style scoped>\n",
       "    .dataframe tbody tr th:only-of-type {\n",
       "        vertical-align: middle;\n",
       "    }\n",
       "\n",
       "    .dataframe tbody tr th {\n",
       "        vertical-align: top;\n",
       "    }\n",
       "\n",
       "    .dataframe thead th {\n",
       "        text-align: right;\n",
       "    }\n",
       "</style>\n",
       "<table border=\"1\" class=\"dataframe\">\n",
       "  <thead>\n",
       "    <tr style=\"text-align: right;\">\n",
       "      <th></th>\n",
       "      <th>features</th>\n",
       "      <th>importance</th>\n",
       "    </tr>\n",
       "  </thead>\n",
       "  <tbody>\n",
       "    <tr>\n",
       "      <th>0</th>\n",
       "      <td>Dist</td>\n",
       "      <td>-2.773991</td>\n",
       "    </tr>\n",
       "    <tr>\n",
       "      <th>1</th>\n",
       "      <td>CommonNeighbours</td>\n",
       "      <td>0.100864</td>\n",
       "    </tr>\n",
       "    <tr>\n",
       "      <th>2</th>\n",
       "      <td>Jaccard</td>\n",
       "      <td>0.032356</td>\n",
       "    </tr>\n",
       "    <tr>\n",
       "      <th>3</th>\n",
       "      <td>AdamicAdar</td>\n",
       "      <td>0.106247</td>\n",
       "    </tr>\n",
       "    <tr>\n",
       "      <th>4</th>\n",
       "      <td>PreferentialAttachment</td>\n",
       "      <td>0.776024</td>\n",
       "    </tr>\n",
       "    <tr>\n",
       "      <th>5</th>\n",
       "      <td>ResourceAllocation</td>\n",
       "      <td>0.035696</td>\n",
       "    </tr>\n",
       "  </tbody>\n",
       "</table>\n",
       "</div>"
      ],
      "text/plain": [
       "                 features  importance\n",
       "0                    Dist   -2.773991\n",
       "1        CommonNeighbours    0.100864\n",
       "2                 Jaccard    0.032356\n",
       "3              AdamicAdar    0.106247\n",
       "4  PreferentialAttachment    0.776024\n",
       "5      ResourceAllocation    0.035696"
      ]
     },
     "execution_count": 31,
     "metadata": {},
     "output_type": "execute_result"
    },
    {
     "data": {
      "image/png": "[encoded data removed]",
      "text/plain": [
       "<Figure size 432x288 with 1 Axes>"
      ]
     },
     "metadata": {
      "needs_background": "light"
     },
     "output_type": "display_data"
    }
   ],
   "source": [
    "# summarize feature importance\n",
    "logisticFeaturesUndirected = pd.DataFrame({\n",
    "    'features': trainXUndirected.columns,\n",
    "    'importance': logisticRegressionUndirected.coef_[0]\n",
    "})\n",
    "ax = logisticFeaturesUndirected.plot.bar(x='features', rot=90)\n",
    "ax.set_title('Feature importance')\n",
    "logisticFeaturesUndirected"
   ]
  },
  {
   "cell_type": "code",
   "execution_count": 32,
   "metadata": {},
   "outputs": [
    {
     "data": {
      "text/html": [
       "<div>\n",
       "<style scoped>\n",
       "    .dataframe tbody tr th:only-of-type {\n",
       "        vertical-align: middle;\n",
       "    }\n",
       "\n",
       "    .dataframe tbody tr th {\n",
       "        vertical-align: top;\n",
       "    }\n",
       "\n",
       "    .dataframe thead th {\n",
       "        text-align: right;\n",
       "    }\n",
       "</style>\n",
       "<table border=\"1\" class=\"dataframe\">\n",
       "  <thead>\n",
       "    <tr style=\"text-align: right;\">\n",
       "      <th></th>\n",
       "      <th>Id</th>\n",
       "      <th>Predicted</th>\n",
       "    </tr>\n",
       "  </thead>\n",
       "  <tbody>\n",
       "    <tr>\n",
       "      <th>0</th>\n",
       "      <td>1</td>\n",
       "      <td>0.226630</td>\n",
       "    </tr>\n",
       "    <tr>\n",
       "      <th>1</th>\n",
       "      <td>2</td>\n",
       "      <td>0.000078</td>\n",
       "    </tr>\n",
       "    <tr>\n",
       "      <th>2</th>\n",
       "      <td>3</td>\n",
       "      <td>0.226630</td>\n",
       "    </tr>\n",
       "    <tr>\n",
       "      <th>3</th>\n",
       "      <td>4</td>\n",
       "      <td>0.999914</td>\n",
       "    </tr>\n",
       "    <tr>\n",
       "      <th>4</th>\n",
       "      <td>5</td>\n",
       "      <td>0.004745</td>\n",
       "    </tr>\n",
       "  </tbody>\n",
       "</table>\n",
       "</div>"
      ],
      "text/plain": [
       "   Id  Predicted\n",
       "0   1   0.226630\n",
       "1   2   0.000078\n",
       "2   3   0.226630\n",
       "3   4   0.999914\n",
       "4   5   0.004745"
      ]
     },
     "execution_count": 32,
     "metadata": {},
     "output_type": "execute_result"
    }
   ],
   "source": [
    "#########################################\n",
    "# Kaggle Score = 0.80096\n",
    "#########################################\n",
    "logisticRegressionUndirectedMulti.fit(trainXUndirectedMulti, trainYUndirectedMulti)\n",
    "logisticResultUndirectedMulti = pd.DataFrame({\n",
    "    'Id': testIds,\n",
    "    'Predicted': [prob[1] for prob in logisticRegressionUndirectedMulti.predict_proba(testXUndirectedMulti)]\n",
    "})\n",
    "logisticResultUndirectedMulti.to_csv('results/LogisticRegressionUndirectedMulti.csv', index=False)\n",
    "logisticResultUndirectedMulti.head()"
   ]
  },
  {
   "cell_type": "code",
   "execution_count": 33,
   "metadata": {},
   "outputs": [
    {
     "data": {
      "text/html": [
       "<div>\n",
       "<style scoped>\n",
       "    .dataframe tbody tr th:only-of-type {\n",
       "        vertical-align: middle;\n",
       "    }\n",
       "\n",
       "    .dataframe tbody tr th {\n",
       "        vertical-align: top;\n",
       "    }\n",
       "\n",
       "    .dataframe thead th {\n",
       "        text-align: right;\n",
       "    }\n",
       "</style>\n",
       "<table border=\"1\" class=\"dataframe\">\n",
       "  <thead>\n",
       "    <tr style=\"text-align: right;\">\n",
       "      <th></th>\n",
       "      <th>features</th>\n",
       "      <th>importance</th>\n",
       "    </tr>\n",
       "  </thead>\n",
       "  <tbody>\n",
       "    <tr>\n",
       "      <th>0</th>\n",
       "      <td>Dist</td>\n",
       "      <td>-2.773991</td>\n",
       "    </tr>\n",
       "    <tr>\n",
       "      <th>1</th>\n",
       "      <td>CommonNeighbours</td>\n",
       "      <td>0.100864</td>\n",
       "    </tr>\n",
       "    <tr>\n",
       "      <th>2</th>\n",
       "      <td>Jaccard</td>\n",
       "      <td>0.032356</td>\n",
       "    </tr>\n",
       "    <tr>\n",
       "      <th>3</th>\n",
       "      <td>AdamicAdar</td>\n",
       "      <td>0.106247</td>\n",
       "    </tr>\n",
       "    <tr>\n",
       "      <th>4</th>\n",
       "      <td>PreferentialAttachment</td>\n",
       "      <td>0.776024</td>\n",
       "    </tr>\n",
       "    <tr>\n",
       "      <th>5</th>\n",
       "      <td>ResourceAllocation</td>\n",
       "      <td>0.035696</td>\n",
       "    </tr>\n",
       "  </tbody>\n",
       "</table>\n",
       "</div>"
      ],
      "text/plain": [
       "                 features  importance\n",
       "0                    Dist   -2.773991\n",
       "1        CommonNeighbours    0.100864\n",
       "2                 Jaccard    0.032356\n",
       "3              AdamicAdar    0.106247\n",
       "4  PreferentialAttachment    0.776024\n",
       "5      ResourceAllocation    0.035696"
      ]
     },
     "execution_count": 33,
     "metadata": {},
     "output_type": "execute_result"
    },
    {
     "data": {
      "image/png": "[encoded data removed]",
      "text/plain": [
       "<Figure size 432x288 with 1 Axes>"
      ]
     },
     "metadata": {
      "needs_background": "light"
     },
     "output_type": "display_data"
    }
   ],
   "source": [
    "# summarize feature importance\n",
    "logisticFeaturesUndirectedMulti = pd.DataFrame({\n",
    "    'features': trainXUndirectedMulti.columns,\n",
    "    'importance': logisticRegressionUndirectedMulti.coef_[0]\n",
    "})\n",
    "ax = logisticFeaturesUndirectedMulti.plot.bar(x='features', rot=90)\n",
    "ax.set_title('Feature importance')\n",
    "logisticFeaturesUndirected"
   ]
  },
  {
   "cell_type": "markdown",
   "metadata": {},
   "source": [
    "## 7. Neural Network"
   ]
  },
  {
   "cell_type": "code",
   "execution_count": 34,
   "metadata": {},
   "outputs": [],
   "source": [
    "from sklearn.neural_network import MLPClassifier"
   ]
  },
  {
   "cell_type": "code",
   "execution_count": 35,
   "metadata": {},
   "outputs": [
    {
     "name": "stdout",
     "output_type": "stream",
     "text": [
      "Undirected Scores:  [1. 1. 1. 1. 1.]\n"
     ]
    }
   ],
   "source": [
    "neuralNetworkUndirected = MLPClassifier(random_state=1, max_iter=300)\n",
    "print('Undirected Scores: ',\n",
    "    cross_val_score(neuralNetworkUndirected, trainXUndirected, trainYUndirected, cv=5))"
   ]
  },
  {
   "cell_type": "code",
   "execution_count": 36,
   "metadata": {},
   "outputs": [
    {
     "name": "stdout",
     "output_type": "stream",
     "text": [
      "Undirected Multi Scores:  [1. 1. 1. 1. 1.]\n"
     ]
    }
   ],
   "source": [
    "neuralNetworkUndirectedMulti = MLPClassifier(random_state=1, max_iter=300)\n",
    "print('Undirected Multi Scores: ',\n",
    "    cross_val_score(neuralNetworkUndirectedMulti, trainXUndirectedMulti, trainYUndirectedMulti, cv=5))"
   ]
  },
  {
   "cell_type": "code",
   "execution_count": 37,
   "metadata": {
    "scrolled": true
   },
   "outputs": [
    {
     "data": {
      "text/html": [
       "<div>\n",
       "<style scoped>\n",
       "    .dataframe tbody tr th:only-of-type {\n",
       "        vertical-align: middle;\n",
       "    }\n",
       "\n",
       "    .dataframe tbody tr th {\n",
       "        vertical-align: top;\n",
       "    }\n",
       "\n",
       "    .dataframe thead th {\n",
       "        text-align: right;\n",
       "    }\n",
       "</style>\n",
       "<table border=\"1\" class=\"dataframe\">\n",
       "  <thead>\n",
       "    <tr style=\"text-align: right;\">\n",
       "      <th></th>\n",
       "      <th>Id</th>\n",
       "      <th>Predicted</th>\n",
       "    </tr>\n",
       "  </thead>\n",
       "  <tbody>\n",
       "    <tr>\n",
       "      <th>0</th>\n",
       "      <td>1</td>\n",
       "      <td>1.0</td>\n",
       "    </tr>\n",
       "    <tr>\n",
       "      <th>1</th>\n",
       "      <td>2</td>\n",
       "      <td>1.0</td>\n",
       "    </tr>\n",
       "    <tr>\n",
       "      <th>2</th>\n",
       "      <td>3</td>\n",
       "      <td>1.0</td>\n",
       "    </tr>\n",
       "    <tr>\n",
       "      <th>3</th>\n",
       "      <td>4</td>\n",
       "      <td>1.0</td>\n",
       "    </tr>\n",
       "    <tr>\n",
       "      <th>4</th>\n",
       "      <td>5</td>\n",
       "      <td>1.0</td>\n",
       "    </tr>\n",
       "  </tbody>\n",
       "</table>\n",
       "</div>"
      ],
      "text/plain": [
       "   Id  Predicted\n",
       "0   1        1.0\n",
       "1   2        1.0\n",
       "2   3        1.0\n",
       "3   4        1.0\n",
       "4   5        1.0"
      ]
     },
     "execution_count": 37,
     "metadata": {},
     "output_type": "execute_result"
    }
   ],
   "source": [
    "#########################################\n",
    "# Kaggle Score = 0.79482\n",
    "#########################################\n",
    "neuralNetworkUndirected.fit(trainXUndirected, trainYUndirected)\n",
    "neuralNetworkResultUndirected = pd.DataFrame({\n",
    "    'Id': testIds,\n",
    "    'Predicted': [prob[1] for prob in neuralNetworkUndirected.predict_proba(testXUndirected)]\n",
    "})\n",
    "# neuralNetworkResultUndirected.to_csv('results/neuralNetworkUndirected.csv', index=False)\n",
    "neuralNetworkResultUndirected.head()"
   ]
  },
  {
   "cell_type": "code",
   "execution_count": 38,
   "metadata": {},
   "outputs": [
    {
     "name": "stdout",
     "output_type": "stream",
     "text": [
      "{'n_layers': 3, 'n_iter': 32}\n"
     ]
    }
   ],
   "source": [
    "print({\n",
    "    'n_layers': neuralNetworkUndirected.n_layers_,\n",
    "    'n_iter': neuralNetworkUndirected.n_iter_\n",
    "})"
   ]
  },
  {
   "cell_type": "code",
   "execution_count": 39,
   "metadata": {},
   "outputs": [
    {
     "data": {
      "text/html": [
       "<div>\n",
       "<style scoped>\n",
       "    .dataframe tbody tr th:only-of-type {\n",
       "        vertical-align: middle;\n",
       "    }\n",
       "\n",
       "    .dataframe tbody tr th {\n",
       "        vertical-align: top;\n",
       "    }\n",
       "\n",
       "    .dataframe thead th {\n",
       "        text-align: right;\n",
       "    }\n",
       "</style>\n",
       "<table border=\"1\" class=\"dataframe\">\n",
       "  <thead>\n",
       "    <tr style=\"text-align: right;\">\n",
       "      <th></th>\n",
       "      <th>Id</th>\n",
       "      <th>Predicted</th>\n",
       "    </tr>\n",
       "  </thead>\n",
       "  <tbody>\n",
       "    <tr>\n",
       "      <th>0</th>\n",
       "      <td>1</td>\n",
       "      <td>0.187632</td>\n",
       "    </tr>\n",
       "    <tr>\n",
       "      <th>1</th>\n",
       "      <td>2</td>\n",
       "      <td>0.000322</td>\n",
       "    </tr>\n",
       "    <tr>\n",
       "      <th>2</th>\n",
       "      <td>3</td>\n",
       "      <td>0.187632</td>\n",
       "    </tr>\n",
       "    <tr>\n",
       "      <th>3</th>\n",
       "      <td>4</td>\n",
       "      <td>1.000000</td>\n",
       "    </tr>\n",
       "    <tr>\n",
       "      <th>4</th>\n",
       "      <td>5</td>\n",
       "      <td>0.005307</td>\n",
       "    </tr>\n",
       "  </tbody>\n",
       "</table>\n",
       "</div>"
      ],
      "text/plain": [
       "   Id  Predicted\n",
       "0   1   0.187632\n",
       "1   2   0.000322\n",
       "2   3   0.187632\n",
       "3   4   1.000000\n",
       "4   5   0.005307"
      ]
     },
     "execution_count": 39,
     "metadata": {},
     "output_type": "execute_result"
    }
   ],
   "source": [
    "#########################################\n",
    "# Kaggle Score = should be similar to neuralNetworkUndirected as it seems like mutigraph does not add much value\n",
    "#########################################\n",
    "neuralNetworkUndirectedMulti.fit(trainXUndirectedMulti, trainYUndirectedMulti)\n",
    "neuralNetworkResultUndirectedMulti = pd.DataFrame({\n",
    "    'Id': testIds,\n",
    "    'Predicted': [prob[1] for prob in neuralNetworkUndirectedMulti.predict_proba(testXUndirectedMulti)]\n",
    "})\n",
    "neuralNetworkResultUndirectedMulti.to_csv('results/neuralNetworkUndirectedMulti.csv', index=False)\n",
    "neuralNetworkResultUndirectedMulti.head()"
   ]
  },
  {
   "cell_type": "code",
   "execution_count": 40,
   "metadata": {},
   "outputs": [
    {
     "name": "stdout",
     "output_type": "stream",
     "text": [
      "{'n_layers': 3, 'n_iter': 26}\n"
     ]
    }
   ],
   "source": [
    "print({\n",
    "    'n_layers': neuralNetworkUndirectedMulti.n_layers_,\n",
    "    'n_iter': neuralNetworkUndirectedMulti.n_iter_\n",
    "})"
   ]
  }
 ],
 "metadata": {
  "kernelspec": {
   "display_name": "Python 3",
   "language": "python",
   "name": "python3"
  },
  "language_info": {
   "codemirror_mode": {
    "name": "ipython",
    "version": 3
   },
   "file_extension": ".py",
   "mimetype": "text/x-python",
   "name": "python",
   "nbconvert_exporter": "python",
   "pygments_lexer": "ipython3",
   "version": "3.7.4"
  }
 },
 "nbformat": 4,
 "nbformat_minor": 4
}
