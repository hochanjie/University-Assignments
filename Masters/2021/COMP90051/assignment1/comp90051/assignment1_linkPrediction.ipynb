{
 "cells": [
  {
   "cell_type": "markdown",
   "metadata": {},
   "source": [
    "# Link Prediction\n",
    "\n",
    "To Do:\n",
    "- [x] Read: [Introduction to Graphs](https://www.analyticsvidhya.com/blog/2018/09/introduction-graph-theory-applications-python/?utm_source=blog&utm_medium=link-prediction-how-to-predict-your-future-connections-on-facebook)\n",
    "- [x] Read: [Link Prediction](https://www.analyticsvidhya.com/blog/2020/01/link-prediction-how-to-predict-your-future-connections-on-facebook)\n",
    "- [ ] Read: [NetworkX](https://networkx.org/documentation/latest/)\n",
    "- [ ] Read: [Graph Optimisation](https://www.datacamp.com/community/tutorials/networkx-python-graph-tutorial)\n",
    "- [ ] Read: [Network Analysis](https://www.cl.cam.ac.uk/~cm542/teaching/2010/stna-pdfs/stna-lecture8.pdf)\n",
    "- [ ] Read: [Pandas and Networkx](https://towardsdatascience.com/getting-started-with-graph-analysis-in-python-with-pandas-and-networkx-5e2d2f82f18e)\n",
    "- [ ] Read: [Analysing Network Data](https://programminghistorian.org/en/lessons/exploring-and-analyzing-network-data-with-python)\n",
    "- [x] Create networkx graph from raw data\n",
    "- [ ] Use networkx graph to make prediction\n",
    "- [ ] Train to obtain the weights in the networkx graph\n",
    "- [ ] Follow tutorial\n",
    "    - [ ] [Link Prediction Intro](https://medium.com/neo4j/link-prediction-with-neo4j-part-1-an-introduction-713aa779fd9)\n",
    "    - [ ] [Link Prediction with Neo4j](https://towardsdatascience.com/link-prediction-with-neo4j-part-2-predicting-co-authors-using-scikit-learn-78b42356b44c)"
   ]
  },
  {
   "cell_type": "markdown",
   "metadata": {},
   "source": [
    "## 1. Import"
   ]
  },
  {
   "cell_type": "code",
<<<<<<< HEAD
   "execution_count": 2,
=======
   "execution_count": null,
>>>>>>> 65225f8b14b90284288f7eedcd533324ad305c3b
   "metadata": {},
   "outputs": [],
   "source": [
    "import time\n",
    "import pandas as pd\n",
    "import math\n",
    "import time\n",
    "import sklearn\n",
    "import networkx as nx # Python package for creation, manipulation and sudy of the structure and dynamics and function of complex networks"
   ]
  },
  {
   "cell_type": "markdown",
   "metadata": {},
   "source": [
    "## 2. Load Data + Split Train/Test"
   ]
  },
  {
   "cell_type": "code",
<<<<<<< HEAD
   "execution_count": 3,
=======
   "execution_count": null,
>>>>>>> 65225f8b14b90284288f7eedcd533324ad305c3b
   "metadata": {},
   "outputs": [],
   "source": [
    "def loadTrainDataAsUndirectedGraph(trainTestSplit):\n",
    "    filename = \"train.txt\"\n",
    "    dataRow = [line.rstrip(\"\\n\") for line in open(filename)]\n",
    "    train, test = trainTestSplit(dataRow)\n",
    "    return buildGraph(train), buildGraph(test)\n",
    "\n",
    "def buildGraph(rows):\n",
    "    g = nx.Graph()\n",
    "    for row in rows:\n",
    "        authorIds = row.split()\n",
    "        for i, author in enumerate(authorIds):\n",
    "            for coauthor in authorIds[i+1:]:\n",
    "                if g.has_edge(author, coauthor):\n",
    "                    g[author][coauthor]['frequency'] += 1\n",
    "                else:\n",
    "                    g.add_edge(author, coauthor, frequency=1)\n",
    "    return g\n",
    "\n",
    "def split5050(rows):\n",
    "    return rows[0::2], rows[1::2]\n",
    "\n",
    "# Load train data\n",
    "trainGraph, testGraph = loadTrainDataAsUndirectedGraph(split5050)"
   ]
  },
  {
   "cell_type": "markdown",
   "metadata": {},
   "source": [
    "## 3. Preprocess"
   ]
  },
  {
   "cell_type": "code",
   "execution_count": null,
   "metadata": {
    "scrolled": true,
    "tags": []
   },
   "outputs": [],
   "source": [
    "def createBalancedData(graph):\n",
    "    allAuthors = list(graph.nodes)\n",
    "    trueInstances = []\n",
    "    falseInstances = []\n",
    "    # Get true instances and false instances\n",
    "    for i, author1 in enumerate(allAuthors):\n",
    "        if(i%100==0): print('.', end='')\n",
    "        for author2 in allAuthors[i+1:]:\n",
    "            if graph.has_edge(author1, author2): # True instances\n",
    "                trueInstances.append({\n",
    "                    \"Source-Sink\": (author1,author2),\n",
    "                    \"Freq\": graph[author1][author2]['frequency'],\n",
    "                    \"Coauthor\": True })\n",
    "            else: # False instances (instances that are more than 3 hops away)\n",
    "                author1Neighbors = list(nx.all_neighbors(graph, author1))\n",
    "                author2Neighbors = list(nx.all_neighbors(graph, author2))\n",
    "                if (len(author1Neighbors)==1 and len(author2Neighbors)==1):\n",
    "                    common = len(list(nx.common_neighbors(graph, author1Neighbors[0], author2Neighbors[0])))\n",
    "                    if common == 0:\n",
    "                        falseInstances.append({\n",
    "                            \"Source-Sink\": (author1,author2),\n",
    "                            \"Freq\": 0,\n",
    "                            \"Coauthor\": False })\n",
    "    # Downsample false instances\n",
    "    numTrue = len(trueInstances)\n",
    "    falseInstances = sklearn.utils.resample(\n",
    "                        falseInstances,\n",
    "                        n_samples=numTrue,\n",
    "                        random_state=0)  # TODO: Hardcoded random state\n",
    "    # Shuffle training data\n",
    "    data = sklearn.utils.shuffle(trueInstances+falseInstances, random_state=0) # TODO: Hardcoded random state\n",
    "    return pd.DataFrame(data=data)\n",
    "\n",
    "# Convert to data table\n",
    "dt = createBalancedData(trainGraph)\n",
    "dt.head()"
   ]
  },
  {
   "cell_type": "code",
   "execution_count": null,
   "metadata": {},
   "outputs": [],
   "source": [
    "dt."
   ]
  },
  {
   "cell_type": "code",
<<<<<<< HEAD
   "execution_count": 26,
   "metadata": {},
   "outputs": [
    {
     "name": "stdout",
     "output_type": "stream",
     "text": [
      "20.243659257888794 second used\n"
     ]
    }
   ],
   "source": [
    "# Load data\n",
    "trainRow = loadTrainData()\n",
    "test = loadTestData()\n",
    "# # Preprocess data\n",
    "trainGraph = createUndirectedGraph(trainRow)\n",
    "\n",
    "# Check graph\n",
    "paths = []\n",
    "start = time.time()\n",
    "for idx, i in test.iterrows():\n",
    "    try:\n",
    "        path = nx.dijkstra_path(trainGraph, source= str(i[1]), target=str(i[2]), weight='Distance')\n",
    "        paths.append(path)\n",
    "    except:\n",
    "        paths.append([])\n",
    "end = time.time()\n",
    "print(end - start, \"second used\")"
=======
   "execution_count": null,
   "metadata": {},
   "outputs": [],
   "source": [
    "# def convertGraphToDataTable(graph):\n",
    "#     start_time = time.time()\n",
    "#     allAuthors = list(graph.nodes)\n",
    "#     print(\"Number of authors =\", len(allAuthors))\n",
    "#     data = []\n",
    "#     for i, author1 in enumerate(allAuthors):\n",
    "#         if(i%100==0): print('.', end='')\n",
    "#         for author2 in allAuthors[i+1:]:\n",
    "#             commonNeighbors = len(list(nx.common_neighbors(trainGraph, author1, author2)))\n",
    "#             if graph.has_edge(author1, author2):\n",
    "#                 freq = graph[author1][author2]['frequency']\n",
    "#                 coauthor = True\n",
    "#             else:\n",
    "#                 freq = 0\n",
    "#                 coauthor = False\n",
    "#             data.append({\n",
    "#                 \"Source-Sink\": (author1,author2),\n",
    "#                 \"Freq\": freq, \n",
    "#                 \"CommonNeighbors\": commonNeighbors,\n",
    "#                 \"ShortestPath\": \n",
    "#                 \"Coauthor\": coauthor,\n",
    "#             })\n",
    "#     data = pd.DataFrame(data=data)\n",
    "#     print(\"Finished creating datatable in %s seconds\" % (time.time() - start_time))\n",
    "#     print('Calculating Adamic Adar...')\n",
    "#     data['AdamicAdar'] = [x for (_,_,x) in list(nx.adamic_adar_index(trainGraph, data['Source-Sink']))]\n",
    "#     print(\"Finished preprocessing in %s seconds\" % (time.time() - start_time))\n",
    "#     return data\n",
    "\n",
    "# # Convert to data table\n",
    "# dt = convertGraphToDataTable(trainGraph)\n",
    "\n",
    "# # TODO: A better way to implement this is to get a table with the coauthor = True, and then generate the same number of coauthor=False, and the calculate features based on the shortened table"
   ]
  },
  {
   "cell_type": "code",
   "execution_count": null,
   "metadata": {},
   "outputs": [],
   "source": [
    "# dt.query(\"Freq==0 and Coauthor\")"
   ]
  },
  {
   "cell_type": "code",
   "execution_count": null,
   "metadata": {},
   "outputs": [],
   "source": [
    "# # Check graph feature: frequency (Number of times coauthoring)\n",
    "# print(\"Feature: frequency\")\n",
    "# print('\\t(10,986): ',trainGraph['10']['986']['frequency'])\n",
    "# print('\\t(932,2861): ',trainGraph['932']['2861']['frequency'])\n",
    "\n",
    "# # Check graph feature: Shortest Path\n",
    "# print(\"Feature: shortest path\")\n",
    "# print('\\t(932,2861): ',nx.dijkstra_path(trainGraph, source='932', target='2861'))\n",
    "# print('\\t(0,2917): ',nx.dijkstra_path(trainGraph, source='0', target='2917'))\n",
    "\n",
    "# # Check graph feature: Adamic Adar\n",
    "# print(\"Feature: adamic adar\")\n",
    "# print('\\t(932,2861): ',list(nx.adamic_adar_index(trainGraph, [('932', '2861')]))[0][2])\n",
    "# print('\\t(0,2917): ',list(nx.adamic_adar_index(trainGraph, [('0', '2917')]))[0][2])\n",
    "\n",
    "# # Check graph feature: Common Neighbours\n",
    "# print(\"Feature: common neighbours\")\n",
    "# print('\\t(932,2861): ',len(list(nx.common_neighbors(trainGraph, '932', '2861'))))\n",
    "# print('\\t(0,2917): ',len(list(nx.common_neighbors(trainGraph, '0', '2917'))))\n",
    "\n",
    "# # Check graph feature: Preferential Attachment\n",
    "# print(\"Feature: preferential attachment\")\n",
    "# print('\\t(932,2861): ',list(nx.preferential_attachment(trainGraph, [('932', '2861')]))[0][2])\n",
    "# print('\\t(0,2917): ',list(nx.preferential_attachment(trainGraph, [('0', '2917')]))[0][2])\n",
    "\n",
    "# # Check graph feature: Resource Allocation\n",
    "# print(\"Feature: resource allocation\")\n",
    "# print('\\t(932,2861): ',list(nx.resource_allocation_index(trainGraph, [('932', '2861')]))[0][2])\n",
    "# print('\\t(0,2917): ',list(nx.resource_allocation_index(trainGraph, [('0', '2917')]))[0][2])\n",
    "\n",
    "# # Check graph feature: Total Neighbours (Number of papers written)\n",
    "# print(\"Feature: total neighbours\")\n",
    "# print('\\t932: ',len(list(nx.all_neighbors(trainGraph, '932'))))\n",
    "# print('\\t2861: ',len(list(nx.all_neighbors(trainGraph, '2861'))))\n",
    "# print('\\t0: ',len(list(nx.all_neighbors(trainGraph, '0'))))\n",
    "# print('\\t2917: ',len(list(nx.all_neighbors(trainGraph, '2917'))))\n",
    "\n",
    "# # Check graph feature: Jaccard Coefficient\n",
    "# print(\"Feature: jaccard coefficient\")\n",
    "# print('\\t(932,2861): ',list(nx.jaccard_coefficient(trainGraph, [('932', '2861')]))[0][2])\n",
    "# print('\\t(0,2917): ',list(nx.jaccard_coefficient(trainGraph, [('0', '2917')]))[0][2])\n",
    "\n",
    "# # Check graph feature: Same Community\n",
    "# print(\"Feature: same community\")\n",
    "\n",
    "# # Check graph feature: Triadic closure\n",
    "# print(\"Feature: triadic closure\")\n"
>>>>>>> 65225f8b14b90284288f7eedcd533324ad305c3b
   ]
  },
  {
   "cell_type": "markdown",
   "metadata": {},
   "source": [
    "# Learn & Predict"
   ]
  },
  {
   "cell_type": "code",
   "execution_count": null,
   "metadata": {},
   "outputs": [],
   "source": [
    "print('(10,986) = ',trainGraph['10']['986']['frequency'])\n",
    "print('(932,2861) = ',trainGraph['932']['2861']['frequency'])\n",
    "print(\"shortest dist from 932 to 2861 = \",\n",
    "    nx.dijkstra_path(trainGraph, source='932', target='2861', weight='Distance'))\n",
    "print(\"shortest dist from 0 to 2917 = \",\n",
    "    nx.dijkstra_path(trainGraph, source='0', target='2917',weight='Distance'))"
   ]
  },
  {
   "cell_type": "markdown",
   "metadata": {},
   "source": [
    "# Evaluate"
   ]
  },
  {
   "cell_type": "code",
   "execution_count": 25,
   "metadata": {},
   "outputs": [
    {
     "data": {
      "text/plain": [
       "[]"
      ]
     },
     "execution_count": 25,
     "metadata": {},
     "output_type": "execute_result"
    }
   ],
   "source": [
    "paths"
   ]
  },
  {
   "cell_type": "code",
   "execution_count": null,
   "metadata": {},
   "outputs": [],
   "source": []
  }
 ],
 "metadata": {
  "kernelspec": {
   "display_name": "Python 3",
   "language": "python",
   "name": "python3"
  },
  "language_info": {
   "codemirror_mode": {
    "name": "ipython",
    "version": 3
   },
   "file_extension": ".py",
   "mimetype": "text/x-python",
   "name": "python",
   "nbconvert_exporter": "python",
   "pygments_lexer": "ipython3",
   "version": "3.8.5"
  }
 },
 "nbformat": 4,
 "nbformat_minor": 4
}
