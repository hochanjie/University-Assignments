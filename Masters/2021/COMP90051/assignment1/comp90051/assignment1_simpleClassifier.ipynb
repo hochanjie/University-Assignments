{
 "cells": [
  {
   "cell_type": "markdown",
   "metadata": {},
   "source": [
    "# Simple Classifier"
   ]
  },
  {
   "cell_type": "code",
   "execution_count": 42,
   "metadata": {},
   "outputs": [],
   "source": [
    "import pandas as pd\n",
    "from sklearn.metrics import mean_squared_error\n",
    "import itertools"
   ]
  },
  {
   "cell_type": "markdown",
   "metadata": {},
   "source": [
    "## Functions"
   ]
  },
  {
   "cell_type": "code",
   "execution_count": 62,
   "metadata": {},
   "outputs": [],
   "source": [
    "def readTxtFile(filename):\n",
    "    return [line.rstrip(\"\\n\") for line in open(filename)]\n",
    "\n",
    "def genKey(author, coauthor):\n",
    "    if author < coauthor: return str(author) + '-' + str(coauthor)\n",
    "    else: return str(coauthor) + '-' + str(author)\n",
    "\n",
    "def createEdgeListGraph(dataRow):\n",
    "    dictionary = {}\n",
    "    for row in dataRow:\n",
    "        authorIds = [int(i) for i in row.split()]\n",
    "        authorIds.sort()\n",
    "        for i, author in enumerate(authorIds):\n",
    "            for coauthor in authorIds[i+1:]:\n",
    "                key = genKey(author,coauthor)\n",
    "                if key in dictionary:\n",
    "                    dictionary[key] = dictionary[key] + 1\n",
    "                else:\n",
    "                    dictionary[key] = 1\n",
    "    return dictionary\n",
    "\n",
    "def loadTestData(filename):\n",
    "    return pd.read_csv(filename)\n",
    "\n",
    "#network graph drawing\n",
    "\n",
    "def createG1(txt):\n",
    "    txt = []\n",
    "    with open(\"train.txt\") as f:\n",
    "        l = f.readline()\n",
    "        while l:\n",
    "            txt.append(list(map(int,l.split())))\n",
    "            l = f.readline()\n",
    "            \n",
    "    g1 = {}\n",
    "    converted_txt = []\n",
    "    \n",
    "    for link in txt:\n",
    "        for subset in itertools.permutations(link, 2):\n",
    "            converted_txt.append(subset)\n",
    "    train1 = pd.DataFrame(converted_txt, columns = [\"srce\", \"dest\"])\n",
    "    freq = train1.groupby([\"srce\", \"dest\"]).size().values \n",
    "    txt_1 = sorted(set(converted_txt))\n",
    "    for points, f in zip (txt_1, freq):\n",
    "        g1[points[0]] = g1.setdefault(points[0], [])\n",
    "        g1[points[0]].append((points[1], 1/f))\n",
    "        \n",
    "    return g1\n",
    "\n",
    "# path finding\n",
    "def find_min(g1, open_dict, close_dict, sink):\n",
    "    values = list(open_dict.values())\n",
    "    values.sort(key = lambda x: x[1])\n",
    "    min = values[0][0]\n",
    "    for i in open_dict.keys():\n",
    "        if open_dict[i][0] == min:\n",
    "            return [i, open_dict[i][0], open_dict[i][1]]\n",
    "\n",
    "def show_path(close_dict, path, sink):\n",
    "    if (sink in close_dict.keys()):\n",
    "        path.append(sink)\n",
    "        path = show_path(close_dict, path, close_dict[sink][1])\n",
    "    return path\n",
    "\n",
    "\"\"\"\n",
    "path finding algorithms. open_dict stores all visible nodes, close_dict stores all nodes that we \n",
    "have traversed. it does so in the following steps:\n",
    "        1. initialization: put start node (srce:[cost to this node, its parent node]) in open_dict.\n",
    "                        let close_dict empty.\n",
    "        2. if open_dict is empty, return empty path, otherwise keep taken lowest cost path from \n",
    "        open_dict to close_dict.\n",
    "        3. if min_key[0] is sink, then return a optimal path, else expand subnode of min_key[0]\n",
    "        for each subnode:\n",
    "            if in close_dict, ignore it.\n",
    "            if not in open_dict, calculate its cost, and parent node, put them in open_dict.\n",
    "            if in open_dict, update its minimum cost.\n",
    "        4. go to step 2.\n",
    "\n",
    "\"\"\"    \n",
    "def find_path(g1, srce, sink):\n",
    "    path = []\n",
    "    open_dict = {srce:[0, -1]}\n",
    "    close_dict = {}\n",
    "    while len(open_dict.keys()) != 0:\n",
    "        min_key = find_min(g1, open_dict, close_dict, sink)\n",
    "        close_dict[min_key[0]] = [min_key[1], min_key[2]] # [score, parent node]\n",
    "        if min_key[0] == sink:\n",
    "            return show_path(close_dict, path, sink)[::-1]\n",
    "        else:\n",
    "            subnodes = []\n",
    "            if min_key[0] not in g1.keys():\n",
    "                open_dict.pop(min_key[0])\n",
    "                continue\n",
    "            for i in g1[min_key[0]]:\n",
    "                subnodes.append([i[0], i[1], min_key[0]]) #[current, score, parent node]\n",
    "            for node in subnodes:\n",
    "                if node[0] in close_dict.keys():\n",
    "                    continue\n",
    "                if node[0] not in open_dict.keys():\n",
    "                    open_dict[node[0]] = [node[1], node[2]]\n",
    "                elif node[0] in open_dict.keys():\n",
    "                    if open_dict[node[0]][0] > node[1]:\n",
    "                        open_dict[node[0]][0] = node[1]\n",
    "                        open_dict[node[0]][1] = node[2]\n",
    "            open_dict.pop(min_key[0])\n",
    "    return []\n",
    "\n",
    "def cal_score(g1, path):\n",
    "    s = 0\n",
    "    for i in range(len(path) - 1):\n",
    "        for j in g1[path[i]]:\n",
    "            if j[0] == path[i + 1]:\n",
    "                s += j[1]\n",
    "    return s"
   ]
  },
  {
   "cell_type": "markdown",
   "metadata": {},
   "source": [
    "## Classify and Predict"
   ]
  },
  {
   "cell_type": "code",
   "execution_count": 39,
   "metadata": {},
   "outputs": [],
   "source": [
    "import math\n",
    "import numpy as np\n",
    "def activationFunction(freq, minF, maxF):\n",
    "    return (freq - minF)/ (maxF - minF) # Normalise between 0-1\n",
    "\n",
    "def predict(classifier, author, coauthor):\n",
    "    key = genKey(author, coauthor)\n",
    "    if key in classifier:\n",
    "        return classifier[key]\n",
    "    else:\n",
    "        return 0\n",
    "\n",
    "# Load data\n",
    "train = readTxtFile(\"train.txt\")\n",
    "test = loadTestData('test-public.csv')\n",
    "\n",
    "# Preprocess data\n",
    "trainGraph = createEdgeListGraph(train)\n",
    "# Create simple classifier\n",
    "simpleClassifier = {}\n",
    "for (key, freq) in trainGraph.items():\n",
    "    simpleClassifier[key] = activationFunction(freq, 0, 45)\n",
    "\n",
    "# Predict data\n",
    "test['Predicted'] = test.apply(lambda i: predict(simpleClassifier, i.Source, i.Sink), axis=1)\n",
    "\n",
    "# Save result\n",
    "test[['Id', 'Predicted']].to_csv('results/simpleClassifierPredicted.csv', index=False)\n"
   ]
  },
  {
   "cell_type": "markdown",
   "metadata": {},
   "source": [
    "## Evaluate"
   ]
  },
  {
   "cell_type": "code",
   "execution_count": 82,
   "metadata": {},
   "outputs": [
    {
     "name": "stdout",
     "output_type": "stream",
     "text": [
      "MSE =  0.30496710657330284\n"
     ]
    }
   ],
   "source": [
    "sample = pd.read_csv('sample.csv')\n",
    "yTrue = sample[['Predicted']]\n",
    "yPred = test[['Predicted']]\n",
    "print('MSE = ', mean_squared_error(yTrue, yPred))"
   ]
  },
  {
   "cell_type": "code",
   "execution_count": 64,
   "metadata": {},
   "outputs": [],
   "source": [
    "# Load data\n",
    "test = loadTestData('test-public.csv')\n",
    "\n",
    "# Load and Preprocess data\n",
    "G1 = createG1(train)\n",
    "\n",
    "# Predict data\n",
    "results = []\n",
    "for idx, i in test.iterrows():\n",
    "    path = find_path(G1, i[1], i[2])\n",
    "    #print(idx, path)\n",
    "    if len(path) == 0:\n",
    "        results.append(0)\n",
    "    else:\n",
    "        results.append(cal_score(G1, path))\n"
   ]
  },
  {
   "cell_type": "code",
   "execution_count": 91,
   "metadata": {},
   "outputs": [
    {
     "data": {
      "text/plain": [
       "<matplotlib.collections.PathCollection at 0x16dae8aafc8>"
      ]
     },
     "execution_count": 91,
     "metadata": {},
     "output_type": "execute_result"
    },
    {
     "data": {
      "image/png": "[encoded data removed]",
      "text/plain": [
       "<Figure size 432x288 with 1 Axes>"
      ]
     },
     "metadata": {
      "needs_background": "light"
     },
     "output_type": "display_data"
    }
   ],
   "source": [
    "import matplotlib.pyplot as plt\n",
    "\n",
    "plt.scatter(mod, yPred)"
   ]
  },
  {
   "cell_type": "code",
   "execution_count": 93,
   "metadata": {},
   "outputs": [],
   "source": [
    "X_train = np.array(mod)\n",
    "y_train = yPred\n",
    "XTX = np.dot(X_train.T, X_train)\n",
    "XTy = np.dot(X_train.T, y_train)"
   ]
  },
  {
   "cell_type": "code",
   "execution_count": 96,
   "metadata": {},
   "outputs": [],
   "source": [
    "from sklearn.linear_model import LinearRegression\n",
    "X_train_b = np.column_stack((np.ones_like(X_train), X_train))\n",
    "lr_full = LinearRegression().fit(X_train_b, y_train)\n",
    "y_pred_train = lr_full.predict(X_train_b)\n"
   ]
  },
  {
   "cell_type": "code",
   "execution_count": 98,
   "metadata": {},
   "outputs": [
    {
     "name": "stdout",
     "output_type": "stream",
     "text": [
      "MSE =  2.8731727894963782e-05\n"
     ]
    }
   ],
   "source": [
    "print('MSE = ', mean_squared_error(y_pred_train, yPred))"
   ]
  },
  {
   "cell_type": "code",
   "execution_count": 99,
   "metadata": {},
   "outputs": [],
   "source": [
    "test['Predicted'] = y_pred_train"
   ]
  },
  {
   "cell_type": "code",
   "execution_count": 100,
   "metadata": {},
   "outputs": [],
   "source": [
    "test[['Id', 'Predicted']].to_csv('results/simpleClassifierPredicted.csv', index=False)"
   ]
  },
  {
   "cell_type": "code",
   "execution_count": null,
   "metadata": {},
   "outputs": [],
   "source": []
  }
 ],
 "metadata": {
  "kernelspec": {
   "display_name": "Python 3",
   "language": "python",
   "name": "python3"
  },
  "language_info": {
   "codemirror_mode": {
    "name": "ipython",
    "version": 3
   },
   "file_extension": ".py",
   "mimetype": "text/x-python",
   "name": "python",
   "nbconvert_exporter": "python",
   "pygments_lexer": "ipython3",
   "version": "3.8.3"
  }
 },
 "nbformat": 4,
 "nbformat_minor": 4
}
