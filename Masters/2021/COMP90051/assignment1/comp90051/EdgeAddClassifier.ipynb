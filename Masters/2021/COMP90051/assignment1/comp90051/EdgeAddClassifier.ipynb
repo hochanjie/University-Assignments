{
 "cells": [
  {
   "cell_type": "markdown",
   "metadata": {},
   "source": [
    "# Approach: Keep adding edges until no more can be added"
   ]
  },
  {
   "cell_type": "markdown",
   "metadata": {},
   "source": [
    "## 1. Import"
   ]
  },
  {
   "cell_type": "code",
   "execution_count": 14,
   "metadata": {},
   "outputs": [],
   "source": [
    "import networkx as nx\n",
    "import pandas as pd\n",
    "from sklearn.metrics import mean_squared_error"
   ]
  },
  {
   "cell_type": "markdown",
   "metadata": {},
   "source": [
    "## 2. Load data"
   ]
  },
  {
   "cell_type": "code",
   "execution_count": 2,
   "metadata": {},
   "outputs": [],
   "source": [
    "def loadTrainDataAsUndirectedGraph():\n",
    "    filename = \"train.txt\"\n",
    "    rows = [line.rstrip(\"\\n\") for line in open(filename)]\n",
    "    g = nx.Graph()\n",
    "    for row in rows:\n",
    "        authorIds = row.split()\n",
    "        for i, author in enumerate(authorIds):\n",
    "            for coauthor in authorIds[i+1:]:\n",
    "                if g.has_edge(author, coauthor):\n",
    "                    g[author][coauthor]['frequency'] += 1\n",
    "                else:\n",
    "                    g.add_edge(author, coauthor, frequency=1)\n",
    "    return g"
   ]
  },
  {
   "cell_type": "code",
   "execution_count": 3,
   "metadata": {},
   "outputs": [],
   "source": [
    "trainGraph = loadTrainDataAsUndirectedGraph()"
   ]
  },
  {
   "cell_type": "markdown",
   "metadata": {},
   "source": [
    "## 3. Train"
   ]
  },
  {
   "cell_type": "code",
   "execution_count": 4,
   "metadata": {},
   "outputs": [],
   "source": [
    "class EdgeAddClassifier:\n",
    "    def __init__(self):\n",
    "        self.model = None\n",
    "    \n",
    "    def train(self, graph):\n",
    "        self.__trainAttempt1(graph)\n",
    "    \n",
    "    def predict(self, edgeList):\n",
    "        return self.__predictAttempt1(edgeList)\n",
    "    \n",
    "    #####################################################################\n",
    "    # Attempt 1: Kaggle Score = 0.79480 (MSE = 0.2680352579128701)\n",
    "    #####################################################################\n",
    "    \n",
    "    def __trainAttempt1(self, graph):\n",
    "        self.__buildProbabilityGraph(graph)\n",
    "        print('iteration 0: number of edges = ', len(self.model.edges))\n",
    "        self.__addEdgesBasedOnProximity(4)\n",
    "        print('iteration 1: number of edges = ', len(self.model.edges))    \n",
    "    \n",
    "    def __predictAttempt1(self, edgeList):\n",
    "        return edgeList.apply(\n",
    "            lambda i: self.__classifyInstance1(str(i.Source), str(i.Sink)),\n",
    "            axis=1)\n",
    "    \n",
    "    def __addEdgesBasedOnProximity(self,normaliseLimit):\n",
    "        allNodes = list(self.model.nodes)\n",
    "        newNodes = []\n",
    "        print(\"\\tnumber of nodes =\",len(allNodes))\n",
    "        print(\"\\t\", end='')\n",
    "        for i, n1 in enumerate(allNodes):\n",
    "            if(i%10==0): print(i, end=' ')\n",
    "            for n2 in allNodes[i+1:]:\n",
    "                if not self.model.has_edge(n1, n2):\n",
    "                    commonN = len(list(nx.common_neighbors(self.model, n1, n2)))\n",
    "                    if commonN > 0:\n",
    "                        newNodes.append((n1, n2, self.__normalise(commonN, 0, normaliseLimit)))\n",
    "        self.model.add_weighted_edges_from(newNodes, weight ='prob')\n",
    "        print('')\n",
    "    \n",
    "    def __classifyInstance1(self, source, sink):\n",
    "        if self.model.has_edge(source, sink):\n",
    "            return self.model[source][sink]['prob']\n",
    "        else:\n",
    "            return 0\n",
    "    \n",
    "    #####################################################################\n",
    "    # Attempt 2: Kaggle Score = 0.54019 (MSE =  0.16916446409631972)\n",
    "    #####################################################################\n",
    "    \n",
    "    def __trainAttempt2(self, graph):\n",
    "        self.__buildProbabilityGraph(graph)\n",
    "        print('iteration 0: number of edges = ', len(self.model.edges))\n",
    "        self.__addEdgesBasedOnProximity(12)\n",
    "        print('iteration 1: number of edges = ', len(self.model.edges))    \n",
    "    \n",
    "    def __predictAttempt2(self, edgeList):\n",
    "        return edgeList.apply(\n",
    "            lambda i: self.__classifyInstance2(str(i.Source), str(i.Sink)),\n",
    "            axis=1)\n",
    "    \n",
    "    def __classifyInstance2(self, source, sink):\n",
    "        if self.model.has_edge(source, sink):\n",
    "            return self.model[source][sink]['prob']\n",
    "        else:\n",
    "            try:\n",
    "                dist = len(list(nx.dijkstra_path(trainGraph, source=source, target=sink))) - 1\n",
    "                return 1/dist\n",
    "            except:\n",
    "                return 0\n",
    "\n",
    "    #####################################################################\n",
    "    # Attempt 3: Kaggle Score = 0.57135 (MSE =  0.1602347332838925)\n",
    "    #####################################################################\n",
    "    \n",
    "    def __trainAttempt3(self, graph):\n",
    "        self.__buildProbabilityGraph(graph)\n",
    "        print('iteration 0: number of edges = ', len(self.model.edges))\n",
    "    \n",
    "    def __predictAttempt3(self, edgeList):\n",
    "        return edgeList.apply(\n",
    "            lambda i: self.__classifyInstance3(str(i.Source), str(i.Sink)),\n",
    "            axis=1)\n",
    "    \n",
    "    def __classifyInstance3(self, source, sink):\n",
    "        if self.model.has_edge(source, sink):\n",
    "            return self.model[source][sink]['prob']\n",
    "        else:\n",
    "            try:\n",
    "                dist = len(list(nx.dijkstra_path(trainGraph, source=source, target=sink))) - 1\n",
    "                return 1/dist\n",
    "            except:\n",
    "                return 0\n",
    "    \n",
    "            \n",
    "    #####################################################################\n",
    "    # Helper Functions\n",
    "    #####################################################################\n",
    "\n",
    "    def __buildProbabilityGraph(self, graph):\n",
    "        self.model = nx.Graph()\n",
    "        for (source, sink) in graph.edges:\n",
    "            freq = graph[source][sink]['frequency']\n",
    "            prob = self.__normalise(freq, 0, 4) #TODO: remove hardcoded\n",
    "            self.model.add_edge(source, sink, prob = prob)\n",
    "    \n",
    "    def __normalise(self, v, minF, maxF):\n",
    "        result = (v - minF) / (maxF - minF)\n",
    "        if result > 1: return 1\n",
    "        elif result <= 0: return 0\n",
    "        else: return 1"
   ]
  },
  {
   "cell_type": "code",
   "execution_count": 5,
   "metadata": {
    "scrolled": true
   },
   "outputs": [
    {
     "name": "stdout",
     "output_type": "stream",
     "text": [
      "iteration 0: number of edges =  16036\n",
      "\tnumber of nodes = 3767\n",
      "\t0 10 20 30 40 50 60 70 80 90 100 110 120 130 140 150 160 170 180 190 200 210 220 230 240 250 260 270 280 290 300 310 320 330 340 350 360 370 380 390 400 410 420 430 440 450 460 470 480 490 500 510 520 530 540 550 560 570 580 590 600 610 620 630 640 650 660 670 680 690 700 710 720 730 740 750 760 770 780 790 800 810 820 830 840 850 860 870 880 890 900 910 920 930 940 950 960 970 980 990 1000 1010 1020 1030 1040 1050 1060 1070 1080 1090 1100 1110 1120 1130 1140 1150 1160 1170 1180 1190 1200 1210 1220 1230 1240 1250 1260 1270 1280 1290 1300 1310 1320 1330 1340 1350 1360 1370 1380 1390 1400 1410 1420 1430 1440 1450 1460 1470 1480 1490 1500 1510 1520 1530 1540 1550 1560 1570 1580 1590 1600 1610 1620 1630 1640 1650 1660 1670 1680 1690 1700 1710 1720 1730 1740 1750 1760 1770 1780 1790 1800 1810 1820 1830 1840 1850 1860 1870 1880 1890 1900 1910 1920 1930 1940 1950 1960 1970 1980 1990 2000 2010 2020 2030 2040 2050 2060 2070 2080 2090 2100 2110 2120 2130 2140 2150 2160 2170 2180 2190 2200 2210 2220 2230 2240 2250 2260 2270 2280 2290 2300 2310 2320 2330 2340 2350 2360 2370 2380 2390 2400 2410 2420 2430 2440 2450 2460 2470 2480 2490 2500 2510 2520 2530 2540 2550 2560 2570 2580 2590 2600 2610 2620 2630 2640 2650 2660 2670 2680 2690 2700 2710 2720 2730 2740 2750 2760 2770 2780 2790 2800 2810 2820 2830 2840 2850 2860 2870 2880 2890 2900 2910 2920 2930 2940 2950 2960 2970 2980 2990 3000 3010 3020 3030 3040 3050 3060 3070 3080 3090 3100 3110 3120 3130 3140 3150 3160 3170 3180 3190 3200 3210 3220 3230 3240 3250 3260 3270 3280 3290 3300 3310 3320 3330 3340 3350 3360 3370 3380 3390 3400 3410 3420 3430 3440 3450 3460 3470 3480 3490 3500 3510 3520 3530 3540 3550 3560 3570 3580 3590 3600 3610 3620 3630 3640 3650 3660 3670 3680 3690 3700 3710 3720 3730 3740 3750 3760 \n",
      "iteration 1: number of edges =  208444\n"
     ]
    }
   ],
   "source": [
    "classifier = EdgeAddClassifier()\n",
    "classifier.train(trainGraph)"
   ]
  },
  {
   "cell_type": "markdown",
   "metadata": {},
   "source": [
    "## 4. Predict"
   ]
  },
  {
   "cell_type": "code",
   "execution_count": 6,
   "metadata": {},
   "outputs": [],
   "source": [
    "test = pd.read_csv('test-public.csv')\n",
    "test['Predicted'] = classifier.predict(test)\n",
    "test[['Id', 'Predicted']].to_csv('results/EdgeAddClassifier.csv', index=False)"
   ]
  },
  {
   "cell_type": "markdown",
   "metadata": {},
   "source": [
    "## 5. Evaluate"
   ]
  },
  {
   "cell_type": "code",
   "execution_count": 7,
   "metadata": {},
   "outputs": [
    {
     "name": "stdout",
     "output_type": "stream",
     "text": [
      "MSE =  0.3244069239500406\n"
     ]
    }
   ],
   "source": [
    "sample = pd.read_csv('sample.csv')\n",
    "yTrue = sample[['Predicted']]\n",
    "yPred = test[['Predicted']]\n",
    "print('MSE = ', mean_squared_error(yTrue, yPred))"
   ]
  },
  {
   "cell_type": "code",
   "execution_count": 13,
   "metadata": {},
   "outputs": [
    {
     "data": {
      "text/plain": [
       "array([734], dtype=int64)"
      ]
     },
     "execution_count": 13,
     "metadata": {},
     "output_type": "execute_result"
    }
   ],
   "source": [
    "sum(list(yPred.values))"
   ]
  },
  {
   "cell_type": "code",
   "execution_count": null,
   "metadata": {},
   "outputs": [],
   "source": []
  }
 ],
 "metadata": {
  "kernelspec": {
   "display_name": "Python 3",
   "language": "python",
   "name": "python3"
  },
  "language_info": {
   "codemirror_mode": {
    "name": "ipython",
    "version": 3
   },
   "file_extension": ".py",
   "mimetype": "text/x-python",
   "name": "python",
   "nbconvert_exporter": "python",
   "pygments_lexer": "ipython3",
   "version": "3.7.4"
  }
 },
 "nbformat": 4,
 "nbformat_minor": 4
}
