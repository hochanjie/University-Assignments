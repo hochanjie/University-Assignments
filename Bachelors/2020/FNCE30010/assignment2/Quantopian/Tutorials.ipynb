{
 "cells": [
  {
   "cell_type": "markdown",
   "metadata": {},
   "source": [
    "<h1>Pipeline</h1>"
   ]
  },
  {
   "cell_type": "code",
   "execution_count": 1,
   "metadata": {},
   "outputs": [],
   "source": [
    "from quantopian.pipeline import Pipeline\n",
    "from quantopian.research import run_pipeline # this is research only"
   ]
  },
  {
   "cell_type": "markdown",
   "metadata": {},
   "source": [
    "Good to wrap this in a function to set up more complex pipelines, for now this is just an empty pipeline."
   ]
  },
  {
   "cell_type": "code",
   "execution_count": 2,
   "metadata": {},
   "outputs": [],
   "source": [
    "def make_pipeline():\n",
    "    return Pipeline()\n"
   ]
  },
  {
   "cell_type": "markdown",
   "metadata": {},
   "source": [
    "The output of an empty pipeline is a DataFrame with no columns. In this example, our pipeline has an index made up of all 8000+ securities (only 5 rows displayed in the image) for May 5th, 2015, but doesn't have any columns."
   ]
  },
  {
   "cell_type": "code",
   "execution_count": 3,
   "metadata": {},
   "outputs": [
    {
     "data": {
      "application/vnd.jupyter.widget-view+json": {
       "model_id": "",
       "version_major": 2,
       "version_minor": 0
      },
      "text/plain": []
     },
     "metadata": {},
     "output_type": "display_data"
    },
    {
     "data": {
      "text/html": [
       "<b>Pipeline Execution Time:</b> 0.91 Seconds"
      ],
      "text/plain": [
       "<IPython.core.display.HTML object>"
      ]
     },
     "metadata": {},
     "output_type": "display_data"
    },
    {
     "data": {
      "text/html": [
       "<div>\n",
       "<table border=\"1\" class=\"dataframe\">\n",
       "  <thead>\n",
       "    <tr style=\"text-align: right;\">\n",
       "      <th></th>\n",
       "      <th></th>\n",
       "    </tr>\n",
       "  </thead>\n",
       "  <tbody>\n",
       "    <tr>\n",
       "      <th rowspan=\"5\" valign=\"top\">2015-05-05 00:00:00+00:00</th>\n",
       "      <th>Equity(2 [HWM])</th>\n",
       "    </tr>\n",
       "    <tr>\n",
       "      <th>Equity(21 [AAME])</th>\n",
       "    </tr>\n",
       "    <tr>\n",
       "      <th>Equity(24 [AAPL])</th>\n",
       "    </tr>\n",
       "    <tr>\n",
       "      <th>Equity(25 [HWM_PR])</th>\n",
       "    </tr>\n",
       "    <tr>\n",
       "      <th>Equity(31 [ABAX])</th>\n",
       "    </tr>\n",
       "  </tbody>\n",
       "</table>\n",
       "</div>"
      ],
      "text/plain": [
       "Empty DataFrame\n",
       "Columns: []\n",
       "Index: [(2015-05-05 00:00:00+00:00, Equity(2 [HWM])), (2015-05-05 00:00:00+00:00, Equity(21 [AAME])), (2015-05-05 00:00:00+00:00, Equity(24 [AAPL])), (2015-05-05 00:00:00+00:00, Equity(25 [HWM_PR])), (2015-05-05 00:00:00+00:00, Equity(31 [ABAX]))]"
      ]
     },
     "execution_count": 3,
     "metadata": {},
     "output_type": "execute_result"
    }
   ],
   "source": [
    "my_pipe = make_pipeline()\n",
    "\n",
    "# running the pipeline returns a df, double index data and secs\n",
    "result = run_pipeline(my_pipe, '2015-05-05', '2015-05-05')\n",
    "result.head() \n",
    "\n",
    "#currently empty pipeline, all indexes and no columns"
   ]
  },
  {
   "cell_type": "markdown",
   "metadata": {},
   "source": [
    "<h1>Factors</h1> <br>\n",
    "Check the parameters required for the factor to be used\n",
    "<br>\n",
    "<a href = \"https://www.quantopian.com/docs/api-reference/pipeline-api-reference#pipeline-quickref-factors\">Open Link in new tab</a>"
   ]
  },
  {
   "cell_type": "code",
   "execution_count": 4,
   "metadata": {},
   "outputs": [],
   "source": [
    "from quantopian.pipeline.data.builtin import USEquityPricing\n",
    "from quantopian.pipeline.factors import SimpleMovingAverage\n",
    "\n",
    "# each factor needs to be instantiated with parameters to be actually used\n",
    "# to check params visit link above\n",
    "\n",
    "def make_pipeline():\n",
    "    \n",
    "    # this is just instantiating the function, not doing any computations\n",
    "    mean_close_10 = SimpleMovingAverage(\n",
    "        inputs = [USEquityPricing.close], # BOUNDColumn indicates the data type\n",
    "        window_length = 10\n",
    "    )\n",
    "    \n",
    "    # attach to pipeline - this will do the computations the given col name\n",
    "    pipe = Pipeline(\n",
    "        columns = {\n",
    "            '10_day_mean_close': mean_close_10\n",
    "        }\n",
    "    )\n",
    "    \n",
    "    return pipe"
   ]
  },
  {
   "cell_type": "markdown",
   "metadata": {},
   "source": [
    "The DataFrame has a MultiIndex where the first level is a datetime representing the date of the computation and the second level is an Equity object corresponding to the security. For example, the first row in the above DataFrame (`2015-05-05 00:00:00+00:00`, `Equity(2 [AA])`) contains the result of our mean_close_10 factor for AA on May 5th, 2015."
   ]
  },
  {
   "cell_type": "code",
   "execution_count": 5,
   "metadata": {},
   "outputs": [
    {
     "data": {
      "application/vnd.jupyter.widget-view+json": {
       "model_id": "",
       "version_major": 2,
       "version_minor": 0
      },
      "text/plain": []
     },
     "metadata": {},
     "output_type": "display_data"
    },
    {
     "data": {
      "text/html": [
       "<b>Pipeline Execution Time:</b> 0.60 Seconds"
      ],
      "text/plain": [
       "<IPython.core.display.HTML object>"
      ]
     },
     "metadata": {},
     "output_type": "display_data"
    },
    {
     "data": {
      "text/html": [
       "<div>\n",
       "<table border=\"1\" class=\"dataframe\">\n",
       "  <thead>\n",
       "    <tr style=\"text-align: right;\">\n",
       "      <th></th>\n",
       "      <th></th>\n",
       "      <th>10_day_mean_close</th>\n",
       "    </tr>\n",
       "  </thead>\n",
       "  <tbody>\n",
       "    <tr>\n",
       "      <th rowspan=\"5\" valign=\"top\">2015-05-05 00:00:00+00:00</th>\n",
       "      <th>Equity(2 [HWM])</th>\n",
       "      <td>13.5595</td>\n",
       "    </tr>\n",
       "    <tr>\n",
       "      <th>Equity(21 [AAME])</th>\n",
       "      <td>3.9625</td>\n",
       "    </tr>\n",
       "    <tr>\n",
       "      <th>Equity(24 [AAPL])</th>\n",
       "      <td>129.0257</td>\n",
       "    </tr>\n",
       "    <tr>\n",
       "      <th>Equity(25 [HWM_PR])</th>\n",
       "      <td>88.3625</td>\n",
       "    </tr>\n",
       "    <tr>\n",
       "      <th>Equity(31 [ABAX])</th>\n",
       "      <td>61.9209</td>\n",
       "    </tr>\n",
       "  </tbody>\n",
       "</table>\n",
       "</div>"
      ],
      "text/plain": [
       "                                               10_day_mean_close\n",
       "2015-05-05 00:00:00+00:00 Equity(2 [HWM])                13.5595\n",
       "                          Equity(21 [AAME])               3.9625\n",
       "                          Equity(24 [AAPL])             129.0257\n",
       "                          Equity(25 [HWM_PR])            88.3625\n",
       "                          Equity(31 [ABAX])              61.9209"
      ]
     },
     "execution_count": 5,
     "metadata": {},
     "output_type": "execute_result"
    }
   ],
   "source": [
    "result = run_pipeline(make_pipeline(), '2015-05-05', '2015-05-05')\n",
    "result.head()"
   ]
  },
  {
   "cell_type": "markdown",
   "metadata": {},
   "source": [
    "# Latest - inbuilt factor\n",
    "The Latest factor gets the most recent value of a given data column. This factor is common enough that it is instantiated differently from other factors. The best way to get the latest value of a data column is by getting its .latest attribute. "
   ]
  },
  {
   "cell_type": "code",
   "execution_count": 6,
   "metadata": {},
   "outputs": [],
   "source": [
    "def make_pipeline():\n",
    "    \n",
    "    # this is just instantiating the function, not doing any computations\n",
    "    mean_close_10 = SimpleMovingAverage(\n",
    "        inputs = [USEquityPricing.close], # BOUNDColumn indicates the data type\n",
    "        window_length = 10\n",
    "    )\n",
    "    \n",
    "    # LATEST IS INSTANTIATED DIFFERENTLY TO OTHER FACTORS, can even return other things than factors!\n",
    "    latest_close = USEquityPricing.close.latest\n",
    "    \n",
    "    # attach to pipeline - this will do the computations the given col name\n",
    "    pipe = Pipeline(\n",
    "        columns = {\n",
    "            '10_day_mean_close': mean_close_10,\n",
    "            'latest_closing_price': latest_close\n",
    "        }\n",
    "    )\n",
    "    \n",
    "    return pipe"
   ]
  },
  {
   "cell_type": "code",
   "execution_count": 7,
   "metadata": {},
   "outputs": [
    {
     "data": {
      "application/vnd.jupyter.widget-view+json": {
       "model_id": "",
       "version_major": 2,
       "version_minor": 0
      },
      "text/plain": []
     },
     "metadata": {},
     "output_type": "display_data"
    },
    {
     "data": {
      "text/html": [
       "<b>Pipeline Execution Time:</b> 0.25 Seconds"
      ],
      "text/plain": [
       "<IPython.core.display.HTML object>"
      ]
     },
     "metadata": {},
     "output_type": "display_data"
    },
    {
     "data": {
      "text/html": [
       "<div>\n",
       "<table border=\"1\" class=\"dataframe\">\n",
       "  <thead>\n",
       "    <tr style=\"text-align: right;\">\n",
       "      <th></th>\n",
       "      <th></th>\n",
       "      <th>10_day_mean_close</th>\n",
       "      <th>latest_closing_price</th>\n",
       "    </tr>\n",
       "  </thead>\n",
       "  <tbody>\n",
       "    <tr>\n",
       "      <th rowspan=\"5\" valign=\"top\">2015-05-05 00:00:00+00:00</th>\n",
       "      <th>Equity(2 [HWM])</th>\n",
       "      <td>13.5595</td>\n",
       "      <td>14.015</td>\n",
       "    </tr>\n",
       "    <tr>\n",
       "      <th>Equity(21 [AAME])</th>\n",
       "      <td>3.9625</td>\n",
       "      <td>NaN</td>\n",
       "    </tr>\n",
       "    <tr>\n",
       "      <th>Equity(24 [AAPL])</th>\n",
       "      <td>129.0257</td>\n",
       "      <td>128.699</td>\n",
       "    </tr>\n",
       "    <tr>\n",
       "      <th>Equity(25 [HWM_PR])</th>\n",
       "      <td>88.3625</td>\n",
       "      <td>NaN</td>\n",
       "    </tr>\n",
       "    <tr>\n",
       "      <th>Equity(31 [ABAX])</th>\n",
       "      <td>61.9209</td>\n",
       "      <td>55.030</td>\n",
       "    </tr>\n",
       "  </tbody>\n",
       "</table>\n",
       "</div>"
      ],
      "text/plain": [
       "                                               10_day_mean_close  \\\n",
       "2015-05-05 00:00:00+00:00 Equity(2 [HWM])                13.5595   \n",
       "                          Equity(21 [AAME])               3.9625   \n",
       "                          Equity(24 [AAPL])             129.0257   \n",
       "                          Equity(25 [HWM_PR])            88.3625   \n",
       "                          Equity(31 [ABAX])              61.9209   \n",
       "\n",
       "                                               latest_closing_price  \n",
       "2015-05-05 00:00:00+00:00 Equity(2 [HWM])                    14.015  \n",
       "                          Equity(21 [AAME])                     NaN  \n",
       "                          Equity(24 [AAPL])                 128.699  \n",
       "                          Equity(25 [HWM_PR])                   NaN  \n",
       "                          Equity(31 [ABAX])                  55.030  "
      ]
     },
     "execution_count": 7,
     "metadata": {},
     "output_type": "execute_result"
    }
   ],
   "source": [
    "result = run_pipeline(make_pipeline(), '2015-05-05', '2015-05-05')\n",
    "result.head()"
   ]
  },
  {
   "cell_type": "markdown",
   "metadata": {},
   "source": [
    "Some factors have default inputs that should never be changed. For example the VWAP built-in factor is always calculated from USEquityPricing.close and USEquityPricing.volume. When a factor is always calculated from the same BoundColumns, we can call the constructor without specifying inputs."
   ]
  },
  {
   "cell_type": "code",
   "execution_count": 8,
   "metadata": {},
   "outputs": [],
   "source": [
    "from quantopian.pipeline.factors import VWAP\n",
    "vwap = VWAP(window_length=10)"
   ]
  },
  {
   "cell_type": "markdown",
   "metadata": {},
   "source": [
    "# Combining Factors"
   ]
  },
  {
   "cell_type": "markdown",
   "metadata": {},
   "source": [
    "Factors can be combined, both with other Factors and with scalar values, via any of the builtin mathematical operators (+, -, *, etc). <br><br>\n",
    "f1 = SomeFactor(...)<br>\n",
    "f2 = SomeOtherFactor(...)<br>\n",
    "average = (f1 + f2) / 2.0"
   ]
  },
  {
   "cell_type": "code",
   "execution_count": 9,
   "metadata": {},
   "outputs": [],
   "source": [
    "def make_pipeline():\n",
    "    \n",
    "    # this is just instantiating the function, not doing any computations\n",
    "    mean_close_10 = SimpleMovingAverage(\n",
    "        inputs = [USEquityPricing.close], # BOUNDColumn indicates the data type\n",
    "        window_length = 10\n",
    "    )\n",
    "    \n",
    "    mean_close_30 = SimpleMovingAverage(\n",
    "        inputs = [USEquityPricing.close], # BOUNDColumn indicates the data type\n",
    "        window_length = 30\n",
    "    )\n",
    "    \n",
    "    # difining a higher order factor that is NOT YET COMPUTED\n",
    "    # static type of factor\n",
    "    percent_difference = (mean_close_10 - mean_close_30)/ mean_close_30\n",
    "    \n",
    "    # LATEST IS INSTANTIATED DIFFERENTLY TO OTHER FACTORS, can even return other things than factors!\n",
    "    latest_close = USEquityPricing.close.latest\n",
    "    \n",
    "    # attach to pipeline - this will do the computations the given col name\n",
    "    pipe = Pipeline(\n",
    "        columns = {\n",
    "            '10_day_mean_close': mean_close_10,\n",
    "            '30_day_mean_close': mean_close_30,\n",
    "            'percent_difference': percent_difference,\n",
    "            'latest_closing_price': latest_close\n",
    "        }\n",
    "    )\n",
    "    \n",
    "    return pipe"
   ]
  },
  {
   "cell_type": "code",
   "execution_count": 15,
   "metadata": {},
   "outputs": [
    {
     "data": {
      "application/vnd.jupyter.widget-view+json": {
       "model_id": "",
       "version_major": 2,
       "version_minor": 0
      },
      "text/plain": []
     },
     "metadata": {},
     "output_type": "display_data"
    },
    {
     "data": {
      "text/html": [
       "<b>Pipeline Execution Time:</b> 0.38 Seconds"
      ],
      "text/plain": [
       "<IPython.core.display.HTML object>"
      ]
     },
     "metadata": {},
     "output_type": "display_data"
    },
    {
     "data": {
      "text/html": [
       "<div>\n",
       "<table border=\"1\" class=\"dataframe\">\n",
       "  <thead>\n",
       "    <tr style=\"text-align: right;\">\n",
       "      <th></th>\n",
       "      <th></th>\n",
       "      <th>10_day_mean_close</th>\n",
       "      <th>30_day_mean_close</th>\n",
       "      <th>latest_closing_price</th>\n",
       "      <th>percent_difference</th>\n",
       "    </tr>\n",
       "  </thead>\n",
       "  <tbody>\n",
       "    <tr>\n",
       "      <th rowspan=\"5\" valign=\"top\">2015-05-05 00:00:00+00:00</th>\n",
       "      <th>Equity(2 [HWM])</th>\n",
       "      <td>13.5595</td>\n",
       "      <td>13.320067</td>\n",
       "      <td>14.015</td>\n",
       "      <td>0.017975</td>\n",
       "    </tr>\n",
       "    <tr>\n",
       "      <th>Equity(21 [AAME])</th>\n",
       "      <td>3.9625</td>\n",
       "      <td>3.971735</td>\n",
       "      <td>NaN</td>\n",
       "      <td>-0.002325</td>\n",
       "    </tr>\n",
       "    <tr>\n",
       "      <th>Equity(24 [AAPL])</th>\n",
       "      <td>129.0257</td>\n",
       "      <td>126.880733</td>\n",
       "      <td>128.699</td>\n",
       "      <td>0.016905</td>\n",
       "    </tr>\n",
       "    <tr>\n",
       "      <th>Equity(25 [HWM_PR])</th>\n",
       "      <td>88.3625</td>\n",
       "      <td>86.498944</td>\n",
       "      <td>NaN</td>\n",
       "      <td>0.021544</td>\n",
       "    </tr>\n",
       "    <tr>\n",
       "      <th>Equity(31 [ABAX])</th>\n",
       "      <td>61.9209</td>\n",
       "      <td>63.161300</td>\n",
       "      <td>55.030</td>\n",
       "      <td>-0.019639</td>\n",
       "    </tr>\n",
       "  </tbody>\n",
       "</table>\n",
       "</div>"
      ],
      "text/plain": [
       "                                               10_day_mean_close  \\\n",
       "2015-05-05 00:00:00+00:00 Equity(2 [HWM])                13.5595   \n",
       "                          Equity(21 [AAME])               3.9625   \n",
       "                          Equity(24 [AAPL])             129.0257   \n",
       "                          Equity(25 [HWM_PR])            88.3625   \n",
       "                          Equity(31 [ABAX])              61.9209   \n",
       "\n",
       "                                               30_day_mean_close  \\\n",
       "2015-05-05 00:00:00+00:00 Equity(2 [HWM])              13.320067   \n",
       "                          Equity(21 [AAME])             3.971735   \n",
       "                          Equity(24 [AAPL])           126.880733   \n",
       "                          Equity(25 [HWM_PR])          86.498944   \n",
       "                          Equity(31 [ABAX])            63.161300   \n",
       "\n",
       "                                               latest_closing_price  \\\n",
       "2015-05-05 00:00:00+00:00 Equity(2 [HWM])                    14.015   \n",
       "                          Equity(21 [AAME])                     NaN   \n",
       "                          Equity(24 [AAPL])                 128.699   \n",
       "                          Equity(25 [HWM_PR])                   NaN   \n",
       "                          Equity(31 [ABAX])                  55.030   \n",
       "\n",
       "                                               percent_difference  \n",
       "2015-05-05 00:00:00+00:00 Equity(2 [HWM])                0.017975  \n",
       "                          Equity(21 [AAME])             -0.002325  \n",
       "                          Equity(24 [AAPL])              0.016905  \n",
       "                          Equity(25 [HWM_PR])            0.021544  \n",
       "                          Equity(31 [ABAX])             -0.019639  "
      ]
     },
     "execution_count": 15,
     "metadata": {},
     "output_type": "execute_result"
    }
   ],
   "source": [
    "result = run_pipeline(make_pipeline(), '2015-05-05', '2015-05-05')\n",
    "result.head()"
   ]
  },
  {
   "cell_type": "markdown",
   "metadata": {},
   "source": [
    "# Filters\n",
    "\n",
    "f (asset, timestamp) -> boolean\n",
    "\n",
    "Use when narrowing down set of securities included in computation or in the final output of a pipeline.\n",
    "\n",
    "Comparison operators on Factors and Classifiers produce Filters"
   ]
  },
  {
   "cell_type": "code",
   "execution_count": null,
   "metadata": {},
   "outputs": [],
   "source": [
    "last_close_price = USEquityPricing.close.latest\n",
    "filter_close_price = last_close_price > 20"
   ]
  },
  {
   "cell_type": "code",
   "execution_count": 16,
   "metadata": {},
   "outputs": [
    {
     "ename": "NameError",
     "evalue": "name 'mean_close_10' is not defined",
     "output_type": "error",
     "traceback": [
      "\u001b[0;31m---------------------------------------------------------------------------\u001b[0m",
      "\u001b[0;31mNameError\u001b[0m                                 Traceback (most recent call last)",
      "\u001b[0;32m<ipython-input-16-e3a55233a3d4>\u001b[0m in \u001b[0;36m<module>\u001b[0;34m()\u001b[0m\n\u001b[1;32m      1\u001b[0m \u001b[0;31m# we can alternatively actually produce these filters sa a column which would\u001b[0m\u001b[0;34m\u001b[0m\u001b[0;34m\u001b[0m\u001b[0m\n\u001b[1;32m      2\u001b[0m \u001b[0;31m# simplify the code in rebalance quite a bit\u001b[0m\u001b[0;34m\u001b[0m\u001b[0;34m\u001b[0m\u001b[0m\n\u001b[0;32m----> 3\u001b[0;31m \u001b[0mmean_crossover_filter\u001b[0m \u001b[0;34m=\u001b[0m \u001b[0mmean_close_10\u001b[0m \u001b[0;34m<\u001b[0m \u001b[0mmean_close_30\u001b[0m\u001b[0;34m\u001b[0m\u001b[0m\n\u001b[0m",
      "\u001b[0;31mNameError\u001b[0m: name 'mean_close_10' is not defined"
     ]
    }
   ],
   "source": [
    "# we can alternatively actually produce these filters sa a column which would\n",
    "# simplify the code in rebalance quite a bit\n",
    "\n",
    "# here instead of checking these two columns when iterating over the securities\n",
    "# we could simply record the signals as a column in itself\n",
    "mean_crossover_filter = mean_close_10 < mean_close_30"
   ]
  },
  {
   "cell_type": "markdown",
   "metadata": {},
   "source": [
    "#    \n",
    "\n",
    "Various methods of the Factor and Classifier classes return Filters. The Factor.top(n) method produces a Filter that returns True for the top n securities of a given factor each day. The following example produces a filter that returns True for exactly 200 securities every day, indicating that those securities were in the top 200 by last close price across all known securities.\n",
    "\n",
    "<b>Link of factor methodsthat return filters (inbuilt):\n",
    "\n",
    "METHODS THAT CREATE FACTORS\n",
    "\n",
    "FACTORS THAT CREATE OTHER FACTORS (LIKE LINEAR REGRESSION AND OTHER STUFF BUILT IN!) </b>\n",
    "\n",
    "https://www.quantopian.com/docs/api-reference/pipeline-api-reference#pipeline-quickref-factor-methods\n"
   ]
  },
  {
   "cell_type": "code",
   "execution_count": 18,
   "metadata": {},
   "outputs": [],
   "source": [
    "last_close_price = USEquityPricing.close.latest\n",
    "top_close_price_filter = last_close_price.top(200)"
   ]
  },
  {
   "cell_type": "markdown",
   "metadata": {},
   "source": [
    "Creating a filter that returns True if a security's 30-day average dollar volume is above $10,000,000. To do this, we'll first need to create an AverageDollarVolume factor to compute the 30-day average dollar volume."
   ]
  },
  {
   "cell_type": "code",
   "execution_count": 19,
   "metadata": {},
   "outputs": [],
   "source": [
    "from quantopian.pipeline.factors import AverageDollarVolume, SimpleMovingAverage"
   ]
  },
  {
   "cell_type": "code",
   "execution_count": 20,
   "metadata": {},
   "outputs": [],
   "source": [
    "def make_pipeline():\n",
    "    \n",
    "    # this factor by default uses equitypricing.close and\n",
    "    # equitypricing.volume as inputs so they don't need to be specified\n",
    "    dollar_volume = AverageDollarVolume(window_length = 30)\n",
    "    filter_volume = dollar_volume > 10**7\n",
    "    \n",
    "    # this is just instantiating the function, not doing any computations\n",
    "    mean_close_10 = SimpleMovingAverage(\n",
    "        inputs = [USEquityPricing.close], # BOUNDColumn indicates the data type\n",
    "        window_length = 10\n",
    "    )\n",
    "    \n",
    "    mean_close_30 = SimpleMovingAverage(\n",
    "        inputs = [USEquityPricing.close], # BOUNDColumn indicates the data type\n",
    "        window_length = 30\n",
    "    )\n",
    "    \n",
    "    # difining a higher order factor that is NOT YET COMPUTED\n",
    "    # static type of factor\n",
    "    percent_difference = (mean_close_10 - mean_close_30)/ mean_close_30\n",
    "\n",
    "    # attach to pipeline - this will do the computations the given col name\n",
    "    pipe = Pipeline(\n",
    "        columns = {\n",
    "            'percent_difference': percent_difference,\n",
    "            'high_dollar_volume':filter_volume\n",
    "        }\n",
    "    )\n",
    "    \n",
    "    return pipe"
   ]
  },
  {
   "cell_type": "code",
   "execution_count": 21,
   "metadata": {},
   "outputs": [
    {
     "data": {
      "application/vnd.jupyter.widget-view+json": {
       "model_id": "",
       "version_major": 2,
       "version_minor": 0
      },
      "text/plain": []
     },
     "metadata": {},
     "output_type": "display_data"
    },
    {
     "data": {
      "text/html": [
       "<b>Pipeline Execution Time:</b> 0.57 Seconds"
      ],
      "text/plain": [
       "<IPython.core.display.HTML object>"
      ]
     },
     "metadata": {},
     "output_type": "display_data"
    },
    {
     "data": {
      "text/html": [
       "<div>\n",
       "<table border=\"1\" class=\"dataframe\">\n",
       "  <thead>\n",
       "    <tr style=\"text-align: right;\">\n",
       "      <th></th>\n",
       "      <th></th>\n",
       "      <th>high_dollar_volume</th>\n",
       "      <th>percent_difference</th>\n",
       "    </tr>\n",
       "  </thead>\n",
       "  <tbody>\n",
       "    <tr>\n",
       "      <th rowspan=\"5\" valign=\"top\">2015-05-05 00:00:00+00:00</th>\n",
       "      <th>Equity(2 [HWM])</th>\n",
       "      <td>True</td>\n",
       "      <td>0.017975</td>\n",
       "    </tr>\n",
       "    <tr>\n",
       "      <th>Equity(21 [AAME])</th>\n",
       "      <td>False</td>\n",
       "      <td>-0.002325</td>\n",
       "    </tr>\n",
       "    <tr>\n",
       "      <th>Equity(24 [AAPL])</th>\n",
       "      <td>True</td>\n",
       "      <td>0.016905</td>\n",
       "    </tr>\n",
       "    <tr>\n",
       "      <th>Equity(25 [HWM_PR])</th>\n",
       "      <td>False</td>\n",
       "      <td>0.021544</td>\n",
       "    </tr>\n",
       "    <tr>\n",
       "      <th>Equity(31 [ABAX])</th>\n",
       "      <td>False</td>\n",
       "      <td>-0.019639</td>\n",
       "    </tr>\n",
       "  </tbody>\n",
       "</table>\n",
       "</div>"
      ],
      "text/plain": [
       "                                              high_dollar_volume  \\\n",
       "2015-05-05 00:00:00+00:00 Equity(2 [HWM])                   True   \n",
       "                          Equity(21 [AAME])                False   \n",
       "                          Equity(24 [AAPL])                 True   \n",
       "                          Equity(25 [HWM_PR])              False   \n",
       "                          Equity(31 [ABAX])                False   \n",
       "\n",
       "                                               percent_difference  \n",
       "2015-05-05 00:00:00+00:00 Equity(2 [HWM])                0.017975  \n",
       "                          Equity(21 [AAME])             -0.002325  \n",
       "                          Equity(24 [AAPL])              0.016905  \n",
       "                          Equity(25 [HWM_PR])            0.021544  \n",
       "                          Equity(31 [ABAX])             -0.019639  "
      ]
     },
     "execution_count": 21,
     "metadata": {},
     "output_type": "execute_result"
    }
   ],
   "source": [
    "result = run_pipeline(make_pipeline(), '2015-05-05', '2015-05-05')\n",
    "result.head()"
   ]
  },
  {
   "cell_type": "markdown",
   "metadata": {},
   "source": [
    "So far we have learnt to produce all of these filters and factors as columns themselves, and quantopian by default produces results for each security for EACH DAY. We may only want a subset of these securities to actually even be considered. How do?\n",
    "\n",
    "# Apply a Screen\n",
    "\n",
    "We can tell our Pipeline to ignore securities for which a filter produces False by passing that filter to our Pipeline via the screen keyword.\n",
    "\n",
    "To screen our pipeline output for securities with a 30-day average dollar volume greater than $10,000,000, we can simply pass our high_dollar_volume filter as the screen argument.\n"
   ]
  },
  {
   "cell_type": "code",
   "execution_count": 22,
   "metadata": {},
   "outputs": [],
   "source": [
    "def make_pipeline():\n",
    "    \n",
    "    # this factor by default uses equitypricing.close and\n",
    "    # equitypricing.volume as inputs so they don't need to be specified\n",
    "    dollar_volume = AverageDollarVolume(window_length = 30)\n",
    "    filter_volume = dollar_volume > 10**7\n",
    "    \n",
    "    # this is just instantiating the function, not doing any computations\n",
    "    mean_close_10 = SimpleMovingAverage(\n",
    "        inputs = [USEquityPricing.close], # BOUNDColumn indicates the data type\n",
    "        window_length = 10\n",
    "    )\n",
    "    \n",
    "    mean_close_30 = SimpleMovingAverage(\n",
    "        inputs = [USEquityPricing.close], # BOUNDColumn indicates the data type\n",
    "        window_length = 30\n",
    "    )\n",
    "    \n",
    "    # difining a higher order factor that is NOT YET COMPUTED\n",
    "    # static type of factor\n",
    "    percent_difference = (mean_close_10 - mean_close_30)/ mean_close_30\n",
    "\n",
    "    # attach to pipeline - this will do the computations the given col name\n",
    "    pipe = Pipeline(\n",
    "        columns = {\n",
    "            'percent_difference': percent_difference,\n",
    "        },\n",
    "        screen = filter_volume\n",
    "    )\n",
    "    \n",
    "    return pipe"
   ]
  },
  {
   "cell_type": "code",
   "execution_count": 24,
   "metadata": {},
   "outputs": [
    {
     "data": {
      "application/vnd.jupyter.widget-view+json": {
       "model_id": "",
       "version_major": 2,
       "version_minor": 0
      },
      "text/plain": []
     },
     "metadata": {},
     "output_type": "display_data"
    },
    {
     "data": {
      "text/html": [
       "<b>Pipeline Execution Time:</b> 0.55 Seconds"
      ],
      "text/plain": [
       "<IPython.core.display.HTML object>"
      ]
     },
     "metadata": {},
     "output_type": "display_data"
    },
    {
     "name": "stdout",
     "output_type": "stream",
     "text": [
      "Number of securities that passed the filter: 2106\n"
     ]
    }
   ],
   "source": [
    "result = run_pipeline(make_pipeline(), '2015-05-05', '2015-05-05')\n",
    "result.head()\n",
    "print('Number of securities that passed the filter: %d' % len(result))"
   ]
  },
  {
   "cell_type": "markdown",
   "metadata": {},
   "source": [
    "# Higher order filters\n",
    "\n",
    "Filters can also be inverted using \"~\"\n",
    "\n",
    "They can be combined as well into a new filter using any boolean operators.\n",
    "\n",
    "New filter => all_volume = high_dollar_vol & low_dollar_vol"
   ]
  },
  {
   "cell_type": "code",
   "execution_count": 25,
   "metadata": {},
   "outputs": [
    {
     "ename": "NameError",
     "evalue": "name 'filter_volume' is not defined",
     "output_type": "error",
     "traceback": [
      "\u001b[0;31m---------------------------------------------------------------------------\u001b[0m",
      "\u001b[0;31mNameError\u001b[0m                                 Traceback (most recent call last)",
      "\u001b[0;32m<ipython-input-25-97158cc58d35>\u001b[0m in \u001b[0;36m<module>\u001b[0;34m()\u001b[0m\n\u001b[0;32m----> 1\u001b[0;31m \u001b[0mlow_dollar_vol\u001b[0m \u001b[0;34m=\u001b[0m \u001b[0;34m~\u001b[0m \u001b[0mfilter_volume\u001b[0m \u001b[0;31m# filter_volume is high_dollar_vol filter\u001b[0m\u001b[0;34m\u001b[0m\u001b[0m\n\u001b[0m",
      "\u001b[0;31mNameError\u001b[0m: name 'filter_volume' is not defined"
     ]
    }
   ],
   "source": [
    "low_dollar_vol = ~ filter_volume # filter_volume is high_dollar_vol filter"
   ]
  },
  {
   "cell_type": "markdown",
   "metadata": {},
   "source": [
    "# Masking\n",
    "\n",
    "Sometimes we want to ignore certain assets when computing pipeline expresssions. There are two common cases where ignoring assets is useful:\n",
    "\n",
    "1. We want to compute an expression that's computationally expensive, and we know we only care about results for certain assets. A common example of such an expensive expression is a Factor computing the coefficients of a regression (RollingLinearRegressionOfReturns).\n",
    "\n",
    "1. We want to compute an expression that performs comparisons between assets, but we only want those comparisons to be performed against a subset of all assets. For example, we might want to use the top method of Factor to compute the top 200 assets by earnings yield, ignoring assets that don't meet some liquidity constraint.\n",
    "\n",
    "To support these two use-cases, all Factors and many Factor methods can accept a mask argument, which must be a Filter indicating which assets to consider when computing.\n",
    "\n",
    "<b><i><u> Masking is applied to the FACTOR itself, EXTREMELY efficient as this filters assets / dates BEFORE the computation is performed, where SCREEN computes everything, and filters AFTER. \n",
    "    \n",
    "# So for the GOOD ALPHA, this will be the way to go.\n"
   ]
  },
  {
   "cell_type": "code",
   "execution_count": null,
   "metadata": {},
   "outputs": [],
   "source": [
    "# Dollar volume factor\n",
    "dollar_volume = AverageDollarVolume(window_length=30)\n",
    "\n",
    "# High dollar volume filter\n",
    "high_dollar_volume = (dollar_volume > 10000000)\n",
    "\n",
    "# Average close price factors\n",
    "mean_close_10 = SimpleMovingAverage(\n",
    "    inputs=[USEquityPricing.close],\n",
    "    window_length=10,\n",
    "    mask=high_dollar_volume\n",
    ")\n",
    "mean_close_30 = SimpleMovingAverage(\n",
    "    inputs=[USEquityPricing.close],\n",
    "    window_length=30,\n",
    "    mask=high_dollar_volume\n",
    ")\n",
    "\n",
    "# Relative difference factor\n",
    "percent_difference = (mean_close_10 - mean_close_30) / mean_close_30"
   ]
  },
  {
   "cell_type": "markdown",
   "metadata": {},
   "source": [
    "Applying the mask to SimpleMovingAverage restricts the average close price factors to a computation over the ~2000 securities passing the high_dollar_volume filter, as opposed to ~8000 without a mask. When we combine mean_close_10 and mean_close_30 to form percent_difference, the computation is performed on the same ~2000 securities."
   ]
  },
  {
   "cell_type": "markdown",
   "metadata": {},
   "source": [
    "# Masking Filters\n",
    "\n",
    "Masks can be also be applied to methods that return filters like top, bottom, and percentile_between.\n",
    "\n",
    "Masks are most useful when we want to apply a filter in the earlier steps of a combined computation. For example, suppose we want to get the 50 securities with the highest open price that are also in the top 10% of dollar volume. Suppose that we then want the 90th-100th percentile of these securities by close price. We can do this with the following:\n"
   ]
  },
  {
   "cell_type": "code",
   "execution_count": 28,
   "metadata": {},
   "outputs": [],
   "source": [
    "def make_pipeline():\n",
    "\n",
    "    # Dollar volume factor\n",
    "    dollar_volume = AverageDollarVolume(window_length=30)\n",
    "\n",
    "    # High dollar volume filter\n",
    "    high_dollar_volume = dollar_volume.percentile_between(90,100)\n",
    "    \n",
    "    # ONLY GET TOP 50 PRICES FOR HIGH DOLLAR VOLUME SECS\n",
    "    # Top open securities filter (high dollar volume securities)\n",
    "    top_open_price = USEquityPricing.open.latest.top(50, mask=high_dollar_volume)\n",
    "    \n",
    "    # ONLY GET TOP PERCENTILES FOR THE TOP_OPEN_PRICE (TAKES TOP 50 OF HIGH DOLLAR VOLUMES)\n",
    "    # Top percentile close price filter (high dollar volume, top 50 open price)\n",
    "    high_close_price = USEquityPricing.close.latest.percentile_between(90, 100, mask=top_open_price)\n",
    "    \n",
    "    \n",
    "    # THINK OF THIS SORT OF MASKING AS ASSET FUNNELING\n",
    "    return Pipeline(\n",
    "        screen=high_close_price\n",
    "    )"
   ]
  },
  {
   "cell_type": "code",
   "execution_count": 29,
   "metadata": {},
   "outputs": [
    {
     "data": {
      "application/vnd.jupyter.widget-view+json": {
       "model_id": "",
       "version_major": 2,
       "version_minor": 0
      },
      "text/plain": []
     },
     "metadata": {},
     "output_type": "display_data"
    },
    {
     "data": {
      "text/html": [
       "<b>Pipeline Execution Time:</b> 0.76 Seconds"
      ],
      "text/plain": [
       "<IPython.core.display.HTML object>"
      ]
     },
     "metadata": {},
     "output_type": "display_data"
    },
    {
     "data": {
      "text/html": [
       "<div>\n",
       "<table border=\"1\" class=\"dataframe\">\n",
       "  <thead>\n",
       "    <tr style=\"text-align: right;\">\n",
       "      <th></th>\n",
       "      <th></th>\n",
       "    </tr>\n",
       "  </thead>\n",
       "  <tbody>\n",
       "    <tr>\n",
       "      <th rowspan=\"5\" valign=\"top\">2015-05-05 00:00:00+00:00</th>\n",
       "      <th>Equity(693 [AZO])</th>\n",
       "    </tr>\n",
       "    <tr>\n",
       "      <th>Equity(1091 [BRK_A])</th>\n",
       "    </tr>\n",
       "    <tr>\n",
       "      <th>Equity(19917 [BKNG])</th>\n",
       "    </tr>\n",
       "    <tr>\n",
       "      <th>Equity(23709 [NFLX])</th>\n",
       "    </tr>\n",
       "    <tr>\n",
       "      <th>Equity(28016 [CMG])</th>\n",
       "    </tr>\n",
       "  </tbody>\n",
       "</table>\n",
       "</div>"
      ],
      "text/plain": [
       "Empty DataFrame\n",
       "Columns: []\n",
       "Index: [(2015-05-05 00:00:00+00:00, Equity(693 [AZO])), (2015-05-05 00:00:00+00:00, Equity(1091 [BRK_A])), (2015-05-05 00:00:00+00:00, Equity(19917 [BKNG])), (2015-05-05 00:00:00+00:00, Equity(23709 [NFLX])), (2015-05-05 00:00:00+00:00, Equity(28016 [CMG]))]"
      ]
     },
     "execution_count": 29,
     "metadata": {},
     "output_type": "execute_result"
    }
   ],
   "source": [
    "result = run_pipeline(make_pipeline(), '2015-05-05', '2015-05-05')\n",
    "result"
   ]
  },
  {
   "cell_type": "markdown",
   "metadata": {},
   "source": [
    "# CLASSIFIERS - SKIPPED AS I DON'T THINK WE NEED IT\n",
    "\n",
    "# DATASETS AND STATIC TYPING IN THIS PLATFORM\n",
    "\n",
    "Please read this one is super important <<<<<<<<<<<<<<<<<<<<<<<<<<<<<<<<<\n",
    "https://www.quantopian.com/tutorials/pipeline#lesson9"
   ]
  },
  {
   "cell_type": "code",
   "execution_count": null,
   "metadata": {},
   "outputs": [],
   "source": []
  }
 ],
 "metadata": {
  "kernelspec": {
   "display_name": "Python 3.5",
   "language": "python",
   "name": "py35"
  },
  "language_info": {
   "codemirror_mode": {
    "name": "ipython",
    "version": 3
   },
   "file_extension": ".py",
   "mimetype": "text/x-python",
   "name": "python",
   "nbconvert_exporter": "python",
   "pygments_lexer": "ipython3",
   "version": "3.5.10"
  }
 },
 "nbformat": 4,
 "nbformat_minor": 2
}
