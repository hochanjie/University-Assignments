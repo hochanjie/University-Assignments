{
 "cells": [
  {
   "cell_type": "markdown",
   "metadata": {},
   "source": [
    "<h1>Pipeline</h1>"
   ]
  },
  {
   "cell_type": "code",
   "execution_count": 1,
   "metadata": {},
   "outputs": [],
   "source": [
    "from quantopian.pipeline import Pipeline\n",
    "from quantopian.research import run_pipeline # this is research only"
   ]
  },
  {
   "cell_type": "markdown",
   "metadata": {},
   "source": [
    "Good to wrap this in a function to set up more complex pipelines, for now this is just an empty pipeline."
   ]
  },
  {
   "cell_type": "code",
   "execution_count": 2,
   "metadata": {},
   "outputs": [],
   "source": [
    "def make_pipeline():\n",
    "    return Pipeline()\n"
   ]
  },
  {
   "cell_type": "markdown",
   "metadata": {},
   "source": [
    "The output of an empty pipeline is a DataFrame with no columns. In this example, our pipeline has an index made up of all 8000+ securities (only 5 rows displayed in the image) for May 5th, 2015, but doesn't have any columns."
   ]
  },
  {
   "cell_type": "code",
   "execution_count": 3,
   "metadata": {},
   "outputs": [
    {
     "data": {
      "application/vnd.jupyter.widget-view+json": {
       "model_id": "",
       "version_major": 2,
       "version_minor": 0
      },
      "text/plain": []
     },
     "metadata": {},
     "output_type": "display_data"
    },
    {
     "data": {
      "text/html": [
       "<b>Pipeline Execution Time:</b> 0.93 Seconds"
      ],
      "text/plain": [
       "<IPython.core.display.HTML object>"
      ]
     },
     "metadata": {},
     "output_type": "display_data"
    },
    {
     "data": {
      "text/html": [
       "<div>\n",
       "<table border=\"1\" class=\"dataframe\">\n",
       "  <thead>\n",
       "    <tr style=\"text-align: right;\">\n",
       "      <th></th>\n",
       "      <th></th>\n",
       "    </tr>\n",
       "  </thead>\n",
       "  <tbody>\n",
       "    <tr>\n",
       "      <th rowspan=\"5\" valign=\"top\">2015-05-05 00:00:00+00:00</th>\n",
       "      <th>Equity(2 [HWM])</th>\n",
       "    </tr>\n",
       "    <tr>\n",
       "      <th>Equity(21 [AAME])</th>\n",
       "    </tr>\n",
       "    <tr>\n",
       "      <th>Equity(24 [AAPL])</th>\n",
       "    </tr>\n",
       "    <tr>\n",
       "      <th>Equity(25 [HWM_PR])</th>\n",
       "    </tr>\n",
       "    <tr>\n",
       "      <th>Equity(31 [ABAX])</th>\n",
       "    </tr>\n",
       "  </tbody>\n",
       "</table>\n",
       "</div>"
      ],
      "text/plain": [
       "Empty DataFrame\n",
       "Columns: []\n",
       "Index: [(2015-05-05 00:00:00+00:00, Equity(2 [HWM])), (2015-05-05 00:00:00+00:00, Equity(21 [AAME])), (2015-05-05 00:00:00+00:00, Equity(24 [AAPL])), (2015-05-05 00:00:00+00:00, Equity(25 [HWM_PR])), (2015-05-05 00:00:00+00:00, Equity(31 [ABAX]))]"
      ]
     },
     "execution_count": 3,
     "metadata": {},
     "output_type": "execute_result"
    }
   ],
   "source": [
    "my_pipe = make_pipeline()\n",
    "\n",
    "# running the pipeline returns a df, double index data and secs\n",
    "result = run_pipeline(my_pipe, '2015-05-05', '2015-05-05')\n",
    "result.head() \n",
    "\n",
    "#currently empty pipeline, all indexes and no columns"
   ]
  },
  {
   "cell_type": "markdown",
   "metadata": {},
   "source": [
    "<h1>Factors</h1> <br>\n",
    "Check the parameters required for the factor to be used\n",
    "<br>\n",
    "<a href = \"https://www.quantopian.com/docs/api-reference/pipeline-api-reference#pipeline-quickref-factors\">Open Link in new tab</a>"
   ]
  },
  {
   "cell_type": "code",
   "execution_count": 4,
   "metadata": {},
   "outputs": [],
   "source": [
    "from quantopian.pipeline.data.builtin import USEquityPricing\n",
    "from quantopian.pipeline.factors import SimpleMovingAverage\n",
    "\n",
    "# each factor needs to be instantiated with parameters to be actually used\n",
    "# to check params visit link above\n",
    "\n",
    "def make_pipeline():\n",
    "    \n",
    "    # this is just instantiating the function, not doing any computations\n",
    "    mean_close_10 = SimpleMovingAverage(\n",
    "        inputs = [USEquityPricing.close], # BOUNDColumn indicates the data type\n",
    "        window_length = 10\n",
    "    )\n",
    "    \n",
    "    # attach to pipeline - this will do the computations the given col name\n",
    "    pipe = Pipeline(\n",
    "        columns = {\n",
    "            '10_day_mean_close': mean_close_10\n",
    "        }\n",
    "    )\n",
    "    \n",
    "    return pipe"
   ]
  },
  {
   "cell_type": "markdown",
   "metadata": {},
   "source": [
    "The DataFrame has a MultiIndex where the first level is a datetime representing the date of the computation and the second level is an Equity object corresponding to the security. For example, the first row in the above DataFrame (`2015-05-05 00:00:00+00:00`, `Equity(2 [AA])`) contains the result of our mean_close_10 factor for AA on May 5th, 2015."
   ]
  },
  {
   "cell_type": "code",
   "execution_count": 5,
   "metadata": {},
   "outputs": [
    {
     "data": {
      "application/vnd.jupyter.widget-view+json": {
       "model_id": "",
       "version_major": 2,
       "version_minor": 0
      },
      "text/plain": []
     },
     "metadata": {},
     "output_type": "display_data"
    },
    {
     "data": {
      "text/html": [
       "<b>Pipeline Execution Time:</b> 0.60 Seconds"
      ],
      "text/plain": [
       "<IPython.core.display.HTML object>"
      ]
     },
     "metadata": {},
     "output_type": "display_data"
    },
    {
     "data": {
      "text/html": [
       "<div>\n",
       "<table border=\"1\" class=\"dataframe\">\n",
       "  <thead>\n",
       "    <tr style=\"text-align: right;\">\n",
       "      <th></th>\n",
       "      <th></th>\n",
       "      <th>10_day_mean_close</th>\n",
       "    </tr>\n",
       "  </thead>\n",
       "  <tbody>\n",
       "    <tr>\n",
       "      <th rowspan=\"5\" valign=\"top\">2015-05-05 00:00:00+00:00</th>\n",
       "      <th>Equity(2 [HWM])</th>\n",
       "      <td>13.5595</td>\n",
       "    </tr>\n",
       "    <tr>\n",
       "      <th>Equity(21 [AAME])</th>\n",
       "      <td>3.9625</td>\n",
       "    </tr>\n",
       "    <tr>\n",
       "      <th>Equity(24 [AAPL])</th>\n",
       "      <td>129.0257</td>\n",
       "    </tr>\n",
       "    <tr>\n",
       "      <th>Equity(25 [HWM_PR])</th>\n",
       "      <td>88.3625</td>\n",
       "    </tr>\n",
       "    <tr>\n",
       "      <th>Equity(31 [ABAX])</th>\n",
       "      <td>61.9209</td>\n",
       "    </tr>\n",
       "  </tbody>\n",
       "</table>\n",
       "</div>"
      ],
      "text/plain": [
       "                                               10_day_mean_close\n",
       "2015-05-05 00:00:00+00:00 Equity(2 [HWM])                13.5595\n",
       "                          Equity(21 [AAME])               3.9625\n",
       "                          Equity(24 [AAPL])             129.0257\n",
       "                          Equity(25 [HWM_PR])            88.3625\n",
       "                          Equity(31 [ABAX])              61.9209"
      ]
     },
     "execution_count": 5,
     "metadata": {},
     "output_type": "execute_result"
    }
   ],
   "source": [
    "result = run_pipeline(make_pipeline(), '2015-05-05', '2015-05-05')\n",
    "result.head()"
   ]
  },
  {
   "cell_type": "markdown",
   "metadata": {},
   "source": [
    "# Latest - inbuilt factor\n",
    "The Latest factor gets the most recent value of a given data column. This factor is common enough that it is instantiated differently from other factors. The best way to get the latest value of a data column is by getting its .latest attribute. "
   ]
  },
  {
   "cell_type": "code",
   "execution_count": 6,
   "metadata": {},
   "outputs": [],
   "source": [
    "def make_pipeline():\n",
    "    \n",
    "    # this is just instantiating the function, not doing any computations\n",
    "    mean_close_10 = SimpleMovingAverage(\n",
    "        inputs = [USEquityPricing.close], # BOUNDColumn indicates the data type\n",
    "        window_length = 10\n",
    "    )\n",
    "    \n",
    "    # LATEST IS INSTANTIATED DIFFERENTLY TO OTHER FACTORS, can even return other things than factors!\n",
    "    latest_close = USEquityPricing.close.latest\n",
    "    \n",
    "    # attach to pipeline - this will do the computations the given col name\n",
    "    pipe = Pipeline(\n",
    "        columns = {\n",
    "            '10_day_mean_close': mean_close_10,\n",
    "            'latest_closing_price': latest_close\n",
    "        }\n",
    "    )\n",
    "    \n",
    "    return pipe"
   ]
  },
  {
   "cell_type": "code",
   "execution_count": 7,
   "metadata": {},
   "outputs": [
    {
     "data": {
      "application/vnd.jupyter.widget-view+json": {
       "model_id": "",
       "version_major": 2,
       "version_minor": 0
      },
      "text/plain": []
     },
     "metadata": {},
     "output_type": "display_data"
    },
    {
     "data": {
      "text/html": [
       "<b>Pipeline Execution Time:</b> 0.25 Seconds"
      ],
      "text/plain": [
       "<IPython.core.display.HTML object>"
      ]
     },
     "metadata": {},
     "output_type": "display_data"
    },
    {
     "data": {
      "text/html": [
       "<div>\n",
       "<table border=\"1\" class=\"dataframe\">\n",
       "  <thead>\n",
       "    <tr style=\"text-align: right;\">\n",
       "      <th></th>\n",
       "      <th></th>\n",
       "      <th>10_day_mean_close</th>\n",
       "      <th>latest_closing_price</th>\n",
       "    </tr>\n",
       "  </thead>\n",
       "  <tbody>\n",
       "    <tr>\n",
       "      <th rowspan=\"5\" valign=\"top\">2015-05-05 00:00:00+00:00</th>\n",
       "      <th>Equity(2 [HWM])</th>\n",
       "      <td>13.5595</td>\n",
       "      <td>14.015</td>\n",
       "    </tr>\n",
       "    <tr>\n",
       "      <th>Equity(21 [AAME])</th>\n",
       "      <td>3.9625</td>\n",
       "      <td>NaN</td>\n",
       "    </tr>\n",
       "    <tr>\n",
       "      <th>Equity(24 [AAPL])</th>\n",
       "      <td>129.0257</td>\n",
       "      <td>128.699</td>\n",
       "    </tr>\n",
       "    <tr>\n",
       "      <th>Equity(25 [HWM_PR])</th>\n",
       "      <td>88.3625</td>\n",
       "      <td>NaN</td>\n",
       "    </tr>\n",
       "    <tr>\n",
       "      <th>Equity(31 [ABAX])</th>\n",
       "      <td>61.9209</td>\n",
       "      <td>55.030</td>\n",
       "    </tr>\n",
       "  </tbody>\n",
       "</table>\n",
       "</div>"
      ],
      "text/plain": [
       "                                               10_day_mean_close  \\\n",
       "2015-05-05 00:00:00+00:00 Equity(2 [HWM])                13.5595   \n",
       "                          Equity(21 [AAME])               3.9625   \n",
       "                          Equity(24 [AAPL])             129.0257   \n",
       "                          Equity(25 [HWM_PR])            88.3625   \n",
       "                          Equity(31 [ABAX])              61.9209   \n",
       "\n",
       "                                               latest_closing_price  \n",
       "2015-05-05 00:00:00+00:00 Equity(2 [HWM])                    14.015  \n",
       "                          Equity(21 [AAME])                     NaN  \n",
       "                          Equity(24 [AAPL])                 128.699  \n",
       "                          Equity(25 [HWM_PR])                   NaN  \n",
       "                          Equity(31 [ABAX])                  55.030  "
      ]
     },
     "execution_count": 7,
     "metadata": {},
     "output_type": "execute_result"
    }
   ],
   "source": [
    "result = run_pipeline(make_pipeline(), '2015-05-05', '2015-05-05')\n",
    "result.head()"
   ]
  },
  {
   "cell_type": "markdown",
   "metadata": {},
   "source": [
    "Some factors have default inputs that should never be changed. For example the VWAP built-in factor is always calculated from USEquityPricing.close and USEquityPricing.volume. When a factor is always calculated from the same BoundColumns, we can call the constructor without specifying inputs."
   ]
  },
  {
   "cell_type": "code",
   "execution_count": 8,
   "metadata": {},
   "outputs": [],
   "source": [
    "from quantopian.pipeline.factors import VWAP\n",
    "vwap = VWAP(window_length=10)"
   ]
  },
  {
   "cell_type": "markdown",
   "metadata": {},
   "source": [
    "# Combining Factors"
   ]
  },
  {
   "cell_type": "markdown",
   "metadata": {},
   "source": [
    "Factors can be combined, both with other Factors and with scalar values, via any of the builtin mathematical operators (+, -, *, etc). <br><br>\n",
    "f1 = SomeFactor(...)<br>\n",
    "f2 = SomeOtherFactor(...)<br>\n",
    "average = (f1 + f2) / 2.0"
   ]
  },
  {
   "cell_type": "code",
   "execution_count": 9,
   "metadata": {},
   "outputs": [],
   "source": [
    "def make_pipeline():\n",
    "    \n",
    "    # this is just instantiating the function, not doing any computations\n",
    "    mean_close_10 = SimpleMovingAverage(\n",
    "        inputs = [USEquityPricing.close], # BOUNDColumn indicates the data type\n",
    "        window_length = 10\n",
    "    )\n",
    "    \n",
    "    mean_close_30 = SimpleMovingAverage(\n",
    "        inputs = [USEquityPricing.close], # BOUNDColumn indicates the data type\n",
    "        window_length = 30\n",
    "    )\n",
    "    \n",
    "    # difining a higher order factor that is NOT YET COMPUTED\n",
    "    # static type of factor\n",
    "    percent_difference = (mean_close_10 - mean_close_30)/ mean_close_30\n",
    "    \n",
    "    # LATEST IS INSTANTIATED DIFFERENTLY TO OTHER FACTORS, can even return other things than factors!\n",
    "    latest_close = USEquityPricing.close.latest\n",
    "    \n",
    "    # attach to pipeline - this will do the computations the given col name\n",
    "    pipe = Pipeline(\n",
    "        columns = {\n",
    "            '10_day_mean_close': mean_close_10,\n",
    "            '30_day_mean_close': mean_close_30,\n",
    "            'percent_difference': percent_difference,\n",
    "            'latest_closing_price': latest_close\n",
    "        }\n",
    "    )\n",
    "    \n",
    "    return pipe"
   ]
  },
  {
   "cell_type": "code",
   "execution_count": 10,
   "metadata": {},
   "outputs": [
    {
     "data": {
      "application/vnd.jupyter.widget-view+json": {
       "model_id": "",
       "version_major": 2,
       "version_minor": 0
      },
      "text/plain": []
     },
     "metadata": {},
     "output_type": "display_data"
    },
    {
     "data": {
      "text/html": [
       "<b>Pipeline Execution Time:</b> 0.39 Seconds"
      ],
      "text/plain": [
       "<IPython.core.display.HTML object>"
      ]
     },
     "metadata": {},
     "output_type": "display_data"
    },
    {
     "data": {
      "text/html": [
       "<div>\n",
       "<table border=\"1\" class=\"dataframe\">\n",
       "  <thead>\n",
       "    <tr style=\"text-align: right;\">\n",
       "      <th></th>\n",
       "      <th></th>\n",
       "      <th>10_day_mean_close</th>\n",
       "      <th>30_day_mean_close</th>\n",
       "      <th>latest_closing_price</th>\n",
       "      <th>percent_difference</th>\n",
       "    </tr>\n",
       "  </thead>\n",
       "  <tbody>\n",
       "    <tr>\n",
       "      <th rowspan=\"5\" valign=\"top\">2015-05-05 00:00:00+00:00</th>\n",
       "      <th>Equity(2 [HWM])</th>\n",
       "      <td>13.5595</td>\n",
       "      <td>13.320067</td>\n",
       "      <td>14.015</td>\n",
       "      <td>0.017975</td>\n",
       "    </tr>\n",
       "    <tr>\n",
       "      <th>Equity(21 [AAME])</th>\n",
       "      <td>3.9625</td>\n",
       "      <td>3.971735</td>\n",
       "      <td>NaN</td>\n",
       "      <td>-0.002325</td>\n",
       "    </tr>\n",
       "    <tr>\n",
       "      <th>Equity(24 [AAPL])</th>\n",
       "      <td>129.0257</td>\n",
       "      <td>126.880733</td>\n",
       "      <td>128.699</td>\n",
       "      <td>0.016905</td>\n",
       "    </tr>\n",
       "    <tr>\n",
       "      <th>Equity(25 [HWM_PR])</th>\n",
       "      <td>88.3625</td>\n",
       "      <td>86.498944</td>\n",
       "      <td>NaN</td>\n",
       "      <td>0.021544</td>\n",
       "    </tr>\n",
       "    <tr>\n",
       "      <th>Equity(31 [ABAX])</th>\n",
       "      <td>61.9209</td>\n",
       "      <td>63.161300</td>\n",
       "      <td>55.030</td>\n",
       "      <td>-0.019639</td>\n",
       "    </tr>\n",
       "  </tbody>\n",
       "</table>\n",
       "</div>"
      ],
      "text/plain": [
       "                                               10_day_mean_close  \\\n",
       "2015-05-05 00:00:00+00:00 Equity(2 [HWM])                13.5595   \n",
       "                          Equity(21 [AAME])               3.9625   \n",
       "                          Equity(24 [AAPL])             129.0257   \n",
       "                          Equity(25 [HWM_PR])            88.3625   \n",
       "                          Equity(31 [ABAX])              61.9209   \n",
       "\n",
       "                                               30_day_mean_close  \\\n",
       "2015-05-05 00:00:00+00:00 Equity(2 [HWM])              13.320067   \n",
       "                          Equity(21 [AAME])             3.971735   \n",
       "                          Equity(24 [AAPL])           126.880733   \n",
       "                          Equity(25 [HWM_PR])          86.498944   \n",
       "                          Equity(31 [ABAX])            63.161300   \n",
       "\n",
       "                                               latest_closing_price  \\\n",
       "2015-05-05 00:00:00+00:00 Equity(2 [HWM])                    14.015   \n",
       "                          Equity(21 [AAME])                     NaN   \n",
       "                          Equity(24 [AAPL])                 128.699   \n",
       "                          Equity(25 [HWM_PR])                   NaN   \n",
       "                          Equity(31 [ABAX])                  55.030   \n",
       "\n",
       "                                               percent_difference  \n",
       "2015-05-05 00:00:00+00:00 Equity(2 [HWM])                0.017975  \n",
       "                          Equity(21 [AAME])             -0.002325  \n",
       "                          Equity(24 [AAPL])              0.016905  \n",
       "                          Equity(25 [HWM_PR])            0.021544  \n",
       "                          Equity(31 [ABAX])             -0.019639  "
      ]
     },
     "execution_count": 10,
     "metadata": {},
     "output_type": "execute_result"
    }
   ],
   "source": [
    "result = run_pipeline(make_pipeline(), '2015-05-05', '2015-05-05')\n",
    "result.head()"
   ]
  },
  {
   "cell_type": "markdown",
   "metadata": {},
   "source": [
    "# Filters\n",
    "\n",
    "f (asset, timestamp) -> boolean\n",
    "\n",
    "Use when narrowing down set of securities included in computation or in the final output of a pipeline.\n",
    "\n",
    "Comparison operators on Factors and Classifiers produce Filters"
   ]
  },
  {
   "cell_type": "code",
   "execution_count": 11,
   "metadata": {},
   "outputs": [],
   "source": [
    "last_close_price = USEquityPricing.close.latest\n",
    "filter_close_price = last_close_price > 20"
   ]
  },
  {
   "cell_type": "code",
   "execution_count": 12,
   "metadata": {},
   "outputs": [
    {
     "ename": "NameError",
     "evalue": "name 'mean_close_10' is not defined",
     "output_type": "error",
     "traceback": [
      "\u001b[0;31m---------------------------------------------------------------------------\u001b[0m",
      "\u001b[0;31mNameError\u001b[0m                                 Traceback (most recent call last)",
      "\u001b[0;32m<ipython-input-12-deb9e3f493d1>\u001b[0m in \u001b[0;36m<module>\u001b[0;34m()\u001b[0m\n\u001b[1;32m      4\u001b[0m \u001b[0;31m# here instead of checking these two columns when iterating over the securities\u001b[0m\u001b[0;34m\u001b[0m\u001b[0;34m\u001b[0m\u001b[0m\n\u001b[1;32m      5\u001b[0m \u001b[0;31m# we could simply record the signals as a column in itself\u001b[0m\u001b[0;34m\u001b[0m\u001b[0;34m\u001b[0m\u001b[0m\n\u001b[0;32m----> 6\u001b[0;31m \u001b[0mmean_crossover_filter\u001b[0m \u001b[0;34m=\u001b[0m \u001b[0mmean_close_10\u001b[0m \u001b[0;34m<\u001b[0m \u001b[0mmean_close_30\u001b[0m\u001b[0;34m\u001b[0m\u001b[0m\n\u001b[0m",
      "\u001b[0;31mNameError\u001b[0m: name 'mean_close_10' is not defined"
     ]
    }
   ],
   "source": [
    "# we can alternatively actually produce these filters sa a column which would\n",
    "# simplify the code in rebalance quite a bit\n",
    "\n",
    "# here instead of checking these two columns when iterating over the securities\n",
    "# we could simply record the signals as a column in itself\n",
    "mean_crossover_filter = mean_close_10 < mean_close_30"
   ]
  },
  {
   "cell_type": "markdown",
   "metadata": {},
   "source": [
    "#    \n",
    "\n",
    "Various methods of the Factor and Classifier classes return Filters. The Factor.top(n) method produces a Filter that returns True for the top n securities of a given factor each day. The following example produces a filter that returns True for exactly 200 securities every day, indicating that those securities were in the top 200 by last close price across all known securities.\n",
    "\n",
    "<b>Link of factor methodsthat return filters (inbuilt):\n",
    "\n",
    "METHODS THAT CREATE FACTORS\n",
    "\n",
    "FACTORS THAT CREATE OTHER FACTORS (LIKE LINEAR REGRESSION AND OTHER STUFF BUILT IN!) </b>\n",
    "\n",
    "https://www.quantopian.com/docs/api-reference/pipeline-api-reference#pipeline-quickref-factor-methods\n"
   ]
  },
  {
   "cell_type": "code",
   "execution_count": null,
   "metadata": {},
   "outputs": [],
   "source": [
    "last_close_price = USEquityPricing.close.latest\n",
    "top_close_price_filter = last_close_price.top(200)"
   ]
  },
  {
   "cell_type": "markdown",
   "metadata": {},
   "source": [
    "Creating a filter that returns True if a security's 30-day average dollar volume is above $10,000,000. To do this, we'll first need to create an AverageDollarVolume factor to compute the 30-day average dollar volume."
   ]
  },
  {
   "cell_type": "code",
   "execution_count": null,
   "metadata": {},
   "outputs": [],
   "source": [
    "from quantopian.pipeline.factors import AverageDollarVolume, SimpleMovingAverage"
   ]
  },
  {
   "cell_type": "code",
   "execution_count": null,
   "metadata": {},
   "outputs": [],
   "source": [
    "def make_pipeline():\n",
    "    \n",
    "    # this factor by default uses equitypricing.close and\n",
    "    # equitypricing.volume as inputs so they don't need to be specified\n",
    "    dollar_volume = AverageDollarVolume(window_length = 30)\n",
    "    filter_volume = dollar_volume > 10**7\n",
    "    \n",
    "    # this is just instantiating the function, not doing any computations\n",
    "    mean_close_10 = SimpleMovingAverage(\n",
    "        inputs = [USEquityPricing.close], # BOUNDColumn indicates the data type\n",
    "        window_length = 10\n",
    "    )\n",
    "    \n",
    "    mean_close_30 = SimpleMovingAverage(\n",
    "        inputs = [USEquityPricing.close], # BOUNDColumn indicates the data type\n",
    "        window_length = 30\n",
    "    )\n",
    "    \n",
    "    # difining a higher order factor that is NOT YET COMPUTED\n",
    "    # static type of factor\n",
    "    percent_difference = (mean_close_10 - mean_close_30)/ mean_close_30\n",
    "\n",
    "    # attach to pipeline - this will do the computations the given col name\n",
    "    pipe = Pipeline(\n",
    "        columns = {\n",
    "            'percent_difference': percent_difference,\n",
    "            'high_dollar_volume':filter_volume\n",
    "        }\n",
    "    )\n",
    "    \n",
    "    return pipe"
   ]
  },
  {
   "cell_type": "code",
   "execution_count": null,
   "metadata": {},
   "outputs": [],
   "source": [
    "result = run_pipeline(make_pipeline(), '2015-05-05', '2015-05-05')\n",
    "result.head()"
   ]
  },
  {
   "cell_type": "markdown",
   "metadata": {},
   "source": [
    "So far we have learnt to produce all of these filters and factors as columns themselves, and quantopian by default produces results for each security for EACH DAY. We may only want a subset of these securities to actually even be considered. How do?\n",
    "\n",
    "# Apply a Screen\n",
    "\n",
    "We can tell our Pipeline to ignore securities for which a filter produces False by passing that filter to our Pipeline via the screen keyword.\n",
    "\n",
    "To screen our pipeline output for securities with a 30-day average dollar volume greater than $10,000,000, we can simply pass our high_dollar_volume filter as the screen argument.\n"
   ]
  },
  {
   "cell_type": "code",
   "execution_count": null,
   "metadata": {},
   "outputs": [],
   "source": [
    "def make_pipeline():\n",
    "    \n",
    "    # this factor by default uses equitypricing.close and\n",
    "    # equitypricing.volume as inputs so they don't need to be specified\n",
    "    dollar_volume = AverageDollarVolume(window_length = 30)\n",
    "    filter_volume = dollar_volume > 10**7\n",
    "    \n",
    "    # this is just instantiating the function, not doing any computations\n",
    "    mean_close_10 = SimpleMovingAverage(\n",
    "        inputs = [USEquityPricing.close], # BOUNDColumn indicates the data type\n",
    "        window_length = 10\n",
    "    )\n",
    "    \n",
    "    mean_close_30 = SimpleMovingAverage(\n",
    "        inputs = [USEquityPricing.close], # BOUNDColumn indicates the data type\n",
    "        window_length = 30\n",
    "    )\n",
    "    \n",
    "    # difining a higher order factor that is NOT YET COMPUTED\n",
    "    # static type of factor\n",
    "    percent_difference = (mean_close_10 - mean_close_30)/ mean_close_30\n",
    "\n",
    "    # attach to pipeline - this will do the computations the given col name\n",
    "    pipe = Pipeline(\n",
    "        columns = {\n",
    "            'percent_difference': percent_difference,\n",
    "        },\n",
    "        screen = filter_volume\n",
    "    )\n",
    "    \n",
    "    return pipe"
   ]
  },
  {
   "cell_type": "code",
   "execution_count": null,
   "metadata": {},
   "outputs": [],
   "source": [
    "result = run_pipeline(make_pipeline(), '2015-05-05', '2015-05-05')\n",
    "result.head()\n",
    "print('Number of securities that passed the filter: %d' % len(result))"
   ]
  },
  {
   "cell_type": "markdown",
   "metadata": {},
   "source": [
    "# Higher order filters\n",
    "\n",
    "Filters can also be inverted using \"~\"\n",
    "\n",
    "They can be combined as well into a new filter using any boolean operators.\n",
    "\n",
    "New filter => all_volume = high_dollar_vol & low_dollar_vol"
   ]
  },
  {
   "cell_type": "code",
   "execution_count": null,
   "metadata": {},
   "outputs": [],
   "source": [
    "low_dollar_vol = ~ filter_volume # filter_volume is high_dollar_vol filter"
   ]
  },
  {
   "cell_type": "markdown",
   "metadata": {},
   "source": [
    "# Masking\n",
    "\n",
    "Sometimes we want to ignore certain assets when computing pipeline expresssions. There are two common cases where ignoring assets is useful:\n",
    "\n",
    "1. We want to compute an expression that's computationally expensive, and we know we only care about results for certain assets. A common example of such an expensive expression is a Factor computing the coefficients of a regression (RollingLinearRegressionOfReturns).\n",
    "\n",
    "1. We want to compute an expression that performs comparisons between assets, but we only want those comparisons to be performed against a subset of all assets. For example, we might want to use the top method of Factor to compute the top 200 assets by earnings yield, ignoring assets that don't meet some liquidity constraint.\n",
    "\n",
    "To support these two use-cases, all Factors and many Factor methods can accept a mask argument, which must be a Filter indicating which assets to consider when computing.\n",
    "\n",
    "<b><i><u> Masking is applied to the FACTOR itself, EXTREMELY efficient as this filters assets / dates BEFORE the computation is performed, where SCREEN computes everything, and filters AFTER. \n",
    "    \n",
    "# So for the GOOD ALPHA, this will be the way to go.\n"
   ]
  },
  {
   "cell_type": "code",
   "execution_count": null,
   "metadata": {},
   "outputs": [],
   "source": [
    "# Dollar volume factor\n",
    "dollar_volume = AverageDollarVolume(window_length=30)\n",
    "\n",
    "# High dollar volume filter\n",
    "high_dollar_volume = (dollar_volume > 10000000)\n",
    "\n",
    "# Average close price factors\n",
    "mean_close_10 = SimpleMovingAverage(\n",
    "    inputs=[USEquityPricing.close],\n",
    "    window_length=10,\n",
    "    mask=high_dollar_volume\n",
    ")\n",
    "mean_close_30 = SimpleMovingAverage(\n",
    "    inputs=[USEquityPricing.close],\n",
    "    window_length=30,\n",
    "    mask=high_dollar_volume\n",
    ")\n",
    "\n",
    "# Relative difference factor\n",
    "percent_difference = (mean_close_10 - mean_close_30) / mean_close_30"
   ]
  },
  {
   "cell_type": "markdown",
   "metadata": {},
   "source": [
    "Applying the mask to SimpleMovingAverage restricts the average close price factors to a computation over the ~2000 securities passing the high_dollar_volume filter, as opposed to ~8000 without a mask. When we combine mean_close_10 and mean_close_30 to form percent_difference, the computation is performed on the same ~2000 securities."
   ]
  },
  {
   "cell_type": "markdown",
   "metadata": {},
   "source": [
    "# Masking Filters\n",
    "\n",
    "Masks can be also be applied to methods that return filters like top, bottom, and percentile_between.\n",
    "\n",
    "Masks are most useful when we want to apply a filter in the earlier steps of a combined computation. For example, suppose we want to get the 50 securities with the highest open price that are also in the top 10% of dollar volume. Suppose that we then want the 90th-100th percentile of these securities by close price. We can do this with the following:\n"
   ]
  },
  {
   "cell_type": "code",
   "execution_count": null,
   "metadata": {},
   "outputs": [],
   "source": [
    "def make_pipeline():\n",
    "\n",
    "    # Dollar volume factor\n",
    "    dollar_volume = AverageDollarVolume(window_length=30)\n",
    "\n",
    "    # High dollar volume filter\n",
    "    high_dollar_volume = dollar_volume.percentile_between(90,100)\n",
    "    \n",
    "    # ONLY GET TOP 50 PRICES FOR HIGH DOLLAR VOLUME SECS\n",
    "    # Top open securities filter (high dollar volume securities)\n",
    "    top_open_price = USEquityPricing.open.latest.top(50, mask=high_dollar_volume)\n",
    "    \n",
    "    # ONLY GET TOP PERCENTILES FOR THE TOP_OPEN_PRICE (TAKES TOP 50 OF HIGH DOLLAR VOLUMES)\n",
    "    # Top percentile close price filter (high dollar volume, top 50 open price)\n",
    "    high_close_price = USEquityPricing.close.latest.percentile_between(90, 100, mask=top_open_price)\n",
    "    \n",
    "    \n",
    "    # THINK OF THIS SORT OF MASKING AS ASSET FUNNELING\n",
    "    return Pipeline(\n",
    "        screen=high_close_price\n",
    "    )"
   ]
  },
  {
   "cell_type": "code",
   "execution_count": null,
   "metadata": {},
   "outputs": [],
   "source": [
    "result = run_pipeline(make_pipeline(), '2015-05-05', '2015-05-05')\n",
    "result"
   ]
  },
  {
   "cell_type": "markdown",
   "metadata": {},
   "source": [
    "# CLASSIFIERS - SKIPPED AS I DON'T THINK WE NEED IT\n",
    "\n",
    "# DATASETS AND STATIC TYPING IN THIS PLATFORM\n",
    "\n",
    "Please read this one is super important <<<<<<<<<<<<<<<<<<<<<<<<<<<<<<<<<\n",
    "https://www.quantopian.com/tutorials/pipeline#lesson9\n",
    "\n",
    "# CUSTOM FACTORS\n",
    "\n",
    "https://www.quantopian.com/tutorials/pipeline#lesson10\n",
    "\n",
    "Conceptually, a custom factor is identical to a built-in factor. It accepts inputs, window_length, and mask as constructor arguments, and returns a Factor object each day.\n",
    "\n",
    "def compute(self, today, asset_ids, out, *inputs)\n",
    "\n",
    "1. *inputs are M x N numpy arrays, where M is the window_length and N is the number of securities (usually around ~8000 unless a mask is provided). *inputs are trailing data windows. Note that there will be one M x N array for each BoundColumn provided in the factor's inputs list. The data type of each array will be the dtype of the corresponding BoundColumn.\n",
    "1. out is an empty array of length N. out will be the output of our custom factor each day. The job of compute is to write output values into out.\n",
    "1. asset_ids will be an integer array of length N containing security ids corresponding to the columns in our *inputs arrays.\n",
    "1. today will be a pandas Timestamp representing the day for which compute is being called."
   ]
  },
  {
   "cell_type": "code",
   "execution_count": 6,
   "metadata": {},
   "outputs": [],
   "source": [
    "from quantopian.pipeline import CustomFactor, Pipeline\n",
    "from quantopian.pipeline.data.builtin import USEquityPricing\n",
    "from quantopian.pipeline import Pipeline\n",
    "from quantopian.research import run_pipeline\n",
    "import numpy\n",
    "\n",
    "# we can create a std deviation factor (over a trailing window) \n",
    "# as it does not exist as a built-in\n",
    "\n",
    "\n",
    "class StdDev(CustomFactor):\n",
    "    \n",
    "    def compute(self, today, asset_ids, out, values):\n",
    "        \n",
    "        # Calculates the column-wise standard deviation, ignoring NaNs\n",
    "        out[:] = numpy.nanstd(values, axis=0)"
   ]
  },
  {
   "cell_type": "markdown",
   "metadata": {},
   "source": [
    "https://numpy.org/doc/stable/reference/generated/numpy.nanstd.html"
   ]
  },
  {
   "cell_type": "code",
   "execution_count": 12,
   "metadata": {},
   "outputs": [],
   "source": [
    "def make_pipeline():\n",
    "    \n",
    "    std_dev = StdDev(\n",
    "        inputs = [USEquityPricing.close],\n",
    "        window_length = 5\n",
    "    )\n",
    "    \n",
    "    pipe = Pipeline(\n",
    "        columns = {\n",
    "            'std_dev': std_dev,\n",
    "        }\n",
    "    )\n",
    "    \n",
    "    return pipe\n",
    "    \n",
    "    "
   ]
  },
  {
   "cell_type": "code",
   "execution_count": 15,
   "metadata": {},
   "outputs": [
    {
     "data": {
      "application/vnd.jupyter.widget-view+json": {
       "model_id": "",
       "version_major": 2,
       "version_minor": 0
      },
      "text/plain": []
     },
     "metadata": {},
     "output_type": "display_data"
    },
    {
     "data": {
      "text/html": [
       "<b>Pipeline Execution Time:</b> 0.24 Seconds"
      ],
      "text/plain": [
       "<IPython.core.display.HTML object>"
      ]
     },
     "metadata": {},
     "output_type": "display_data"
    },
    {
     "data": {
      "text/html": [
       "<div>\n",
       "<table border=\"1\" class=\"dataframe\">\n",
       "  <thead>\n",
       "    <tr style=\"text-align: right;\">\n",
       "      <th></th>\n",
       "      <th></th>\n",
       "      <th>std_dev</th>\n",
       "    </tr>\n",
       "  </thead>\n",
       "  <tbody>\n",
       "    <tr>\n",
       "      <th rowspan=\"5\" valign=\"top\">2015-05-05 00:00:00+00:00</th>\n",
       "      <th>Equity(2 [HWM])</th>\n",
       "      <td>0.293428</td>\n",
       "    </tr>\n",
       "    <tr>\n",
       "      <th>Equity(21 [AAME])</th>\n",
       "      <td>0.004714</td>\n",
       "    </tr>\n",
       "    <tr>\n",
       "      <th>Equity(24 [AAPL])</th>\n",
       "      <td>1.737677</td>\n",
       "    </tr>\n",
       "    <tr>\n",
       "      <th>Equity(25 [HWM_PR])</th>\n",
       "      <td>0.275000</td>\n",
       "    </tr>\n",
       "    <tr>\n",
       "      <th>Equity(31 [ABAX])</th>\n",
       "      <td>4.402971</td>\n",
       "    </tr>\n",
       "  </tbody>\n",
       "</table>\n",
       "</div>"
      ],
      "text/plain": [
       "                                                std_dev\n",
       "2015-05-05 00:00:00+00:00 Equity(2 [HWM])      0.293428\n",
       "                          Equity(21 [AAME])    0.004714\n",
       "                          Equity(24 [AAPL])    1.737677\n",
       "                          Equity(25 [HWM_PR])  0.275000\n",
       "                          Equity(31 [ABAX])    4.402971"
      ]
     },
     "execution_count": 15,
     "metadata": {},
     "output_type": "execute_result"
    }
   ],
   "source": [
    "result = run_pipeline(make_pipeline(), '2015-05-05', '2015-05-05')\n",
    "result.head()"
   ]
  },
  {
   "cell_type": "code",
   "execution_count": 16,
   "metadata": {},
   "outputs": [
    {
     "data": {
      "text/plain": [
       "array([[2, 3],\n",
       "       [3, 4]])"
      ]
     },
     "execution_count": 16,
     "metadata": {},
     "output_type": "execute_result"
    }
   ],
   "source": [
    "from scipy import stats\n",
    "import numpy as np\n",
    "\n",
    "def add_one(x):\n",
    "    x[0] = x[0] + 1\n",
    "    return x\n",
    "\n",
    "# how does this even work, what is axis???\n",
    "x = np.array([[1,2],[3,4]])\n",
    "x = np.apply_along_axis(add_one, axis = 0, arr=x)\n",
    "x\n",
    "\n"
   ]
  },
  {
   "cell_type": "code",
   "execution_count": 17,
   "metadata": {},
   "outputs": [
    {
     "data": {
      "text/plain": [
       "(-1.0, 5.0, -1.0, 9.9999999999999979e-21, 0.0)"
      ]
     },
     "execution_count": 17,
     "metadata": {},
     "output_type": "execute_result"
    }
   ],
   "source": [
    "x = np.array([1,2,3,4])\n",
    "y = np.array([4,3,2,1])\n",
    "slope, intercept, r_value, p_value, std_err = stats.linregress(x,y)\n",
    "slope, intercept, r_value, p_value, std_err"
   ]
  },
  {
   "cell_type": "markdown",
   "metadata": {},
   "source": [
    "# Trying to first implement a standard regression myself, to see if the logic is right\n",
    "\n",
    "- One available source here as rollinglinearRegOfReturns implementation\n",
    "    - https://www.quantopian.com/posts/building-a-better-beta\n",
    "\n",
    "- so here we potentially need to use 30 day returns instead of the daily returns since our algo is monthly\n",
    "- "
   ]
  },
  {
   "cell_type": "markdown",
   "metadata": {},
   "source": [
    "# ROLLING REGRESSION OF RETURNS"
   ]
  },
  {
   "cell_type": "code",
   "execution_count": 11,
   "metadata": {},
   "outputs": [],
   "source": [
    "from quantopian.pipeline import Pipeline\n",
    "from quantopian.research import run_pipeline\n",
    "from quantopian.pipeline import CustomFactor\n",
    "from quantopian.pipeline.factors import DailyReturns, Returns, SimpleBeta, AverageDollarVolume, SimpleMovingAverage\n",
    "import numpy as np\n",
    "from scipy import stats\n",
    "\n",
    "\n",
    "# here we need to find a way to regress this NOT on SPY inputs,\n",
    "# but instead if we can transform the INPUTS variable to the \n",
    "# same structure as it is now, but instead of returns from SPY it is our portfolio\n",
    "# our portoflio can be stored in the context object!!!!\n",
    "\n",
    "class MyRollingLinearRegressionOfReturns(CustomFactor):\n",
    "    outputs = ['alpha', 'beta', 'r_value', 'p_value', 'stderr', 'alpha2']\n",
    "#     inputs = [DailyReturns(), DailyReturns()[symbols('SPY')]]\n",
    "    inputs = [DailyReturns(), DailyReturns()[symbols('SPY')]]\n",
    "\n",
    "    # list of inputs (*inputs) -> First is dependent, second is independent\n",
    "    \n",
    "    # Regression y = beta*x + a\n",
    "    \n",
    "    def compute(self, today, assets, out, dependent, independent):\n",
    "        # think of these as the attributes of the factor computation object\n",
    "        # each one of these can be called upon in a different column\n",
    "        alpha = out.alpha\n",
    "#         alpha2 = out.alpha #test\n",
    "        beta = out.beta\n",
    "        r_value = out.r_value\n",
    "        p_value = out.p_value\n",
    "        stderr = out.stderr\n",
    "#         print(alpha)\n",
    "#         print(dependent)\n",
    "#         print(independent)\n",
    "        \n",
    "        # i in here is from the for loop below\n",
    "        def regress(y, x):\n",
    "            regr_results = stats.linregress(y=y, x=x)\n",
    "            alpha[i] = regr_results.intercept\n",
    "            beta[i] = regr_results.slope\n",
    "            r_value[i] = regr_results.rvalue\n",
    "            p_value[i] = abs(regr_results.pvalue)\n",
    "            stderr[i] = regr_results.stderr\n",
    "\n",
    "        for i in range(len(out)):\n",
    "            y=dependent[:, i].ravel()\n",
    "            x=independent.ravel()\n",
    "            regress(y, x)\n",
    "#             print(y, x)\n",
    "            \n",
    "#     [A B C D E] EQUAL\n",
    "#     [0 0 0 0.5 -0.5]\n",
    "    \n",
    "            \n",
    "def make_pipeline():\n",
    "    \n",
    "#    initial_portfolio = [30-day SPY return]  <- in initialise or somehting\n",
    "#    new_array = initial_portfolio\n",
    "#    new_array = new_array.append(ourPortfolio.return)\n",
    "#    new_array.pop()\n",
    "\n",
    "    regression = MyRollingLinearRegressionOfReturns(\n",
    "        window_length = 10\n",
    "    )\n",
    "    \n",
    "    significant_bad_alpha = regression.p_value < 0.05\n",
    "    \n",
    "    \n",
    "    daily_returns = DailyReturns(window_length = 5)\n",
    "    \n",
    "    top_alphas = regression.alpha.top(1000)\n",
    "    last_alphas = regression.alpha.bottom(1000)\n",
    "    \n",
    "    pipe = Pipeline(\n",
    "        columns = {\n",
    "            'beta': regression.beta,\n",
    "            'alpha': regression.alpha*100,\n",
    "            'daily_returns': daily_returns,\n",
    "            'p-val': regression.p_value\n",
    "#             'alpha2': regression.alpha2, #test\n",
    "#             'daily_returns': DailyReturns()\n",
    "        },\n",
    "        screen = (top_alphas | last_alphas) & significant_bad_alpha\n",
    "    )\n",
    "#    in rebalance (called at end of month)\n",
    "#     \n",
    "    \n",
    "    return pipe"
   ]
  },
  {
   "cell_type": "code",
   "execution_count": 12,
   "metadata": {},
   "outputs": [
    {
     "data": {
      "application/vnd.jupyter.widget-view+json": {
       "model_id": "",
       "version_major": 2,
       "version_minor": 0
      },
      "text/plain": []
     },
     "metadata": {},
     "output_type": "display_data"
    },
    {
     "data": {
      "text/html": [
       "<b>Pipeline Execution Time:</b> 8.26 Seconds"
      ],
      "text/plain": [
       "<IPython.core.display.HTML object>"
      ]
     },
     "metadata": {},
     "output_type": "display_data"
    },
    {
     "data": {
      "text/html": [
       "<div>\n",
       "<table border=\"1\" class=\"dataframe\">\n",
       "  <thead>\n",
       "    <tr style=\"text-align: right;\">\n",
       "      <th></th>\n",
       "      <th></th>\n",
       "      <th>alpha</th>\n",
       "      <th>beta</th>\n",
       "      <th>daily_returns</th>\n",
       "      <th>p-val</th>\n",
       "    </tr>\n",
       "  </thead>\n",
       "  <tbody>\n",
       "    <tr>\n",
       "      <th rowspan=\"61\" valign=\"top\">2015-05-05 00:00:00+00:00</th>\n",
       "      <th>Equity(41 [ARCB])</th>\n",
       "      <td>-0.792533</td>\n",
       "      <td>3.141711</td>\n",
       "      <td>-0.042909</td>\n",
       "      <td>0.000099</td>\n",
       "    </tr>\n",
       "    <tr>\n",
       "      <th>Equity(53 [ABMD])</th>\n",
       "      <td>-0.794345</td>\n",
       "      <td>2.626321</td>\n",
       "      <td>-0.026308</td>\n",
       "      <td>0.015471</td>\n",
       "    </tr>\n",
       "    <tr>\n",
       "      <th>Equity(67 [ADSK])</th>\n",
       "      <td>-0.756424</td>\n",
       "      <td>3.062459</td>\n",
       "      <td>-0.047650</td>\n",
       "      <td>0.000848</td>\n",
       "    </tr>\n",
       "    <tr>\n",
       "      <th>Equity(110 [RAMP])</th>\n",
       "      <td>-0.799114</td>\n",
       "      <td>1.885867</td>\n",
       "      <td>-0.062922</td>\n",
       "      <td>0.022589</td>\n",
       "    </tr>\n",
       "    <tr>\n",
       "      <th>Equity(153 [AE])</th>\n",
       "      <td>-2.914037</td>\n",
       "      <td>4.517824</td>\n",
       "      <td>-0.146851</td>\n",
       "      <td>0.025596</td>\n",
       "    </tr>\n",
       "    <tr>\n",
       "      <th>Equity(273 [ALU])</th>\n",
       "      <td>-1.587838</td>\n",
       "      <td>4.374247</td>\n",
       "      <td>-0.145019</td>\n",
       "      <td>0.046459</td>\n",
       "    </tr>\n",
       "    <tr>\n",
       "      <th>Equity(301 [ALKS])</th>\n",
       "      <td>-0.914211</td>\n",
       "      <td>3.979062</td>\n",
       "      <td>0.008225</td>\n",
       "      <td>0.045171</td>\n",
       "    </tr>\n",
       "    <tr>\n",
       "      <th>Equity(557 [ASGN])</th>\n",
       "      <td>-1.674617</td>\n",
       "      <td>4.948768</td>\n",
       "      <td>-0.129548</td>\n",
       "      <td>0.006470</td>\n",
       "    </tr>\n",
       "    <tr>\n",
       "      <th>Equity(617 [ATRO])</th>\n",
       "      <td>-0.811192</td>\n",
       "      <td>2.875352</td>\n",
       "      <td>-0.046770</td>\n",
       "      <td>0.015947</td>\n",
       "    </tr>\n",
       "    <tr>\n",
       "      <th>Equity(624 [ATW])</th>\n",
       "      <td>1.315270</td>\n",
       "      <td>-4.368670</td>\n",
       "      <td>0.132476</td>\n",
       "      <td>0.029398</td>\n",
       "    </tr>\n",
       "    <tr>\n",
       "      <th>Equity(659 [AMAG])</th>\n",
       "      <td>-0.963465</td>\n",
       "      <td>4.827623</td>\n",
       "      <td>-0.005537</td>\n",
       "      <td>0.021044</td>\n",
       "    </tr>\n",
       "    <tr>\n",
       "      <th>Equity(915 [BKE])</th>\n",
       "      <td>-0.686680</td>\n",
       "      <td>1.507066</td>\n",
       "      <td>-0.031892</td>\n",
       "      <td>0.040402</td>\n",
       "    </tr>\n",
       "    <tr>\n",
       "      <th>Equity(935 [CNR])</th>\n",
       "      <td>-0.908398</td>\n",
       "      <td>1.814443</td>\n",
       "      <td>-0.045449</td>\n",
       "      <td>0.012705</td>\n",
       "    </tr>\n",
       "    <tr>\n",
       "      <th>Equity(1062 [BPOP])</th>\n",
       "      <td>-0.793454</td>\n",
       "      <td>1.505505</td>\n",
       "      <td>-0.020871</td>\n",
       "      <td>0.045957</td>\n",
       "    </tr>\n",
       "    <tr>\n",
       "      <th>Equity(1216 [CACC])</th>\n",
       "      <td>1.707754</td>\n",
       "      <td>-3.688789</td>\n",
       "      <td>0.062180</td>\n",
       "      <td>0.021908</td>\n",
       "    </tr>\n",
       "    <tr>\n",
       "      <th>Equity(1315 [CBT])</th>\n",
       "      <td>-0.771691</td>\n",
       "      <td>3.653377</td>\n",
       "      <td>-0.054797</td>\n",
       "      <td>0.000450</td>\n",
       "    </tr>\n",
       "    <tr>\n",
       "      <th>Equity(1376 [CAH])</th>\n",
       "      <td>-0.725611</td>\n",
       "      <td>3.166115</td>\n",
       "      <td>-0.053609</td>\n",
       "      <td>0.000179</td>\n",
       "    </tr>\n",
       "    <tr>\n",
       "      <th>Equity(1460 [CGNX])</th>\n",
       "      <td>-0.833561</td>\n",
       "      <td>2.809091</td>\n",
       "      <td>-0.017144</td>\n",
       "      <td>0.042611</td>\n",
       "    </tr>\n",
       "    <tr>\n",
       "      <th>Equity(1675 [CMTL])</th>\n",
       "      <td>-0.712256</td>\n",
       "      <td>2.790629</td>\n",
       "      <td>-0.050357</td>\n",
       "      <td>0.000150</td>\n",
       "    </tr>\n",
       "    <tr>\n",
       "      <th>Equity(1751 [COHR])</th>\n",
       "      <td>-1.268622</td>\n",
       "      <td>2.534397</td>\n",
       "      <td>-0.077407</td>\n",
       "      <td>0.012082</td>\n",
       "    </tr>\n",
       "    <tr>\n",
       "      <th>Equity(1884 [CRVL])</th>\n",
       "      <td>-0.799225</td>\n",
       "      <td>2.254897</td>\n",
       "      <td>-0.078579</td>\n",
       "      <td>0.035887</td>\n",
       "    </tr>\n",
       "    <tr>\n",
       "      <th>Equity(1923 [CSPI])</th>\n",
       "      <td>0.467866</td>\n",
       "      <td>-4.843077</td>\n",
       "      <td>0.009463</td>\n",
       "      <td>0.030864</td>\n",
       "    </tr>\n",
       "    <tr>\n",
       "      <th>Equity(2404 [EAT])</th>\n",
       "      <td>-0.724543</td>\n",
       "      <td>1.947276</td>\n",
       "      <td>-0.028986</td>\n",
       "      <td>0.021298</td>\n",
       "    </tr>\n",
       "    <tr>\n",
       "      <th>Equity(3129 [BGC])</th>\n",
       "      <td>-0.823288</td>\n",
       "      <td>3.048474</td>\n",
       "      <td>-0.045402</td>\n",
       "      <td>0.005941</td>\n",
       "    </tr>\n",
       "    <tr>\n",
       "      <th>Equity(3150 [INO])</th>\n",
       "      <td>-2.319181</td>\n",
       "      <td>7.209186</td>\n",
       "      <td>-0.128733</td>\n",
       "      <td>0.024335</td>\n",
       "    </tr>\n",
       "    <tr>\n",
       "      <th>Equity(3203 [GIB])</th>\n",
       "      <td>-0.721539</td>\n",
       "      <td>1.972919</td>\n",
       "      <td>-0.046647</td>\n",
       "      <td>0.011665</td>\n",
       "    </tr>\n",
       "    <tr>\n",
       "      <th>Equity(3241 [GLW])</th>\n",
       "      <td>-0.699589</td>\n",
       "      <td>2.007987</td>\n",
       "      <td>-0.029878</td>\n",
       "      <td>0.027327</td>\n",
       "    </tr>\n",
       "    <tr>\n",
       "      <th>Equity(3490 [PEAK])</th>\n",
       "      <td>-0.722535</td>\n",
       "      <td>1.469227</td>\n",
       "      <td>-0.039415</td>\n",
       "      <td>0.028819</td>\n",
       "    </tr>\n",
       "    <tr>\n",
       "      <th>Equity(3519 [HEI])</th>\n",
       "      <td>-0.726514</td>\n",
       "      <td>1.756665</td>\n",
       "      <td>-0.042928</td>\n",
       "      <td>0.003375</td>\n",
       "    </tr>\n",
       "    <tr>\n",
       "      <th>Equity(3801 [IDCC])</th>\n",
       "      <td>0.791826</td>\n",
       "      <td>1.288360</td>\n",
       "      <td>0.028148</td>\n",
       "      <td>0.006007</td>\n",
       "    </tr>\n",
       "    <tr>\n",
       "      <th>...</th>\n",
       "      <td>...</td>\n",
       "      <td>...</td>\n",
       "      <td>...</td>\n",
       "      <td>...</td>\n",
       "    </tr>\n",
       "    <tr>\n",
       "      <th>Equity(46583 [AKBA])</th>\n",
       "      <td>-0.929786</td>\n",
       "      <td>3.834490</td>\n",
       "      <td>-0.036452</td>\n",
       "      <td>0.017645</td>\n",
       "    </tr>\n",
       "    <tr>\n",
       "      <th>Equity(46610 [KING])</th>\n",
       "      <td>-1.085871</td>\n",
       "      <td>1.483997</td>\n",
       "      <td>-0.062724</td>\n",
       "      <td>0.016449</td>\n",
       "    </tr>\n",
       "    <tr>\n",
       "      <th>Equity(46721 [LQ])</th>\n",
       "      <td>0.431598</td>\n",
       "      <td>0.886904</td>\n",
       "      <td>0.007036</td>\n",
       "      <td>0.028599</td>\n",
       "    </tr>\n",
       "    <tr>\n",
       "      <th>Equity(46778 [IMUX])</th>\n",
       "      <td>-1.391591</td>\n",
       "      <td>5.399063</td>\n",
       "      <td>-0.120490</td>\n",
       "      <td>0.012316</td>\n",
       "    </tr>\n",
       "    <tr>\n",
       "      <th>Equity(46910 [SFBS])</th>\n",
       "      <td>0.511895</td>\n",
       "      <td>1.386152</td>\n",
       "      <td>0.035664</td>\n",
       "      <td>0.027127</td>\n",
       "    </tr>\n",
       "    <tr>\n",
       "      <th>Equity(46932 [TBPH])</th>\n",
       "      <td>-1.363878</td>\n",
       "      <td>4.707544</td>\n",
       "      <td>-0.058137</td>\n",
       "      <td>0.000185</td>\n",
       "    </tr>\n",
       "    <tr>\n",
       "      <th>Equity(46951 [CTRE])</th>\n",
       "      <td>-0.791025</td>\n",
       "      <td>2.218895</td>\n",
       "      <td>-0.054937</td>\n",
       "      <td>0.026774</td>\n",
       "    </tr>\n",
       "    <tr>\n",
       "      <th>Equity(47146 [ARDX])</th>\n",
       "      <td>-1.778964</td>\n",
       "      <td>4.664228</td>\n",
       "      <td>-0.052677</td>\n",
       "      <td>0.002473</td>\n",
       "    </tr>\n",
       "    <tr>\n",
       "      <th>Equity(47169 [KITE])</th>\n",
       "      <td>-1.086346</td>\n",
       "      <td>5.622027</td>\n",
       "      <td>-0.014887</td>\n",
       "      <td>0.038440</td>\n",
       "    </tr>\n",
       "    <tr>\n",
       "      <th>Equity(47227 [GBIM])</th>\n",
       "      <td>-1.245617</td>\n",
       "      <td>6.329030</td>\n",
       "      <td>-0.050000</td>\n",
       "      <td>0.005459</td>\n",
       "    </tr>\n",
       "    <tr>\n",
       "      <th>Equity(47322 [ROKA])</th>\n",
       "      <td>-0.733783</td>\n",
       "      <td>3.514119</td>\n",
       "      <td>0.006623</td>\n",
       "      <td>0.015701</td>\n",
       "    </tr>\n",
       "    <tr>\n",
       "      <th>Equity(47333 [TUBE])</th>\n",
       "      <td>-0.749377</td>\n",
       "      <td>2.049706</td>\n",
       "      <td>-0.039037</td>\n",
       "      <td>0.049356</td>\n",
       "    </tr>\n",
       "    <tr>\n",
       "      <th>Equity(47351 [NAME])</th>\n",
       "      <td>-1.222216</td>\n",
       "      <td>6.319095</td>\n",
       "      <td>-0.031215</td>\n",
       "      <td>0.005932</td>\n",
       "    </tr>\n",
       "    <tr>\n",
       "      <th>Equity(47383 [OCUL])</th>\n",
       "      <td>-1.963230</td>\n",
       "      <td>3.582296</td>\n",
       "      <td>-0.080265</td>\n",
       "      <td>0.016345</td>\n",
       "    </tr>\n",
       "    <tr>\n",
       "      <th>Equity(47414 [CTLT])</th>\n",
       "      <td>-0.679335</td>\n",
       "      <td>2.198570</td>\n",
       "      <td>-0.013436</td>\n",
       "      <td>0.003006</td>\n",
       "    </tr>\n",
       "    <tr>\n",
       "      <th>Equity(47422 [ADVM])</th>\n",
       "      <td>-2.756901</td>\n",
       "      <td>5.359788</td>\n",
       "      <td>-0.149697</td>\n",
       "      <td>0.008205</td>\n",
       "    </tr>\n",
       "    <tr>\n",
       "      <th>Equity(47432 [LOXO])</th>\n",
       "      <td>-1.269875</td>\n",
       "      <td>4.103429</td>\n",
       "      <td>-0.088509</td>\n",
       "      <td>0.010696</td>\n",
       "    </tr>\n",
       "    <tr>\n",
       "      <th>Equity(47465 [HMLP])</th>\n",
       "      <td>0.465181</td>\n",
       "      <td>2.191033</td>\n",
       "      <td>0.008601</td>\n",
       "      <td>0.019754</td>\n",
       "    </tr>\n",
       "    <tr>\n",
       "      <th>Equity(47476 [GNBC])</th>\n",
       "      <td>1.274126</td>\n",
       "      <td>4.778150</td>\n",
       "      <td>0.093281</td>\n",
       "      <td>0.036628</td>\n",
       "    </tr>\n",
       "    <tr>\n",
       "      <th>Equity(47826 [BTX_WS])</th>\n",
       "      <td>1.079866</td>\n",
       "      <td>7.464049</td>\n",
       "      <td>-0.016260</td>\n",
       "      <td>0.038508</td>\n",
       "    </tr>\n",
       "    <tr>\n",
       "      <th>Equity(48025 [NVRO])</th>\n",
       "      <td>-1.560076</td>\n",
       "      <td>5.416558</td>\n",
       "      <td>-0.058062</td>\n",
       "      <td>0.003100</td>\n",
       "    </tr>\n",
       "    <tr>\n",
       "      <th>Equity(48126 [HABT])</th>\n",
       "      <td>1.776284</td>\n",
       "      <td>5.200374</td>\n",
       "      <td>0.128278</td>\n",
       "      <td>0.036666</td>\n",
       "    </tr>\n",
       "    <tr>\n",
       "      <th>Equity(48139 [CPHR])</th>\n",
       "      <td>-0.858368</td>\n",
       "      <td>5.087843</td>\n",
       "      <td>-0.022678</td>\n",
       "      <td>0.004461</td>\n",
       "    </tr>\n",
       "    <tr>\n",
       "      <th>Equity(48215 [QSR])</th>\n",
       "      <td>0.802513</td>\n",
       "      <td>3.222475</td>\n",
       "      <td>-0.006363</td>\n",
       "      <td>0.023286</td>\n",
       "    </tr>\n",
       "    <tr>\n",
       "      <th>Equity(48252 [AVOL])</th>\n",
       "      <td>0.414745</td>\n",
       "      <td>1.415151</td>\n",
       "      <td>0.002660</td>\n",
       "      <td>0.004733</td>\n",
       "    </tr>\n",
       "    <tr>\n",
       "      <th>Equity(48293 [BBP])</th>\n",
       "      <td>-0.861293</td>\n",
       "      <td>3.130177</td>\n",
       "      <td>-0.004043</td>\n",
       "      <td>0.013527</td>\n",
       "    </tr>\n",
       "    <tr>\n",
       "      <th>Equity(48294 [BBC])</th>\n",
       "      <td>-1.075250</td>\n",
       "      <td>4.262130</td>\n",
       "      <td>-0.006573</td>\n",
       "      <td>0.009271</td>\n",
       "    </tr>\n",
       "    <tr>\n",
       "      <th>Equity(48317 [JUNO])</th>\n",
       "      <td>-2.444619</td>\n",
       "      <td>5.793058</td>\n",
       "      <td>-0.047397</td>\n",
       "      <td>0.031743</td>\n",
       "    </tr>\n",
       "    <tr>\n",
       "      <th>Equity(48376 [SBIO])</th>\n",
       "      <td>-1.160725</td>\n",
       "      <td>4.061652</td>\n",
       "      <td>-0.015756</td>\n",
       "      <td>0.009657</td>\n",
       "    </tr>\n",
       "    <tr>\n",
       "      <th>Equity(48823 [SEDG])</th>\n",
       "      <td>1.201823</td>\n",
       "      <td>5.036577</td>\n",
       "      <td>0.077560</td>\n",
       "      <td>0.021321</td>\n",
       "    </tr>\n",
       "  </tbody>\n",
       "</table>\n",
       "<p>344 rows × 4 columns</p>\n",
       "</div>"
      ],
      "text/plain": [
       "                                                     alpha      beta  \\\n",
       "2015-05-05 00:00:00+00:00 Equity(41 [ARCB])      -0.792533  3.141711   \n",
       "                          Equity(53 [ABMD])      -0.794345  2.626321   \n",
       "                          Equity(67 [ADSK])      -0.756424  3.062459   \n",
       "                          Equity(110 [RAMP])     -0.799114  1.885867   \n",
       "                          Equity(153 [AE])       -2.914037  4.517824   \n",
       "                          Equity(273 [ALU])      -1.587838  4.374247   \n",
       "                          Equity(301 [ALKS])     -0.914211  3.979062   \n",
       "                          Equity(557 [ASGN])     -1.674617  4.948768   \n",
       "                          Equity(617 [ATRO])     -0.811192  2.875352   \n",
       "                          Equity(624 [ATW])       1.315270 -4.368670   \n",
       "                          Equity(659 [AMAG])     -0.963465  4.827623   \n",
       "                          Equity(915 [BKE])      -0.686680  1.507066   \n",
       "                          Equity(935 [CNR])      -0.908398  1.814443   \n",
       "                          Equity(1062 [BPOP])    -0.793454  1.505505   \n",
       "                          Equity(1216 [CACC])     1.707754 -3.688789   \n",
       "                          Equity(1315 [CBT])     -0.771691  3.653377   \n",
       "                          Equity(1376 [CAH])     -0.725611  3.166115   \n",
       "                          Equity(1460 [CGNX])    -0.833561  2.809091   \n",
       "                          Equity(1675 [CMTL])    -0.712256  2.790629   \n",
       "                          Equity(1751 [COHR])    -1.268622  2.534397   \n",
       "                          Equity(1884 [CRVL])    -0.799225  2.254897   \n",
       "                          Equity(1923 [CSPI])     0.467866 -4.843077   \n",
       "                          Equity(2404 [EAT])     -0.724543  1.947276   \n",
       "                          Equity(3129 [BGC])     -0.823288  3.048474   \n",
       "                          Equity(3150 [INO])     -2.319181  7.209186   \n",
       "                          Equity(3203 [GIB])     -0.721539  1.972919   \n",
       "                          Equity(3241 [GLW])     -0.699589  2.007987   \n",
       "                          Equity(3490 [PEAK])    -0.722535  1.469227   \n",
       "                          Equity(3519 [HEI])     -0.726514  1.756665   \n",
       "                          Equity(3801 [IDCC])     0.791826  1.288360   \n",
       "...                                                    ...       ...   \n",
       "                          Equity(46583 [AKBA])   -0.929786  3.834490   \n",
       "                          Equity(46610 [KING])   -1.085871  1.483997   \n",
       "                          Equity(46721 [LQ])      0.431598  0.886904   \n",
       "                          Equity(46778 [IMUX])   -1.391591  5.399063   \n",
       "                          Equity(46910 [SFBS])    0.511895  1.386152   \n",
       "                          Equity(46932 [TBPH])   -1.363878  4.707544   \n",
       "                          Equity(46951 [CTRE])   -0.791025  2.218895   \n",
       "                          Equity(47146 [ARDX])   -1.778964  4.664228   \n",
       "                          Equity(47169 [KITE])   -1.086346  5.622027   \n",
       "                          Equity(47227 [GBIM])   -1.245617  6.329030   \n",
       "                          Equity(47322 [ROKA])   -0.733783  3.514119   \n",
       "                          Equity(47333 [TUBE])   -0.749377  2.049706   \n",
       "                          Equity(47351 [NAME])   -1.222216  6.319095   \n",
       "                          Equity(47383 [OCUL])   -1.963230  3.582296   \n",
       "                          Equity(47414 [CTLT])   -0.679335  2.198570   \n",
       "                          Equity(47422 [ADVM])   -2.756901  5.359788   \n",
       "                          Equity(47432 [LOXO])   -1.269875  4.103429   \n",
       "                          Equity(47465 [HMLP])    0.465181  2.191033   \n",
       "                          Equity(47476 [GNBC])    1.274126  4.778150   \n",
       "                          Equity(47826 [BTX_WS])  1.079866  7.464049   \n",
       "                          Equity(48025 [NVRO])   -1.560076  5.416558   \n",
       "                          Equity(48126 [HABT])    1.776284  5.200374   \n",
       "                          Equity(48139 [CPHR])   -0.858368  5.087843   \n",
       "                          Equity(48215 [QSR])     0.802513  3.222475   \n",
       "                          Equity(48252 [AVOL])    0.414745  1.415151   \n",
       "                          Equity(48293 [BBP])    -0.861293  3.130177   \n",
       "                          Equity(48294 [BBC])    -1.075250  4.262130   \n",
       "                          Equity(48317 [JUNO])   -2.444619  5.793058   \n",
       "                          Equity(48376 [SBIO])   -1.160725  4.061652   \n",
       "                          Equity(48823 [SEDG])    1.201823  5.036577   \n",
       "\n",
       "                                                  daily_returns     p-val  \n",
       "2015-05-05 00:00:00+00:00 Equity(41 [ARCB])           -0.042909  0.000099  \n",
       "                          Equity(53 [ABMD])           -0.026308  0.015471  \n",
       "                          Equity(67 [ADSK])           -0.047650  0.000848  \n",
       "                          Equity(110 [RAMP])          -0.062922  0.022589  \n",
       "                          Equity(153 [AE])            -0.146851  0.025596  \n",
       "                          Equity(273 [ALU])           -0.145019  0.046459  \n",
       "                          Equity(301 [ALKS])           0.008225  0.045171  \n",
       "                          Equity(557 [ASGN])          -0.129548  0.006470  \n",
       "                          Equity(617 [ATRO])          -0.046770  0.015947  \n",
       "                          Equity(624 [ATW])            0.132476  0.029398  \n",
       "                          Equity(659 [AMAG])          -0.005537  0.021044  \n",
       "                          Equity(915 [BKE])           -0.031892  0.040402  \n",
       "                          Equity(935 [CNR])           -0.045449  0.012705  \n",
       "                          Equity(1062 [BPOP])         -0.020871  0.045957  \n",
       "                          Equity(1216 [CACC])          0.062180  0.021908  \n",
       "                          Equity(1315 [CBT])          -0.054797  0.000450  \n",
       "                          Equity(1376 [CAH])          -0.053609  0.000179  \n",
       "                          Equity(1460 [CGNX])         -0.017144  0.042611  \n",
       "                          Equity(1675 [CMTL])         -0.050357  0.000150  \n",
       "                          Equity(1751 [COHR])         -0.077407  0.012082  \n",
       "                          Equity(1884 [CRVL])         -0.078579  0.035887  \n",
       "                          Equity(1923 [CSPI])          0.009463  0.030864  \n",
       "                          Equity(2404 [EAT])          -0.028986  0.021298  \n",
       "                          Equity(3129 [BGC])          -0.045402  0.005941  \n",
       "                          Equity(3150 [INO])          -0.128733  0.024335  \n",
       "                          Equity(3203 [GIB])          -0.046647  0.011665  \n",
       "                          Equity(3241 [GLW])          -0.029878  0.027327  \n",
       "                          Equity(3490 [PEAK])         -0.039415  0.028819  \n",
       "                          Equity(3519 [HEI])          -0.042928  0.003375  \n",
       "                          Equity(3801 [IDCC])          0.028148  0.006007  \n",
       "...                                                         ...       ...  \n",
       "                          Equity(46583 [AKBA])        -0.036452  0.017645  \n",
       "                          Equity(46610 [KING])        -0.062724  0.016449  \n",
       "                          Equity(46721 [LQ])           0.007036  0.028599  \n",
       "                          Equity(46778 [IMUX])        -0.120490  0.012316  \n",
       "                          Equity(46910 [SFBS])         0.035664  0.027127  \n",
       "                          Equity(46932 [TBPH])        -0.058137  0.000185  \n",
       "                          Equity(46951 [CTRE])        -0.054937  0.026774  \n",
       "                          Equity(47146 [ARDX])        -0.052677  0.002473  \n",
       "                          Equity(47169 [KITE])        -0.014887  0.038440  \n",
       "                          Equity(47227 [GBIM])        -0.050000  0.005459  \n",
       "                          Equity(47322 [ROKA])         0.006623  0.015701  \n",
       "                          Equity(47333 [TUBE])        -0.039037  0.049356  \n",
       "                          Equity(47351 [NAME])        -0.031215  0.005932  \n",
       "                          Equity(47383 [OCUL])        -0.080265  0.016345  \n",
       "                          Equity(47414 [CTLT])        -0.013436  0.003006  \n",
       "                          Equity(47422 [ADVM])        -0.149697  0.008205  \n",
       "                          Equity(47432 [LOXO])        -0.088509  0.010696  \n",
       "                          Equity(47465 [HMLP])         0.008601  0.019754  \n",
       "                          Equity(47476 [GNBC])         0.093281  0.036628  \n",
       "                          Equity(47826 [BTX_WS])      -0.016260  0.038508  \n",
       "                          Equity(48025 [NVRO])        -0.058062  0.003100  \n",
       "                          Equity(48126 [HABT])         0.128278  0.036666  \n",
       "                          Equity(48139 [CPHR])        -0.022678  0.004461  \n",
       "                          Equity(48215 [QSR])         -0.006363  0.023286  \n",
       "                          Equity(48252 [AVOL])         0.002660  0.004733  \n",
       "                          Equity(48293 [BBP])         -0.004043  0.013527  \n",
       "                          Equity(48294 [BBC])         -0.006573  0.009271  \n",
       "                          Equity(48317 [JUNO])        -0.047397  0.031743  \n",
       "                          Equity(48376 [SBIO])        -0.015756  0.009657  \n",
       "                          Equity(48823 [SEDG])         0.077560  0.021321  \n",
       "\n",
       "[344 rows x 4 columns]"
      ]
     },
     "execution_count": 12,
     "metadata": {},
     "output_type": "execute_result"
    }
   ],
   "source": [
    "result = run_pipeline(make_pipeline(), '2015-05-05', '2015-05-05')\n",
    "result"
   ]
  },
  {
   "cell_type": "markdown",
   "metadata": {},
   "source": [
    "https://www.quantopian.com/posts/strange-behaviour-of-customfactor-calculating-slope-of-linear-regression"
   ]
  },
  {
   "cell_type": "code",
   "execution_count": 49,
   "metadata": {},
   "outputs": [
    {
     "data": {
      "text/plain": [
       "array([ 0.00308408, -0.00387872, -0.01011444,  0.0106975 ,  0.00313256])"
      ]
     },
     "execution_count": 49,
     "metadata": {},
     "output_type": "execute_result"
    }
   ],
   "source": [
    "x =np.array( [[ 0.00308408],\n",
    " [-0.00387872],\n",
    " [-0.01011444],\n",
    " [ 0.0106975 ],\n",
    " [ 0.00313256]])\n",
    "x.ravel()"
   ]
  },
  {
   "cell_type": "code",
   "execution_count": null,
   "metadata": {},
   "outputs": [],
   "source": [
    "x = DailyReturns()"
   ]
  }
 ],
 "metadata": {
  "kernelspec": {
   "display_name": "Python 3.5",
   "language": "python",
   "name": "py35"
  },
  "language_info": {
   "codemirror_mode": {
    "name": "ipython",
    "version": 3
   },
   "file_extension": ".py",
   "mimetype": "text/x-python",
   "name": "python",
   "nbconvert_exporter": "python",
   "pygments_lexer": "ipython3",
   "version": "3.5.10"
  }
 },
 "nbformat": 4,
 "nbformat_minor": 2
}
